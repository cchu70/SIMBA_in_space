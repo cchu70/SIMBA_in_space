


%load_ext autoreload
%autoreload 2


import os
import scanpy as sc
import pandas as pd

# approximate original figure in http://spatial.libd.org/spatialLIBD/
palette_celltype={'L1':'#eb34a8',
                  'L2':'#3486eb',
                  'L3':'#34eb5b',
                  'L4':"#ae34eb",
                  'L5':'#ebdb34',
                  'L6':'#eb9234',
                  'WM':'#000000'}

palette_entity_anno = palette_celltype.copy()
palette_entity_anno['gene'] = "lightgray"


import simba as si


si.settings.set_figure_params(
    dpi=80,
    style='white',
    fig_size=[5,5],
    rc={'image.cmap': 'viridis'}
)

from matplotlib_inline.backend_inline import set_matplotlib_formats
set_matplotlib_formats('retina')
import matplotlib.pyplot as plt


from benchmarking.plot import generate_umap_figures, generate_pca_figures, combine_images





pca_fn = "../results/00/pca_rna/run_pca.output.tsv"


pca_output_df = pd.read_csv(pca_fn, sep='\t', index_col=0)


pca_output_df = generate_pca_figures(
    pca_output_df,
    path_col='run_pca',
    fig_path='../results/00/pca_rna/PCA',
    adata_color_col='spatialLIBD',
    fig_exts=['png', 'svg'],
    cell_embedding_adata_fn='adata_CG.h5ad'
)


fig, axes = combine_images(
    pca_output_df, img_path_col='pca_fig_png',
    x_min=50,
    x_max=700,
    y_min=50,# top
    y_max=700, # bottom
)
plt.show()





simba_rna_only_output_fn = "../results/00/simba_rna_only/run_simba_rna_only.output.tsv"
simba_rna_only_output_df = pd.read_csv(simba_rna_only_output_fn, sep='\t', index_col=0)


simba_rna_only_output_df = generate_umap_figures(
    simba_rna_only_output_df,
    path_col='run_simba_rna_only',
    fig_path='../results/00/simba_rna_only/UMAP',
    adata_color_col='spatialLIBD',
    fig_exts=['png', 'svg'],
)


fig, axes = combine_images(simba_rna_only_output_df, img_path_col='umap_fig_png')
plt.show()





simba_spatial_output_fn = "../results/00/simba_spatial_only/run_simba_spatial_only.output.tsv"
simba_spatial_output_df = pd.read_csv(simba_spatial_output_fn, sep='\t', index_col=0)


simba_spatial_output_df.head()


simba_spatial_output_df = generate_umap_figures(
    simba_spatial_output_df,
    path_col='run_simba_spatial_only',
    fig_path='../results/00/simba_spatial_only/UMAP',
    adata_color_col='spatialLIBD',
    fig_exts=['png', 'svg'],
)


fig, axes = combine_images(simba_spatial_output_df, img_path_col='umap_fig_png')
plt.show()



