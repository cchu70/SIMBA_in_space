


%load_ext autoreload
%autoreload 2


import os
import scanpy as sc
import pandas as pd

# approximate original figure in http://spatial.libd.org/spatialLIBD/
palette_celltype={'L1':'#eb34a8',
                  'L2':'#3486eb',
                  'L3':'#34eb5b',
                  'L4':"#ae34eb",
                  'L5':'#ebdb34',
                  'L6':'#eb9234',
                  'WM':'#000000'}

palette_entity_anno = palette_celltype.copy()
palette_entity_anno['gene'] = "lightgray"


import simba as si


si.settings.set_figure_params(
    dpi=80,
    style='white',
    fig_size=[5,5],
    rc={'image.cmap': 'viridis'}
)

from matplotlib_inline.backend_inline import set_matplotlib_formats
set_matplotlib_formats('retina')


import matplotlib.pyplot as plt
import matplotlib.image as mpimg
import tqdm


from benchmarking.plot import generate_umap_figures, generate_pca_figures, combine_images





dlpfc_dir = '../data/human_DLPFC'


os.listdir(dlpfc_dir)





R_dlpfc_dir = '../data/human_DLPFC_RData_Shang'
os.listdir(R_dlpfc_dir)


python_path = '/Users/cchu/opt/anaconda3/envs/env_simba/bin/python'











pca_fn = "../results/00/pca_rna/run_pca.output.tsv"





spatial_





! benchmarking/simba_rna_only.sh


simba_rna_only_output_fn = "../results/00/simba_rna_only/run_simba_rna_only.output.tsv"








simba_spatial_fn = "../results/00/simba_spatial_only/run_simba_spatial_only.output.tsv"



