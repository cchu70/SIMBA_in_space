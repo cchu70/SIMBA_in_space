


%load_ext autoreload
%autoreload 2


import os
import scanpy as sc
import pandas as pd

# approximate original figure in http://spatial.libd.org/spatialLIBD/
palette_celltype={'L1':'#eb34a8',
                  'L2':'#3486eb',
                  'L3':'#34eb5b',
                  'L4':"#ae34eb",
                  'L5':'#ebdb34',
                  'L6':'#eb9234',
                  'WM':'#000000'}

palette_entity_anno = palette_celltype.copy()
palette_entity_anno['gene'] = "lightgray"


import simba as si


si.settings.set_figure_params(
    dpi=80,
    style='white',
    fig_size=[5,5],
    rc={'image.cmap': 'viridis'}
)

from matplotlib_inline.backend_inline import set_matplotlib_formats
set_matplotlib_formats('retina')





dlpfc_dir = '../data/human_DLPFC'


os.listdir(dlpfc_dir)


python_path = '/Users/cchu/opt/anaconda3/envs/env_simba/bin/python'











pca_fn = "../results/00/pca_rna/run_pca.output.tsv"











! benchmarking/simba_rna_only.sh


simba_rna_only_output_fn = "../results/00/simba_rna_only/run_simba_rna_only.output.tsv"


simba_rna_only_output_df = pd.read_csv(simba_rna_only_output_fn, sep='\t', index_col=0)


simba_rna_only_output_df.iloc[0]['run_simba_rna_only']


adata_C = sc.read_h5ad('../results/00/simba_rna_only/151675/adata_C.h5ad')
adata_C


si.tl.umap(adata_C,n_neighbors=15,n_components=2)


si.pl.umap(
    adata_C,color=['spatialLIBD'],
    dict_palette={'spatialLIBD': palette_celltype},
    fig_size=(6,4),
    drawing_order='random'
)









