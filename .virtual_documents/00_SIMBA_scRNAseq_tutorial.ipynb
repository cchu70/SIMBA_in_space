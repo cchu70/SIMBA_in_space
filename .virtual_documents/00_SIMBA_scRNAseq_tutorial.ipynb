


import numpy as np


import os
import simba as si
si.__version__


workdir = 'result_simba_rnaseq'
si.settings.set_workdir(workdir)


si.settings.set_figure_params(
    dpi=80,
    style='white',
    fig_size=[5,5],
    rc={'image.cmap': 'viridis'}
)


from matplotlib_inline.backend_inline import set_matplotlib_formats
set_matplotlib_formats('retina')





adata_CG = si.datasets.rna_10xpmbc3k()


adata_CG





si.pp.filter_genes(adata_CG,min_n_cells=3)


si.pp.cal_qc_rna(adata_CG)


si.pl.violin(adata_CG,list_obs=['n_counts','n_genes','pct_mt'])





si.pp.filter_cells_rna(adata_CG,min_n_genes=100)





si.pp.normalize(adata_CG,method='lib_size')
si.pp.log_transform(adata_CG)





si.pp.select_variable_genes(adata_CG, n_top_genes=2000)
si.pl.variable_genes(adata_CG,show_texts=True)


adata_CG.var['highly_variable'].value_counts()





si.tl.discretize(adata_CG,n_bins=5)
si.pl.discretize(adata_CG,kde=False)


adata_CG.obs.head()


display(adata_CG.obs.describe())
display(adata_CG.var.describe())


np.unique(adata_CG.layers['simba'].toarray())





si.tl.gen_graph(
    list_CG=[adata_CG],
    layer='simba',
    use_highly_variable=False, 
    dirname='graph0'
)








si.settings.pbg_params


si.tl.pbg_train(auto_wd=True, save_wd=True, output='model')





si.pl.pbg_metrics(fig_ncol=1)





# # modify parameters
# dict_config = si.settings.pbg_params.copy()
# # dict_config['wd'] = 0.015521
# dict_config['wd_interval'] = 10 # we usually set `wd_interval` to 10 for scRNA-seq datasets for a slower but finer training
# dict_config['workers'] = 12 #The number of CPUs.

# ## start training
# si.tl.pbg_train(pbg_params = dict_config, auto_wd=True, save_wd=True, output="model2")





# read in entity embeddings obtained from pbg training.
dict_adata = si.read_embedding()
dict_adata


adata_C = dict_adata['C']  # embeddings of cells
adata_G = dict_adata['G']  # embeddings of genes


adata_C.obs['celltype'] = adata_CG[adata_C.obs_names,:].obs['celltype'].copy()
adata_C


palette_celltype={'B':'#1f77b4',
                  'CD4 T':'#ff7f0e',
                  'CD8 T':'#279e68',
                  'Dendritic':"#aa40fc",
                  'CD14 Monocytes':'#d62728',
                  'FCGR3A Monocytes':'#b5bd61',
                  'Megakaryocytes':'#e377c2',
                  'NK':'#8c564b'}


si.tl.umap(adata_C,n_neighbors=15,n_components=2)
si.pl.umap(
    adata_C,color=['celltype'],
    dict_palette={'celltype': palette_celltype},
    fig_size=(6,4),
    drawing_order='random'
)





# embed cells and genes into the same space
adata_all = si.tl.embed(adata_ref=adata_C,list_adata_query=[adata_G])
adata_all.obs.head()


adata_all.obs.tail()


## add annotations of cells and genes
adata_all.obs['entity_anno'] = ""
adata_all.obs.loc[adata_C.obs_names, 'entity_anno'] = adata_all.obs.loc[adata_C.obs_names, 'celltype']
adata_all.obs.loc[adata_G.obs_names, 'entity_anno'] = 'gene'
adata_all.obs.head()


palette_entity_anno = palette_celltype.copy()
palette_entity_anno['gene'] = "#607e95"





si.tl.umap(adata_all,n_neighbors=15,n_components=2)
si.pl.umap(adata_all[::-1,],color=['id_dataset','entity_anno'],
           dict_palette={'entity_anno': palette_entity_anno},
           drawing_order='original',
           fig_size=(6,5))


# highlight some marker genes in the co-embedding space
marker_genes = ['IL7R', 'CD79A', 'MS4A1', 'CD8A', 'CD8B', 'LYZ', 'CD14',
                'LGALS3', 'S100A8', 'GNLY', 'NKG7', 'KLRB1',
                'FCGR3A', 'MS4A7', 'FCER1A', 'CST3', 'PPBP']
si.pl.umap(adata_all[::-1,],color=['entity_anno'],dict_palette={'entity_anno': palette_entity_anno},
           drawing_order='original',
           texts=marker_genes + ['GAPDH', 'B2M'],
           show_texts=True,
           fig_size=(8,6))





# obtain variable genes
si.pp.select_variable_genes(adata_CG, n_top_genes=3000)
var_genes = adata_CG.var_names[adata_CG.var['highly_variable']].tolist()
# obtain SIMBA embeddings of cells and variable genes
adata_all2 = adata_all[list(adata_C.obs_names) + var_genes,].copy()
# visualize them using UMAP
si.tl.umap(adata_all2,n_neighbors=15,n_components=2)
si.pl.umap(adata_all2[::-1],color=['entity_anno'],
           dict_palette={'entity_anno': palette_entity_anno},
           drawing_order='original',
           fig_size=(6,5))




