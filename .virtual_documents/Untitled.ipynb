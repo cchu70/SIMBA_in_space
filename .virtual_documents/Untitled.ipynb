


%load_ext autoreload
%autoreload 2


import scanpy as sc


import os
import simba as si
si.__version__


workdir = 'result_simba_rnaseq_spatialLIBD'
si.settings.set_workdir(workdir)


si.settings.set_figure_params(
    dpi=80,
    style='white',
    fig_size=[5,5],
    rc={'image.cmap': 'viridis'}
)


from matplotlib_inline.backend_inline import set_matplotlib_formats
set_matplotlib_formats('retina')








h5_fn = "./result_simba_rnaseq_spatialLIBD/data/151673.h5ad"


adata_CG = sc.read_h5ad(h5_fn)
adata_CG


adata_CG.obs['spatialLIBD']


si.pp.cal_qc_rna(adata_CG)


si.pl.violin(adata_CG,list_obs=['n_counts','n_genes','pct_mt'])








si.tl.discretize(adata_CG,n_bins=5)
si.pl.discretize(adata_CG,kde=False)


adata_CG.layers





si.tl.gen_graph(
    list_CG=[adata_CG],
    layer='simba',
    use_highly_variable=False, 
    dirname='graph0'
)


# si.settings.pbg_params, may need to adjust training parameters


si.tl.pbg_train(auto_wd=True, save_wd=True, output='model')


si.pl.pbg_metrics(fig_ncol=1)





# read in entity embeddings obtained from pbg training.
dict_adata = si.read_embedding()
dict_adata


adata_C = dict_adata['C']  # embeddings of cells
adata_G = dict_adata['G']  # embeddings of genes


adata_C.obs['spatialLIBD'] = adata_CG[adata_C.obs_names,:].obs['spatialLIBD'].copy()
adata_C


adata_C.obs['spatialLIBD'].value_counts()


# approximate original figure in http://spatial.libd.org/spatialLIBD/
palette_celltype={'L1':'#eb34a8',
                  'L2':'#3486eb',
                  'L3':'#34eb5b',
                  'L4':"#ae34eb",
                  'L5':'#ebdb34',
                  'L6':'#eb9234',
                  'WM':'#000000'}


si.tl.umap(adata_C,n_neighbors=15,n_components=2)
si.pl.umap(
    adata_C,color=['spatialLIBD'],
    dict_palette={'spatialLIBD': palette_celltype},
    fig_size=(6,4),
    drawing_order='random'
)





# embed cells and genes into the same space
adata_all = si.tl.embed(adata_ref=adata_C,list_adata_query=[adata_G])
adata_all.obs.head()


## add annotations of cells and genes
adata_all.obs['entity_anno'] = ""
adata_all.obs.loc[adata_C.obs_names, 'entity_anno'] = adata_all.obs.loc[adata_C.obs_names, 'spatialLIBD']
adata_all.obs.loc[adata_G.obs_names, 'entity_anno'] = 'gene'
adata_all.obs.head()


palette_entity_anno = palette_celltype.copy()
palette_entity_anno['gene'] = "lightgray"


si.tl.umap(adata_all,n_neighbors=15,n_components=2)
si.pl.umap(adata_all[::-1,],color=['id_dataset','entity_anno'],
           dict_palette={'entity_anno': palette_entity_anno},
           drawing_order='original',
           fig_size=(6,5))





adata_cmp = si.tl.compare_entities(adata_ref=adata_C, adata_query=adata_G)
adata_cmp


adata_cmp.var.sort_values(by='max', ascending=False).head(20)


# SIMBA metrics can be visualized using the following function:
si.pl.entity_metrics(adata_cmp,
                     x='max',
                     y='gini',
                     show_contour=False,
                     # texts=marker_genes + ['GAPDH', 'B2M'],
                     show_texts=True,
                     show_cutoff=True,
                     size=5,
                     text_expand=(1.3,1.5),
                     cutoff_x=1.,
                     cutoff_y=0.3,
                     save_fig=False)





list_genes = adata_cmp.var.sort_values(by='max', ascending=False).head(3).index.tolist()
list_genes


# add annoations of cells
adata_cmp.obs['spatialLIBD'] = adata_CG.obs.loc[adata_cmp.obs_names,'spatialLIBD']
si.pl.entity_barcode(adata_cmp,
                     layer='softmax',
                     entities=list_genes,
                     anno_ref='spatialLIBD',
                     show_cutoff=True,
                     cutoff=0.001,
                     palette=palette_celltype,
                     fig_size=(6, 2.5),
                     save_fig=False)


adata_CG.obsm['X_umap'] = adata_C[adata_CG.obs_names,].obsm['X_umap'].copy()
si.pl.umap(adata_CG,
           color=list_genes,
           drawing_order='sorted',
           size=5,
           alpha=0.9,
           fig_ncol=4,
           fig_size=(4,4),
           save_fig=False)


# find neighbor genes of a given gene on UMAP
query_result = si.tl.query(adata_all,
                           entity=['DNAH17'],
                           obsm='X_umap',
                           use_radius=False,
                           k=50,
                           anno_filter='entity_anno',
                           filters=['gene']
                           )
print(query_result.shape)
query_result.iloc[:10,]





adata_CG.write(os.path.join(workdir, 'adata_CG.h5ad'))
adata_C.write(os.path.join(workdir, 'adata_C.h5ad'))
adata_G.write(os.path.join(workdir, 'adata_G.h5ad'))
adata_all.write(os.path.join(workdir, 'adata_all.h5ad'))
adata_cmp.write(os.path.join(workdir, 'adata_cmp.h5ad'))



