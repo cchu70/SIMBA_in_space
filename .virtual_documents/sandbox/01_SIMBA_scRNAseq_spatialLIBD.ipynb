


%load_ext autoreload
%autoreload 2


import scanpy as sc
import seaborn as sns
import matplotlib.pyplot as plt
from src.plot import plot_spatial, palette_celltype
import numpy as np
import pandas as pd
import copy


import os
import simba as si
si.__version__


workdir = 'result_simba_rnaseq_spatialLIBD'
si.settings.set_workdir(workdir)


si.settings.set_figure_params(
    dpi=80,
    style='white',
    fig_size=[5,5],
    rc={'image.cmap': 'viridis'}
)


from matplotlib_inline.backend_inline import set_matplotlib_formats
set_matplotlib_formats('retina')


# approximate original figure in http://spatial.libd.org/spatialLIBD/
palette_celltype={'L1':'#eb34a8',
                  'L2':'#3486eb',
                  'L3':'#34eb5b',
                  'L4':"#ae34eb",
                  'L5':'#ebdb34',
                  'L6':'#eb9234',
                  'WM':'#000000'}








h5_fn = "./result_simba_rnaseq_spatialLIBD/data/151673.h5ad"


adata_CG = sc.read_h5ad(h5_fn)
adata_CG


adata_CG.obsm['spatial']


sc.pl.pca(adata_CG, color=['spatialLIBD'], palette=palette_celltype)


sc.pl.pca(adata_CG, color=['spatialLIBD'], palette=palette_celltype, dimensions=(1, 2))


sc.pl.pca(adata_CG, color=['spatialLIBD'], palette=palette_celltype, projection='3d')


adata_CG.obs['spatialLIBD']


si.pp.cal_qc_rna(adata_CG)


si.pl.violin(adata_CG,list_obs=['n_counts','n_genes','pct_mt'])


spatialLIBD_label_counts_df = adata_CG.obs.spatialLIBD.value_counts().to_frame()
spatialLIBD_label_counts_df


sns.barplot(spatialLIBD_label_counts_df.T, palette=palette_celltype)
plt.ylabel("Num barcodes")
plt.show()





def plot_obs_spatial(
    adata, 
    obs_cols=['n_counts'],
    filter_col=None,
    filter_vals=None,
    x_obs_col="array_col",  # Use col as x to get the correct orientation
    y_obs_col="array_row",
    palette='viridis',
    fig_ncol=2,
    fig_size=(4,4),
    vmin=None, # list same length as obs_col
    vmax=None,
    **kwargs
):

    # Calculate number of rows needed
    fig_nrow = int(np.ceil(len(obs_cols) / fig_ncol))
    
    # Create figure and axes
    fig, axes = plt.subplots(
        fig_nrow, fig_ncol, 
        figsize=(fig_size[0]*fig_ncol, fig_size[1]*fig_nrow), 
        sharex=True, sharey=True,
        squeeze=False  # This ensures axes is always 2D
    )
    
    # Flatten axes for easier iteration of multiple rows
    axes_flat = axes.flatten()

    obs_df = copy.deepcopy(adata_CG.obs)

    if filter_col:
        obs_df = obs_df[obs_df[filter_col].isin(filter_vals)]
    
    for i, col in enumerate(obs_cols):
        ax = axes_flat[i]

        g = sns.scatterplot(
            data=adata.obs, 
            x=x_obs_col, 
            y=y_obs_col, 
            ax=ax,
            color='lightgrey',  # We'll color the points manually
            **kwargs
        )
        
        scatter = ax.scatter(
            x=obs_df[x_obs_col],
            y=obs_df[y_obs_col],
            c=obs_df[col],
            cmap=palette,
            vmin=obs_df[col].min() if vmin is None else vmin[i],
            vmax=obs_df[col].max() if vmax is None else vmax[i],
            **kwargs
        )
    
        # Add colorbar
        plt.colorbar(scatter, ax=ax)
        
        ax.set_facecolor('k')
        ax.set_xlabel(None)
        ax.set_ylabel(None)
        ax.set_xticks([])
        ax.set_yticks([])
        ax.set_title(col)

    ax.invert_yaxis()
    return fig, ax


plot_obs_spatial(adata_CG, obs_cols=['n_counts', 'n_genes'], s=4)


plt.scatter(x=np.asarray(adata_CG.layers['counts'].sum(axis=1).squeeze()[0]), y=adata_CG.obs['n_counts'], s=3, alpha=0.2)
plt.plot([0, 5000], [0, 5000])
plt.xlabel('normalized counts sum')
plt.ylabel('n_counts')


adata_CG.layers['counts'].sum(axis=1).squeeze()[0]


adata_CG.obs['n_counts']


for spatial_label in adata_CG.obs['spatialLIBD'].unique().sort_values():
    fig, ax = plot_obs_spatial(
        adata_CG, obs_cols=['n_counts', 'n_genes'], s=4, 
        filter_col='spatialLIBD', filter_vals=[spatial_label],
        vmin=[adata_CG.obs['n_counts'].min(), adata_CG.obs['n_genes'].min()],
        vmax=[adata_CG.obs['n_counts'].max(), adata_CG.obs['n_genes'].max()]
    )
    fig.suptitle(spatial_label)
    plt.show()





sns.relplot(
    data=adata_CG.obs, x="n_counts", y="n_genes",
    col="spatialLIBD", hue="spatialLIBD", palette=palette_celltype, s=5,
    kind="scatter", col_wrap=4
)





si.tl.discretize(adata_CG,n_bins=5)
si.pl.discretize(adata_CG,kde=False)


adata_CG.layers





si.tl.gen_graph(
    list_CG=[adata_CG],
    layer='simba',
    use_highly_variable=False, 
    dirname='graph0'
)


si.settings.pbg_params


si.tl.pbg_train(auto_wd=True, save_wd=True, output='model')


si.pl.pbg_metrics(fig_ncol=1)





# read in entity embeddings obtained from pbg training.
dict_adata = si.read_embedding()
dict_adata


adata_C = dict_adata['C']  # embeddings of cells
adata_G = dict_adata['G']  # embeddings of genes


adata_C.obs['spatialLIBD'] = adata_CG[adata_C.obs_names,:].obs['spatialLIBD'].copy()
adata_C.obs['n_counts'] = adata_CG[adata_C.obs_names,:].obs['n_counts'].copy()
adata_C.obs['n_genes'] = adata_CG[adata_C.obs_names,:].obs['n_genes'].copy()
adata_C


adata_C.obs['spatialLIBD'].value_counts()


si.tl.umap(adata_C,n_neighbors=15,n_components=2)
si.pl.umap(
    adata_C,color=['spatialLIBD', 'n_counts', 'n_genes'],
    dict_palette={'spatialLIBD': palette_celltype},
    fig_size=(6,4),
    drawing_order='random'
)


si.preprocessing.pca(adata_C)


import seaborn as sns


sns.scatterplot(x=adata_C.X[:, 0], y=adata_C.X[:, 1])


sns.scatterplot(x=adata_C.obsm['X_pca'][:, 0], y=adata_C.obsm['X_pca'][:, 1])


sc.pl.pca(adata_C, color=['spatialLIBD'], palette=palette_celltype, dimensions=(0, 1))


sc.pl.pca(adata_C, color=['spatialLIBD'], palette=palette_celltype, dimensions=(1, 2))


sc.pl.pca(adata_C, color=['spatialLIBD'], palette=palette_celltype, dimensions=(2, 3))


sc.pl.pca(adata_C, color=['spatialLIBD'], palette=palette_celltype, projection='3d')


import plotly.express as px


sc.pl.pca(adata_C, color=['n_counts', 'n_genes'], projection='3d')


def plotly_PCA_3d(adata, obs_col, color_discrete_map=None):
    fig = px.scatter_3d(
        x=adata.obsm['X_pca'][:, 0], 
        y=adata.obsm['X_pca'][:, 1], 
        z=adata.obsm['X_pca'][:, 2],
        color = adata.obs[obs_col],
        width=500, height=500,
        color_discrete_map=color_discrete_map
    )
    fig.update_layout(#plot_bgcolor='rgb(12,163,135)',
                      #paper_bgcolor='rgb(12,163,135)'
                      #coloraxis={"colorbar": {"x": -0.2, "len": 0.5, "y": 0.8}}, #I think this is for contours
                     scene = dict(
                                    xaxis = dict(
                                         backgroundcolor="rgba(0, 0, 0,0)",
                                         gridcolor="white",
                                         showbackground=True,
                                         zerolinecolor="white",),
                                    yaxis = dict(
                                        backgroundcolor="rgba(0, 0, 0,0)",
                                        gridcolor="white",
                                        showbackground=True,
                                        zerolinecolor="white"),
                                    zaxis = dict(
                                        backgroundcolor="rgba(0, 0, 0,0)",
                                        gridcolor="white",
                                        showbackground=True,
                                        zerolinecolor="white",),),
                     )
    fig.update_traces(marker=dict(size=2))
    fig.show()


plotly_PCA_3d(adata_C, obs_col='spatialLIBD', color_discrete_map=palette_celltype)


plotly_PCA_3d(adata_C, obs_col='n_counts')


plotly_PCA_3d(adata_C, obs_col='n_genes')





def plot_pc_corr(adata, PCs, cols, hue, figsize=(5, 5), palette=None, **kwargs):
    fig_nrow = len(PCs)
    fig_ncol = len(cols)
    
    fig, axes = plt.subplots(
        fig_nrow, fig_ncol, 
        figsize=(figsize[0]*fig_ncol, figsize[1]*fig_nrow), 
        squeeze=False  # This ensures axes is always 2D
    )
    
    for pc in PCs:
        
        for i, c in enumerate(cols):
            ax = axes[pc][i]
            sns.scatterplot(
                x=adata.obsm['X_pca'][:, pc], y=adata_C.obs[c], 
                ax=ax,
                hue=adata_C.obs[hue],
                palette=palette,
                **kwargs
            )
            ax.set_title(c)
            ax.set_xlabel(f'PCA Component {pc}')
    plt.tight_layout()
    plt.show()



plot_pc_corr(adata_C, PCs=[0, 1, 2], cols=['n_counts', 'n_genes'], hue='spatialLIBD', palette=palette_celltype, s=4)





# embed cells and genes into the same space
adata_all = si.tl.embed(adata_ref=adata_C,list_adata_query=[adata_G])
adata_all.obs.head()


## add annotations of cells and genes
adata_all.obs['entity_anno'] = ""
adata_all.obs.loc[adata_C.obs_names, 'entity_anno'] = adata_all.obs.loc[adata_C.obs_names, 'spatialLIBD']
adata_all.obs.loc[adata_G.obs_names, 'entity_anno'] = 'gene'
adata_all.obs.head()


palette_entity_anno = palette_celltype.copy()
palette_entity_anno['gene'] = "lightgray"


# reload
adata_all = sc.read_h5ad(os.path.join(workdir, 'adata_all.h5ad'))
adata_CG = sc.read_h5ad(os.path.join(workdir, 'adata_CG.h5ad'))
adata_C = sc.read_h5ad(os.path.join(workdir, 'adata_C.h5ad'))


si.tl.umap(adata_all,n_neighbors=15,n_components=2)
si.pl.umap(adata_all[::-1,],color=['id_dataset','entity_anno'],
           dict_palette={'entity_anno': palette_entity_anno},
           drawing_order='original',
           fig_size=(6,5))


si.pp.select_variable_genes(adata_CG,layer='counts', n_top_genes=3000)
var_genes = adata_CG.var_names[adata_CG.var['highly_variable']].tolist()


# obtain SIMBA embeddings of cells and variable genes
adata_all2 = adata_all[list(adata_C.obs_names) + var_genes,].copy()
# visualize them using UMAP
si.tl.umap(adata_all2,n_neighbors=15,n_components=2)
si.pl.umap(adata_all2[::-1,], color=['id_dataset','entity_anno'],
           dict_palette={'entity_anno': palette_entity_anno},
           drawing_order='original',
           fig_size=(6,5))





# find neighbor genes of a given gene on UMAP
query_result = si.tl.query(adata_all2,
                           pin=(2.3, 4.5),
                           obsm='X_umap',
                           use_radius=False,
                           k=50,
                           anno_filter='entity_anno',
                           filters=['gene']
                           )
print(query_result.shape)
query_result.iloc[:10,]


# show locations of entity and its neighbor genes
si.pl.query(adata_all2,
            obsm='X_umap',
            color=['entity_anno'], dict_palette={'entity_anno': palette_entity_anno},
            alpha=0.9,
            alpha_bg=0.1,
            fig_size=(7,5))


plot_spatial(adata_CG, color=query_result.iloc[:5].index, fig_ncol=3, s=4, vmin=0, vmax=5)
plt.show()





canonical_markers = ["CCK", "ENC1", "CUX2", "RORB", "NTNG2", "FABP7", "ADCYAP1", "PVALB"] # Maynard 2020
more_markers = ["AQP4", "HPCAL1", "FREM3", "TRABD2A", "KRT17"]
# AQP4 (L1), HPCAL1 (L2), FREM3 (L3), TRABD2A (L5) and KRT17 (L6) 


adata_cmp = si.tl.compare_entities(adata_ref=adata_C, adata_query=adata_G)
adata_cmp


adata_cmp.var.sort_values(by='max', ascending=False).head()


adata_cmp.var['canonical_layer'] = np.nan
adata_cmp.var.loc[
    ["AQP4", "HPCAL1", "FREM3", "TRABD2A", "KRT17", "MOBP"],
    'canonical_layer'
] = ["L1", "L2", "L3", "L5", "L6", "WM"]


sns.scatterplot(adata_cmp.var, x='max', y='gini', color='lightgray', alpha=0.5, s=5)
sns.scatterplot(adata_cmp.var, x='max', y='gini', hue='canonical_layer', palette=palette_celltype, s=30, marker='D', edgecolors='k', linewidth=1)
for i, r in adata_cmp.var.dropna(subset=['canonical_layer']).iterrows():
    layer = r['canonical_layer']
    plt.text(r['max']+.02, r['gini'], f"{layer} ({i})", color='k')
    
plt.axvline(1.0, linestyle='--', c='r')
plt.axhline(0.3, linestyle='--', c='r')
plt.legend(bbox_to_anchor=(1, 1))
plt.show()


# SIMBA metrics can be visualized using the following function:
si.pl.entity_metrics(adata_cmp,
                     x='max',
                     y='gini',
                     show_contour=True,
                     # texts=marker_genes + ['GAPDH', 'B2M'],
                     show_texts=True,
                     show_cutoff=True,
                     size=5,
                     text_expand=(1.3,1.5),
                     cutoff_x=1.,
                     cutoff_y=0.3,
                     save_fig=False, alpha=0.1)


# SIMBA metrics can be visualized using the following function:
si.pl.entity_metrics(adata_cmp,
                     x='max',
                     y='gini',
                     show_contour=False,
                     texts=canonical_markers,
                     show_texts=True,
                     show_cutoff=True,
                     size=5,
                     text_expand=(1.3,1.5),
                     cutoff_x=1.,
                     cutoff_y=0.3,
                     save_fig=False, alpha=0.1)



# SIMBA metrics can be visualized using the following function:
si.pl.entity_metrics(adata_cmp,
                     x='max',
                     y='gini',
                     show_contour=False,
                     texts=more_markers,
                     show_texts=True,
                     show_cutoff=True,
                     size=5,
                     text_expand=(1.3,1.5),
                     cutoff_x=1.,
                     cutoff_y=0.3,
                     save_fig=False, alpha=0.1)



# SIMBA metrics can be visualized using the following function:
si.pl.entity_metrics(adata_cmp,
                     x='max',
                     y='std',
                     show_contour=False,
                     texts=canonical_markers + add_markers + more_markers,
                     show_texts=True,
                     show_cutoff=True,
                     size=5,
                     text_expand=(1.3,1.5),
                     cutoff_x=1.,
                     save_fig=False)





top_genes = adata_cmp.var.sort_values(by='gini', ascending=False).head(3).index.tolist()
list_genes = top_genes + canonical_markers + add_markers + more_markers
list_genes


# add annotations of cells
adata_cmp.obs['spatialLIBD'] = adata_CG.obs.loc[adata_cmp.obs_names,'spatialLIBD']
si.pl.entity_barcode(adata_cmp,
                     layer='softmax',
                     entities=top_genes,
                     anno_ref='spatialLIBD',
                     show_cutoff=True,
                     cutoff=0.001,
                     palette=palette_celltype,
                     fig_size=(6, 2.5),
                     save_fig=False)


# add annotations of cells
adata_cmp.obs['spatialLIBD'] = adata_CG.obs.loc[adata_cmp.obs_names,'spatialLIBD']
si.pl.entity_barcode(adata_cmp,
                     layer='softmax',
                     entities=canonical_markers,
                     anno_ref='spatialLIBD',
                     show_cutoff=True,
                     cutoff=0.001,
                     palette=palette_celltype,
                     fig_size=(6, 2.5),
                     save_fig=False, fig_ncol=2)


# add annotations of cells
adata_cmp.obs['spatialLIBD'] = adata_CG.obs.loc[adata_cmp.obs_names,'spatialLIBD']
si.pl.entity_barcode(adata_cmp,
                     layer='softmax',
                     entities=more_markers,
                     anno_ref='spatialLIBD',
                     show_cutoff=True,
                     cutoff=0.001,
                     palette=palette_celltype,
                     fig_size=(6, 2.5),
                     save_fig=False, fig_ncol=2)


adata_CG.obsm['X_umap'] = adata_C[adata_CG.obs_names,].obsm['X_umap'].copy()
si.pl.umap(adata_CG,
           color=top_genes,
           drawing_order='sorted',
           size=5,
           alpha=0.9,
           fig_ncol=2,
           fig_size=(4,4),
           save_fig=False)


adata_CG.obsm['X_umap'] = adata_C[adata_CG.obs_names,].obsm['X_umap'].copy()
si.pl.umap(adata_CG,
           color=canonical_markers,
           drawing_order='sorted',
           size=5,
           alpha=0.9,
           fig_ncol=3,
           fig_size=(4,4),
           save_fig=False)


adata_CG.obsm['X_umap'] = adata_C[adata_CG.obs_names,].obsm['X_umap'].copy()
si.pl.umap(adata_CG,
           color=more_markers,
           drawing_order='sorted',
           size=5,
           alpha=0.9,
           fig_ncol=2,
           fig_size=(4,4),
           save_fig=False)


plot_spatial(adata_CG, color=top_genes, fig_ncol=1, s=4, vmin=0, vmax=5)
plt.show()


plot_spatial(adata_CG, color=canonical_markers, fig_ncol=3, s=4, vmin=0, vmax=5)
plt.show()


plot_spatial(adata_CG, color=more_markers, fig_ncol=2, s=4, vmin=0, vmax=5)
plt.show()


adata_CG.obsm['X_umap'] = adata_C[adata_CG.obs_names,].obsm['X_umap'].copy()
si.pl.umap(adata_CG,
           color=['AQP4'],
           drawing_order='sorted',
           size=5,
           alpha=0.9,
           fig_ncol=2,
           fig_size=(4,4),
           save_fig=False)





# find neighbor genes of a given gene on UMAP
query_result = si.tl.query(adata_all,
                           entity=['AQP4'],
                           obsm='X_umap',
                           use_radius=False,
                           k=50,
                           anno_filter='entity_anno',
                           filters=['gene']
                           )
print(query_result.shape)
query_result.iloc[:10,]


# show locations of entity and its neighbor genes
si.pl.query(adata_all,
            obsm='X_umap',
            color=['entity_anno'], dict_palette={'entity_anno': palette_entity_anno},
            alpha=0.9,
            alpha_bg=0.1,
            fig_size=(7,5))


adata_all.obs.query("spatialLIBD == 'L1'").head()


# find neighbor genes of a given gene on UMAP
query_result = si.tl.query(adata_all,
                           entity=['CTAAACGGGTGTAATC-1'],
                           obsm='X_umap',
                           use_radius=False,
                           k=50,
                           anno_filter='entity_anno',
                           filters=['gene']
                           )
print(query_result.shape)
query_result.iloc[:10,]


# show locations of entity and its neighbor genes
si.pl.query(adata_all,
            obsm='X_umap',
            color=['entity_anno'], dict_palette={'entity_anno': palette_entity_anno},
            alpha=0.9,
            alpha_bg=0.1,
            fig_size=(7,5))











adata_CG.write(os.path.join(workdir, 'adata_CG.h5ad'))
adata_C.write(os.path.join(workdir, 'adata_C.h5ad'))
adata_G.write(os.path.join(workdir, 'adata_G.h5ad'))
adata_all.write(os.path.join(workdir, 'adata_all.h5ad'))
adata_cmp.write(os.path.join(workdir, 'adata_cmp.h5ad'))






