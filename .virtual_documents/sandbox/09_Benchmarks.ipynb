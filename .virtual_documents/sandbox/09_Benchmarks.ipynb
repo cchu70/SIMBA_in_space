


%load_ext autoreload
%autoreload 2


import scanpy as sc
import seaborn as sns
import matplotlib.pyplot as plt
from src.plot import plot_spatial, palette_celltype, plot_obs_spatial
import pandas as pd
import numpy as np
palette_entity_anno = palette_celltype.copy()
palette_entity_anno['gene'] = "lightgray"
from mpl_toolkits.axes_grid1 import make_axes_locatable



import os
import simba as si


simba_spatial_fn = 'result_simba_spatial/adata_C.h5ad'
simba_spatial_adata_C = sc.read_h5ad(simba_spatial_fn)


simba_spatial_adata_C


from sklearn.metrics import silhouette_score, adjusted_rand_score, normalized_mutual_info_score


si.pl.umap(
    simba_spatial_adata_C,color=['spatialLIBD'],
    dict_palette={'spatialLIBD': palette_celltype},
    fig_size=(6,4),
    drawing_order='random'
)





def get_pairwise_distance(adata):
    diff = adata.X[:, np.newaxis, :] - adata.X[np.newaxis, :, :]
    distances = np.sqrt(np.sum(diff**2, axis=2) )
    return distances 


simba_spatial_adata_cell_dst = get_pairwise_distance(simba_spatial_adata_C)


simba_spatial_SC = silhouette_score(X=simba_spatial_adata_cell_dst, labels=simba_spatial_adata_C.obs['spatialLIBD'])


simba_spatial_SC





simba_rna_fn = 'result_simba_rnaseq_spatialLIBD/adata_C.h5ad'
simba_rna_adata_C = sc.read_h5ad(simba_rna_fn)


simba_rna_adata_C


si.pl.umap(
    simba_rna_adata_C,color=['spatialLIBD'],
    dict_palette={'spatialLIBD': palette_celltype},
    fig_size=(6,4),
    drawing_order='random'
)


simba_rna_adata_cell_dst = get_pairwise_distance(simba_rna_adata_C)


simba_rna_adata_cell_dst.shape


simba_rna_SC = silhouette_score(X=simba_rna_adata_cell_dst, labels=simba_rna_adata_C.obs['spatialLIBD'])
simba_rna_SC





fil = simba_rna_adata_C.obs['spatialLIBD'].isin(['WM', 'L2'])
wm_l2_simba_rna_SC = silhouette_score(
    X=simba_rna_adata_cell_dst[np.where(fil)[0]][:, np.where(fil)[0]], 
    labels=simba_rna_adata_C.obs.loc[fil]['spatialLIBD']
)
wm_l2_simba_rna_SC





sc.pp.neighbors(simba_rna_adata_C)


sc.tl.leiden(simba_rna_adata_C)


simba_rna_adata_C.obs.head()


si.pl.umap(
    simba_rna_adata_C,color=['leiden'],
    # dict_palette={'spatialLIBD': palette_celltype},
    fig_size=(6,4),
    drawing_order='random'
)


adjusted_rand_score(simba_rna_adata_C.obs['spatialLIBD'], simba_rna_adata_C.obs['leiden'])


fil = simba_rna_adata_C.obs['spatialLIBD'].isin(['WM', 'L2'])
adjusted_rand_score(simba_rna_adata_C.obs.loc[fil]['spatialLIBD'], simba_rna_adata_C.obs.loc[fil]['leiden'])


normalized_mutual_info_score(simba_rna_adata_C.obs['spatialLIBD'], simba_rna_adata_C.obs['leiden'])


normalized_mutual_info_score(simba_rna_adata_C.obs.loc[fil]['spatialLIBD'], simba_rna_adata_C.obs.loc[fil]['leiden'])



