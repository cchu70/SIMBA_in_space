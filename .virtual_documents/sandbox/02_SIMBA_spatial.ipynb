


%load_ext autoreload
%autoreload 2


import scanpy as sc
import seaborn as sns
import matplotlib.pyplot as plt
from src.plot import plot_spatial, palette_celltype
import pandas as pd
import numpy as np


import plotly.express as px


import os
import simba as si
si.__version__


workdir = 'result_simba_spatial'
si.settings.set_workdir(workdir)


si.settings.set_figure_params(
    dpi=80,
    style='white',
    fig_size=[5,5],
    rc={'image.cmap': 'viridis'}
)

from matplotlib_inline.backend_inline import set_matplotlib_formats
set_matplotlib_formats('retina')





h5_fn = "./result_simba_rnaseq_spatialLIBD/data/151673.h5ad"
adata_CG = sc.read_h5ad(h5_fn)
adata_CG








tmp_obs = adata_CG.obs.copy()
tmp_obs.index.name = 'barcode'
tmp_obs = tmp_obs.reset_index().set_index(['array_row', 'array_col']).sort_index()


spatial_adj_df = pd.DataFrame(index=adata_CG.obs.index, columns = adata_CG.obs.index, dtype=np.float32).fillna(0.0)


radius = 5
for barcode, r in adata_CG.obs.iterrows():
    row, col = r['array_row'], r['array_col']

    neighbors = adata_CG.obs[
        adata_CG.obs['array_row'].between(row - radius, row + radius) & 
        adata_CG.obs['array_col'].between(col - radius, col + radius)
    ].index
    spatial_adj_df.loc[barcode, neighbors] = 1.0



sorted_barcodes = adata_CG.obs.sort_values(by=['array_row', 'array_col']).index
plt.imshow(spatial_adj_df.loc[sorted_barcodes, sorted_barcodes].iloc[:200, :200])





import anndata as ad
from scipy.sparse import csr_matrix


spatial_adj_matrix = csr_matrix(spatial_adj_df, dtype=np.float32)
adata_CC = ad.AnnData(spatial_adj_matrix)
adata_CC


adata_CC.layers['simba'] = adata_N.X


adata_CC


adata_CC.obs.index = spatial_adj_df.index
adata_CC.var.index = spatial_adj_df.index


adata_CC.obs = adata_CG.obs.copy()
adata_CC.var.index = adata_CG.obs.index


adata_CC





si.tl.gen_graph(
    list_adata=[adata_CC],
    prefix='N',
    # layer='simba',
    use_highly_variable=False, 
    dirname='graph0'
)





si.settings.pbg_params


si.tl.pbg_train(auto_wd=True, save_wd=True, output='model')


si.pl.pbg_metrics(fig_ncol=1)








# read in entity embeddings obtained from pbg training.
dict_adata = si.read_embedding()
dict_adata


dict_adata


adata_N0 = dict_adata['N0']  # embeddings of cells


adata_N0


adata_N0.obs['spatialLIBD'] = adata_CG[adata_N0.obs_names,:].obs['spatialLIBD'].copy()
adata_N0


adata_N0.var.index = adata_N0.obs.index


si.tl.umap(adata_N0,n_neighbors=15,n_components=2)
si.pl.umap(
    adata_N0,color=['spatialLIBD'],
    dict_palette={'spatialLIBD': palette_celltype},
    fig_size=(6,4),
    drawing_order='random'
)


si.preprocessing.pca(adata_N0)


sc.pl.pca(adata_N0, color=['spatialLIBD'], palette=palette_celltype, dimensions=(0, 1))


sc.pl.pca(adata_N0, color=['spatialLIBD'], palette=palette_celltype, dimensions=(1, 2))


sc.pl.pca(adata_N0, color=['spatialLIBD'], palette=palette_celltype, projection='3d')


fig = px.scatter_3d(
    x=adata_N0.obsm['X_pca'][:, 0], 
    y=adata_N0.obsm['X_pca'][:, 1], 
    z=adata_N0.obsm['X_pca'][:, 2],
    color = adata_N0.obs['spatialLIBD'],
    width=500, height=500,
    color_discrete_map=palette_celltype,
)
fig.update_layout(#plot_bgcolor='rgb(12,163,135)',
                  #paper_bgcolor='rgb(12,163,135)'
                  #coloraxis={"colorbar": {"x": -0.2, "len": 0.5, "y": 0.8}}, #I think this is for contours
                 scene = dict(
                                xaxis = dict(
                                     backgroundcolor="rgba(0, 0, 0,0)",
                                     gridcolor="white",
                                     showbackground=True,
                                     zerolinecolor="white",),
                                yaxis = dict(
                                    backgroundcolor="rgba(0, 0, 0,0)",
                                    gridcolor="white",
                                    showbackground=True,
                                    zerolinecolor="white"),
                                zaxis = dict(
                                    backgroundcolor="rgba(0, 0, 0,0)",
                                    gridcolor="white",
                                    showbackground=True,
                                    zerolinecolor="white",),),
                 )
fig.update_traces(marker=dict(size=2))
fig.show()








si.tl.discretize(adata_CG,n_bins=5)
si.pl.discretize(adata_CG,kde=False)








si.tl.gen_graph(
    list_CG=[adata_CG],
    list_CC=[adata_CC],
    layer='simba',
    use_highly_variable=False, 
    dirname='graph_SCG'# spatial cell gene
)


si.settings.pbg_params


reweight_CC_dict_config = si.settings.pbg_params.copy()
reweight_CC_dict_config['relations'][-1]['weight'] = 1.0


si.tl.pbg_train(pbg_params = reweight_CC_dict_config, auto_wd=True, save_wd=True, output='model_CC1.0')


si.pl.pbg_metrics(fig_ncol=1)





# read in entity embeddings obtained from pbg training.
dict_adata = si.read_embedding()
dict_adata


adata_C = dict_adata['C']  # embeddings of cells
adata_G = dict_adata['G']  # embeddings of genes


adata_C.obs['spatialLIBD'] = adata_CG[adata_C.obs_names,:].obs['spatialLIBD'].copy()
adata_C


si.tl.umap(adata_C,n_neighbors=15,n_components=2)
si.pl.umap(
    adata_C,color=['spatialLIBD'],
    dict_palette={'spatialLIBD': palette_celltype},
    fig_size=(6,4),
    drawing_order='random'
)


si.preprocessing.pca(adata_C)


sc.pl.pca(adata_C, color=['spatialLIBD'], palette=palette_celltype, dimensions=(0, 1))


sc.pl.pca(adata_C, color=['spatialLIBD'], palette=palette_celltype, dimensions=(1, 2))


sc.pl.pca(adata_C, color=['spatialLIBD'], palette=palette_celltype, projection='3d')





import copy


si.pp.select_variable_genes(adata_CG,layer='counts', n_top_genes=3000)
var_genes = adata_CG.var_names[adata_CG.var['highly_variable']].tolist()





adata_all_ts = {}
for t in [0.05, 0.1, 0.5, 1, 2]:
    # embed cells and genes into the same space
    adata_all_t = si.tl.embed(adata_ref=adata_C,list_adata_query=[adata_G], T=t) # default T=0.5 for how much to use the edge weights
    ## add annotations of cells and genes
    adata_all_t.obs['entity_anno'] = ""
    adata_all_t.obs.loc[adata_C.obs_names, 'entity_anno'] = adata_all_t.obs.loc[adata_C.obs_names, 'spatialLIBD']
    adata_all_t.obs.loc[adata_G.obs_names, 'entity_anno'] = 'gene'

    si.tl.umap(adata_all_t,n_neighbors=15,n_components=2)
    adata_all_ts[t] = copy.deepcopy(adata_all_t)
    


for t, adata_all_t in adata_all_ts.items():
    print(f"Temperature={t}")
    # obtain SIMBA embeddings of cells and variable genes
    adata_all_t_var_genes = adata_all_t[list(adata_C.obs_names) + var_genes,].copy()
    # visualize them using UMAP

    si.pl.umap(adata_all_t_var_genes,color=['id_dataset','entity_anno'],
               dict_palette={'entity_anno': palette_entity_anno},
               drawing_order='original',
               fig_size=(6,5))
    plt.show()





# embed cells and genes into the same space
adata_all = si.tl.embed(adata_ref=adata_C,list_adata_query=[adata_G]) # default T=0.5 for how much to use the edge weights
adata_all.obs.head()


## add annotations of cells and genes
adata_all.obs['entity_anno'] = ""
adata_all.obs.loc[adata_C.obs_names, 'entity_anno'] = adata_all.obs.loc[adata_C.obs_names, 'spatialLIBD']
adata_all.obs.loc[adata_G.obs_names, 'entity_anno'] = 'gene'
adata_all.obs.head()


palette_entity_anno = palette_celltype.copy()
palette_entity_anno['gene'] = "lightgray"


si.tl.umap(adata_all,n_neighbors=15,n_components=2)
si.pl.umap(adata_all,color=['id_dataset','entity_anno'],
           dict_palette={'entity_anno': palette_entity_anno},
           drawing_order='original',
           fig_size=(6,5))





adata_CG


# obtain variable genes
si.pp.select_variable_genes(adata_CG,layer='counts', n_top_genes=3000)
var_genes = adata_CG.var_names[adata_CG.var['highly_variable']].tolist()
# obtain SIMBA embeddings of cells and variable genes
adata_all2 = adata_all[list(adata_C.obs_names) + var_genes,].copy()
# visualize them using UMAP
si.tl.umap(adata_all2,n_neighbors=15,n_components=2)
si.pl.umap(adata_all2, color=['id_dataset','entity_anno'],
           dict_palette={'entity_anno': palette_entity_anno},
           drawing_order='original',
           fig_size=(6,5))








# embed cells and genes into the same space
adata_all = si.tl.embed(adata_ref=adata_G,list_adata_query=[adata_C])
adata_all.obs.head()


## add annotations of cells and genes
adata_all_c2G.obs['entity_anno'] = ""
adata_all_c2G.obs.loc[adata_C.obs_names, 'entity_anno'] = adata_all.obs.loc[adata_C.obs_names, 'spatialLIBD']
adata_all_c2G.obs.loc[adata_G.obs_names, 'entity_anno'] = 'gene'
adata_all_c2G.obs.head()





canonical_markers = ["CCK", "ENC1", "CUX2", "RORB", "NTNG2", "FABP7", "ADCYAP1", "PVALB"] # Maynard 2020
more_markers = ["AQP4", "HPCAL1", "FREM3", "TRABD2A", "KRT17"]
# AQP4 (L1), HPCAL1 (L2), FREM3 (L3), TRABD2A (L5) and KRT17 (L6) 


adata_cmp = si.tl.compare_entities(adata_ref=adata_C, adata_query=adata_G)
adata_cmp


# SIMBA metrics can be visualized using the following function:
si.pl.entity_metrics(adata_cmp,
                     x='max',
                     y='gini',
                     show_contour=False,
                     # texts=marker_genes + ['GAPDH', 'B2M'],
                     show_texts=True,
                     show_cutoff=True,
                     size=5,
                     text_expand=(1.3,1.5),
                     cutoff_x=1.,
                     cutoff_y=0.3,
                     save_fig=False, alpha=0.1)


# SIMBA metrics can be visualized using the following function:
si.pl.entity_metrics(adata_cmp,
                     x='max',
                     y='gini',
                     show_contour=False,
                     texts=canonical_markers + more_markers,
                     show_texts=True,
                     show_cutoff=True,
                     size=5,
                     text_expand=(1.3,1.5),
                     cutoff_x=1.,
                     cutoff_y=0.3,
                     save_fig=False, alpha=0.1)


top_genes = adata_cmp.var.sort_values(by='gini', ascending=False).head(3).index.tolist()


# add annotations of cells
adata_cmp.obs['spatialLIBD'] = adata_CG.obs.loc[adata_cmp.obs_names,'spatialLIBD']
si.pl.entity_barcode(adata_cmp,
                     layer='softmax',
                     entities=top_genes,
                     anno_ref='spatialLIBD',
                     show_cutoff=True,
                     cutoff=0.001,
                     palette=palette_celltype,
                     fig_size=(6, 2.5),
                     save_fig=False)


# add annotations of cells
adata_cmp.obs['spatialLIBD'] = adata_CG.obs.loc[adata_cmp.obs_names,'spatialLIBD']
si.pl.entity_barcode(adata_cmp,
                     layer='softmax',
                     entities=canonical_markers,
                     anno_ref='spatialLIBD',
                     show_cutoff=True,
                     cutoff=0.001,
                     palette=palette_celltype,
                     fig_size=(6, 2.5),
                     save_fig=False, fig_ncol=2)


# add annotations of cells
adata_cmp.obs['spatialLIBD'] = adata_CG.obs.loc[adata_cmp.obs_names,'spatialLIBD']
si.pl.entity_barcode(adata_cmp,
                     layer='softmax',
                     entities=more_markers,
                     anno_ref='spatialLIBD',
                     show_cutoff=True,
                     cutoff=0.001,
                     palette=palette_celltype,
                     fig_size=(6, 2.5),
                     save_fig=False, fig_ncol=2)


adata_CG.obsm['X_umap'] = adata_C[adata_CG.obs_names,].obsm['X_umap'].copy()
si.pl.umap(adata_CG,
           color=top_genes,
           drawing_order='sorted',
           size=5,
           alpha=0.9,
           fig_ncol=2,
           fig_size=(4,4),
           save_fig=False)


adata_CG.obsm['X_umap'] = adata_C[adata_CG.obs_names,].obsm['X_umap'].copy()
si.pl.umap(adata_CG,
           color=canonical_markers,
           drawing_order='sorted',
           size=5,
           alpha=0.9,
           fig_ncol=3,
           fig_size=(4,4),
           save_fig=False)


adata_CG.obsm['X_umap'] = adata_C[adata_CG.obs_names,].obsm['X_umap'].copy()
si.pl.umap(adata_CG,
           color=more_markers,
           drawing_order='sorted',
           size=5,
           alpha=0.9,
           fig_ncol=2,
           fig_size=(4,4),
           save_fig=False)


plot_spatial(adata_CG, color=top_genes, fig_ncol=1, s=4, vmin=0, vmax=5)
plt.show()





adata_all_lowT = adata_all_ts[0.05]
adata_all_lowT


# find neighbor genes of a given gene on UMAP
query_result = si.tl.query(adata_all_lowT,
                           entity=['AQP4'],
                           obsm='X_umap',
                           use_radius=False,
                           k=50,
                           anno_filter='entity_anno',
                           filters=['gene']
                           )
print(query_result.shape)
query_result.iloc[:10,]


# show locations of entity and its neighbor genes
si.pl.query(adata_all_lowT,
            obsm='X_umap',
            color=['entity_anno'], dict_palette={'entity_anno': palette_entity_anno},
            alpha=0.9,
            alpha_bg=0.2,
            fig_size=(7,5), size=10)





# find neighbor genes of a given gene on UMAP
L3_left_query_result = si.tl.query(adata_all_lowT,
                           pin=[9,2],
                           obsm='X_umap',
                           use_radius=True,r=2,
                           anno_filter='entity_anno',
                           filters=['gene'])
print(L3_left_query_result.shape)
L3_left_query_result.head()


# show locations of pin point and its neighbor genes
si.pl.query(adata_all_lowT,
            show_texts=False,
            color=['entity_anno'], dict_palette={'entity_anno': palette_entity_anno},
            alpha=0.9,
            alpha_bg=0.1,
            fig_size=(7,5))


plot_spatial(adata_CG, color=L3_left_query_result.head(3).index, fig_ncol=3, s=4, vmin=0, vmax=5)
plt.show()


# find neighbor genes of a given gene on UMAP
L3_right_query_result = si.tl.query(adata_all_lowT,
                           pin=[11,8],
                           obsm='X_umap',
                           use_radius=True,r=2,
                           anno_filter='entity_anno',
                           filters=['gene'])
print(L3_right_query_result.shape)
L3_right_query_result.head()


# show locations of pin point and its neighbor genes
si.pl.query(adata_all_lowT,
            show_texts=False,
            color=['entity_anno'], dict_palette={'entity_anno': palette_entity_anno},
            alpha=0.9,
            alpha_bg=0.1,
            fig_size=(7,5))


plot_spatial(adata_CG, color=L3_right_query_result.head(3).index, fig_ncol=3, s=4, vmin=0, vmax=5)
plt.show()





adata_N.write(os.path.join(workdir, 'adata_N.h5ad'))
adata_CG.write(os.path.join(workdir, 'adata_CG.h5ad'))
adata_C.write(os.path.join(workdir, 'adata_C.h5ad'))
adata_G.write(os.path.join(workdir, 'adata_G.h5ad'))
adata_all.write(os.path.join(workdir, 'adata_all.h5ad'))
adata_cmp.write(os.path.join(workdir, 'adata_cmp.h5ad'))


for t, adata_all_t in adata_all_ts.items():
    adata_all_t.write(os.path.join(workdir, f'adata_all_t_{t}.h5ad'))
