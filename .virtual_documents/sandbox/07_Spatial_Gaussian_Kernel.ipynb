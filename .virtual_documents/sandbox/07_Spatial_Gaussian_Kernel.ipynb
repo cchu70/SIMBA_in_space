


%load_ext autoreload
%autoreload 2


import scanpy as sc
import seaborn as sns
import matplotlib.pyplot as plt
from src.plot import plot_spatial, palette_celltype, plot_obs_spatial
import pandas as pd
import numpy as np
palette_entity_anno = palette_celltype.copy()
palette_entity_anno['gene'] = "lightgray"
from mpl_toolkits.axes_grid1 import make_axes_locatable



import os
import simba as si
si.__version__


workdir = 'data/07'
si.settings.set_workdir(workdir)


si.settings.set_figure_params(
    dpi=80,
    style='white',
    fig_size=[5,5],
    rc={'image.cmap': 'viridis'}
)

from matplotlib_inline.backend_inline import set_matplotlib_formats
set_matplotlib_formats('retina')





h5_fn = "./result_simba_rnaseq_spatialLIBD/data/151673.h5ad"
adata_CG = sc.read_h5ad(h5_fn)
adata_CG


spots = adata_CG.obsm['spatial'].copy()
sorted_points = np.lexsort((spots[:, 0], spots[:, 1]))
spots = spots[sorted_points]


diff = spots[:, np.newaxis, :] - spots[np.newaxis, :, :]
diff.shape


squared_distances = np.sum(diff**2, axis=2)
squared_distances.shape





min_dists = np.sort(np.sort(squared_distances)[:, 1])
min_dists


plt.hist(min_dists[:-1]) # remove one outlier
plt.yscale('log')
plt.show()





neighbor_dists = np.sort(squared_distances)[:, 1:7] # 6 nearest points excluding the point itself
neighbor_dists


mean_neighbor_dists = np.mean(neighbor_dists.flatten())
median_neighbor_dists = np.median(neighbor_dists.flatten())


plt.hist(neighbor_dists.flatten())
plt.yscale('log')
plt.title(f'All k=6 nearest neighbors squared distances\nMean={np.round(mean_neighbor_dists, 2)}, Median={median_neighbor_dists}')
plt.axvline(median_neighbor_dists, color='r', linestyle='--')
plt.axvline(mean_neighbor_dists, color='k', linestyle='--')
plt.show()


plt.hist(np.mean(neighbor_dists, axis=1))
plt.yscale('log')
plt.title('Per spot means k=6 nearest neighbors squared distances')
plt.show()


plt.hist(np.median(neighbor_dists, axis=1))
plt.yscale('log')
plt.title('Per spot medians k=6 nearest neighbors squared distances')
plt.show()


for p in [0.01, 0.1, 0.25, 0.5, 0.9, 0.99]:
    gamma = -median_neighbor_dists / np.log(p)
    kernel_matrix = 1*np.exp(-squared_distances / gamma)
    fig, axes = plt.subplots(1, 2, figsize=(8, 12))
    axes[0].imshow(kernel_matrix[:100, :100], cmap='gray')

    im = axes[1].scatter(spots[:, 1], spots[:, 0], c=kernel_matrix[1500], s=2)
    axes[1].set_facecolor('k')
    axes[1].set_aspect('equal', adjustable='box')
    fig.suptitle(f"Gamma = avg neighbor dist /ln {p} = {np.round(gamma, 2)}", y=0.7)
    
    divider = make_axes_locatable(axes[1])
    cax = divider.append_axes('right', size='5%', pad=0.05)
    fig.colorbar(im, cax=cax, orientation='vertical')
    plt.tight_layout()
    plt.show()





plt.hist(squared_distances.flatten(), bins=100)
plt.show()





max_squared_distance = np.max(squared_distances)
max_squared_distance


for e in range(1, 8):
    gamma = max_squared_distance * 10**(-e)
    kernel_matrix = 1*np.exp(-squared_distances / gamma)
    fig, axes = plt.subplots(1, 2, figsize=(8, 12))
    axes[0].imshow(kernel_matrix[:100, :100], cmap='gray')

    im = axes[1].scatter(spots[:, 1], spots[:, 0], c=kernel_matrix[1500], s=2)
    axes[1].set_facecolor('k')
    axes[1].set_aspect('equal', adjustable='box')
    fig.suptitle(f"Gamma = max squared distance x 10e-{e} \n={np.round(gamma, 2)}", y=0.7)
    
    divider = make_axes_locatable(axes[1])
    cax = divider.append_axes('right', size='5%', pad=0.05)
    fig.colorbar(im, cax=cax, orientation='vertical')
    plt.tight_layout()
    plt.show()





import numpy as np
import scanpy as sc
import matplotlib.pyplot as plt
import anndata as ad
from scipy.sparse import csr_matrix

def gen_spatial_graph(
    adata,
    e, # magnitude
    scalar=1, # could be gene expression correlation?
):
    # gaussian kernel
    spots = adata.obsm['spatial']

    squared_distances = get_squared_distances(spots)

    kernel_matrix = gaussian_kernel_matrix(squared_distances, e, scalar)

    adata_CC = ad.AnnData(kernel_matrix)
    adata_CC.layers['simba'] = adata_CC.X

    adata_CC.obs.index = adata.obs_names
    adata_CC.var.index = adata.obs_names
    adata_CC.obs = adata.obs.copy()
    adata_CC.obsm['spatial'] = adata.obsm['spatial'].copy()
    return adata_CC

# ChatGPT:
def get_squared_distances(spots):
    # spots: np.array list of grid points as tuples
    # Generate all grid points as (row, col) pairs
    # spots = np.array([(i, j) for i in range(N) for j in range(N)])
    # Compute the pairwise squared Euclidean distances using broadcasting
    diff = spots[:, np.newaxis, :] - spots[np.newaxis, :, :]
    squared_distances = np.sum(diff**2, axis=2)    
    return squared_distances
    
def gaussian_kernel_matrix(squared_distances, e, scalar):
    # get gamma
    max_squared_distance = np.max(squared_distances)
    gamma = max_squared_distance * 10**(-e)
    
    # Apply the Gaussian kernel
    kernel_matrix = np.exp(-squared_distances / gamma)
    # single value or nxn weight
    kernel_matrix = kernel_matrix * scalar
    return csr_matrix(kernel_matrix, dtype=np.float32)
    


adata_CC = gen_spatial_graph(adata_CG, e = 2)


adata_CC


fig, ax = plt.subplots()
im = ax.scatter(adata_CC.obsm['spatial'][:, 1], adata_CC.obsm['spatial'][:, 0], c=adata_CC.layers['simba'].toarray()[1500], s=2)
ax.set_facecolor('k')
ax.set_aspect('equal', adjustable='box')
ax.set_title(f"Gamma = max squared distance x 10e-{e} \n={np.round(gamma, 2)}", y=0.7)

divider = make_axes_locatable(ax)
cax = divider.append_axes('right', size='5%', pad=0.05)
fig.colorbar(im, cax=cax, orientation='vertical')
plt.tight_layout()
plt.show()








si.tl.discretize(adata_CC,n_bins=10)
si.pl.discretize(adata_CC,kde=False)


si.tl.gen_graph(
    list_adata=[adata_CC],
    prefix='C',
    # layer='simba',
    use_highly_variable=False, 
    dirname='graph0'
)


si.tl.pbg_train(auto_wd=True, save_wd=True, output='model')


si.pl.pbg_metrics(fig_ncol=1)


# read in entity embeddings obtained from pbg training.
dict_adata = si.read_embedding()
dict_adata


adata_C0 = dict_adata['C0']  # embeddings of cells


adata_C0.obs['spatialLIBD'] = adata_CG[adata_C0.obs_names,:].obs['spatialLIBD'].copy()
adata_C0.var.index = adata_C0.obs.index


si.tl.umap(adata_C0,n_neighbors=15,n_components=2)
si.pl.umap(
    adata_C0,color=['spatialLIBD'],
    dict_palette={'spatialLIBD': palette_celltype},
    fig_size=(6,4),
    drawing_order='random'
)





from scipy.stats import spearmanr


adata_CG.X.shape


spearmanr_cov = spearmanr(adata_CG.X.toarray(), axis=1)


spearmanr_cov.statistic.shape


plt.hist(spearmanr_cov.statistic.flatten())
plt.yscale('log')
plt.show()


corrcoef_cov = np.corrcoef(adata_CG.X.toarray())


corrcoef_cov.shape


plt.hist(corrcoef_cov.flatten())
plt.xlabel('np.corrcoef(expression)')
plt.ylabel('Num location pairs')
plt.yscale('log')
plt.show()


corrcoef_cov


adata_CC_corr = gen_spatial_graph(adata_CG, e = 3, scalar=corrcoef_cov)


fig, ax = plt.subplots()
im = ax.scatter(adata_CC_corr.obsm['spatial'][:, 1], adata_CC_corr.obsm['spatial'][:, 0], c=adata_CC_corr.layers['simba'].toarray()[1700], s=2)
ax.set_facecolor('k')
ax.set_aspect('equal', adjustable='box')
ax.set_title(f"Gamma = max squared distance x 10e-{e} \n={np.round(gamma, 2)}", y=0.7)

divider = make_axes_locatable(ax)
cax = divider.append_axes('right', size='5%', pad=0.05)
fig.colorbar(im, cax=cax, orientation='vertical')
plt.tight_layout()
plt.show()


si.tl.discretize(adata_CC_corr,n_bins=5)
si.pl.discretize(adata_CC_corr,kde=False)


si.tl.gen_graph(
    list_adata=[adata_CC_corr],
    prefix='C',
    # layer='simba',
    use_highly_variable=False, 
    dirname='graph0_corr'
)


si.tl.pbg_train(auto_wd=True, save_wd=True, output='model_corr_bin5')


si.pl.pbg_metrics(fig_ncol=1)


# read in entity embeddings obtained from pbg training.
dict_adata_corr = si.read_embedding()
adata_C0_corr = dict_adata_corr['C0']  # embeddings of cells
adata_C0_corr.obs['spatialLIBD'] = adata_CG[adata_C0_corr.obs_names,:].obs['spatialLIBD'].copy()
adata_C0_corr.var.index = adata_C0_corr.obs.index


si.tl.umap(adata_C0_corr,n_neighbors=15,n_components=2)
si.pl.umap(
    adata_C0_corr,color=['spatialLIBD'],
    dict_palette={'spatialLIBD': palette_celltype},
    fig_size=(6,4),
    drawing_order='random'
)





diag0_corrcoef_cov = corrcoef_cov.copy()
np.fill_diagonal(diag0_corrcoef_cov, 0)


adata_CC_corr_zero = gen_spatial_graph(adata_CG, e = 2, scalar=diag0_corrcoef_cov)


fig, ax = plt.subplots()
im = ax.scatter(adata_CC_corr_zero.obsm['spatial'][:, 0], adata_CC_corr_zero.obsm['spatial'][:, 1], c=adata_CC_corr_zero.layers['simba'].toarray()[1530], s=2)
ax.set_facecolor('k')
ax.set_aspect('equal', adjustable='box')
fig.suptitle(f"Gamma = max squared distance x 10e-{e} \n={np.round(gamma, 2)}")
ax.invert_yaxis()
divider = make_axes_locatable(ax)
cax = divider.append_axes('right', size='5%', pad=0.05)
fig.colorbar(im, cax=cax, orientation='vertical')
plt.tight_layout()
plt.show()


si.tl.discretize(adata_CC_corr_zero,n_bins=10)
si.pl.discretize(adata_CC_corr_zero,kde=False)


si.tl.gen_graph(
    list_adata=[adata_CC_corr_zero],
    prefix='C',
    # layer='simba',
    use_highly_variable=False, 
    dirname='graph0_corr_diag0'
)


si.tl.pbg_train(auto_wd=True, save_wd=True, output='model_corr_diag0')


si.pl.pbg_metrics(fig_ncol=1)


# read in entity embeddings obtained from pbg training.
dict_adata_corr_zero = si.read_embedding()
adata_C0_corr_zero = dict_adata_corr['C0']  # embeddings of cells
adata_C0_corr_zero.obs['spatialLIBD'] = adata_CG[adata_C0_corr_zero.obs_names,:].obs['spatialLIBD'].copy()
adata_C0_corr_zero.var.index = adata_C0_corr_zero.obs.index


si.tl.umap(adata_C0_corr_zero,n_neighbors=15,n_components=2)
si.pl.umap(
    adata_C0_corr_zero,color=['spatialLIBD'],
    dict_palette={'spatialLIBD': palette_celltype},
    fig_size=(6,4),
    drawing_order='random'
)






