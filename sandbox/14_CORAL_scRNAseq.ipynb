{
 "cells": [
  {
   "cell_type": "markdown",
   "metadata": {},
   "source": [
    "# 14_CORAL_scRNAseq\n",
    "\n",
    "VAE based approach for creating an embedding for a heterogeneous graph\n",
    "\n",
    "I think the idea is like BANKSY, but reverse: Predict the features of neighbors. \n",
    "\n",
    "Current the loss is only over the edges of the entities in the batch."
   ]
  },
  {
   "cell_type": "code",
   "execution_count": 1,
   "metadata": {},
   "outputs": [],
   "source": [
    "%load_ext autoreload\n",
    "%autoreload 2\n",
    "\n",
    "\n",
    "import sys\n",
    "sys.path.insert(1, '../scripts/benchmarking')"
   ]
  },
  {
   "cell_type": "code",
   "execution_count": 2,
   "metadata": {},
   "outputs": [],
   "source": [
    "import coral\n",
    "import coral.load_data"
   ]
  },
  {
   "cell_type": "code",
   "execution_count": 3,
   "metadata": {},
   "outputs": [
    {
     "ename": "SyntaxError",
     "evalue": "invalid syntax (readwrite.py, line 1020)",
     "output_type": "error",
     "traceback": [
      "Traceback \u001b[0;36m(most recent call last)\u001b[0m:\n",
      "\u001b[0m  File \u001b[1;32m~/.local/lib/python3.8/site-packages/IPython/core/interactiveshell.py:3508\u001b[0m in \u001b[1;35mrun_code\u001b[0m\n    exec(code_obj, self.user_global_ns, self.user_ns)\u001b[0m\n",
      "\u001b[0m  Cell \u001b[1;32mIn[3], line 8\u001b[0m\n    import scanpy as sc\u001b[0m\n",
      "\u001b[0m  File \u001b[1;32m/data/pinello/SHARED_SOFTWARE/anaconda_latest/envs/cc_envs/coral_mamba_env/lib/python3.8/site-packages/scanpy/__init__.py:45\u001b[0m\n    from . import datasets, experimental, external, get, logging, metrics, queries\u001b[0m\n",
      "\u001b[0m  File \u001b[1;32m/data/pinello/SHARED_SOFTWARE/anaconda_latest/envs/cc_envs/coral_mamba_env/lib/python3.8/site-packages/scanpy/datasets/__init__.py:5\u001b[0m\n    from ._datasets import (\u001b[0m\n",
      "\u001b[0;36m  File \u001b[0;32m/data/pinello/SHARED_SOFTWARE/anaconda_latest/envs/cc_envs/coral_mamba_env/lib/python3.8/site-packages/scanpy/datasets/_datasets.py:15\u001b[0;36m\n\u001b[0;31m    from ..readwrite import read, read_visium\u001b[0;36m\n",
      "\u001b[0;36m  File \u001b[0;32m/data/pinello/SHARED_SOFTWARE/anaconda_latest/envs/cc_envs/coral_mamba_env/lib/python3.8/site-packages/scanpy/readwrite.py:1020\u001b[0;36m\u001b[0m\n\u001b[0;31m    ) as t,\u001b[0m\n\u001b[0m      ^\u001b[0m\n\u001b[0;31mSyntaxError\u001b[0m\u001b[0;31m:\u001b[0m invalid syntax\n"
     ]
    }
   ],
   "source": [
    "import os\n",
    "from copy import deepcopy\n",
    "import numpy as np\n",
    "import pandas as pd\n",
    "import torch\n",
    "import anndata as ad\n",
    "import matplotlib.pyplot as plt\n",
    "import scanpy as sc\n",
    "import anndata as ad\n",
    "import coral\n",
    "import coral.datasets\n",
    "import coral.load_data"
   ]
  },
  {
   "cell_type": "code",
   "execution_count": null,
   "metadata": {},
   "outputs": [],
   "source": [
    "adata_CG"
   ]
  },
  {
   "cell_type": "code",
   "execution_count": null,
   "metadata": {},
   "outputs": [],
   "source": [
    "coral.load_data.make_sc_HetData(adata_CG = adata_CG"
   ]
  }
 ],
 "metadata": {
  "kernelspec": {
   "display_name": "Python 3",
   "language": "python",
   "name": "python3"
  },
  "language_info": {
   "codemirror_mode": {
    "name": "ipython",
    "version": 3
   },
   "file_extension": ".py",
   "mimetype": "text/x-python",
   "name": "python",
   "nbconvert_exporter": "python",
   "pygments_lexer": "ipython3",
   "version": "3.8.19"
  }
 },
 "nbformat": 4,
 "nbformat_minor": 2
}
