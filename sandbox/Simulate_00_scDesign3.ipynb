{
 "cells": [
  {
   "cell_type": "markdown",
   "id": "05a803c9-7b23-4897-9380-83d65721c618",
   "metadata": {},
   "source": [
    "# Simulate_00_scDesign3\n",
    "\n",
    "R kernel\n",
    "\n",
    "https://songdongyuan1994.github.io/scDesign3/docs/index.html#installation-"
   ]
  },
  {
   "cell_type": "code",
   "execution_count": 1,
   "id": "d459df72-7502-4e02-ab67-b2e57d89f8ca",
   "metadata": {
    "scrolled": true
   },
   "outputs": [
    {
     "name": "stderr",
     "output_type": "stream",
     "text": [
      "Installing package into ‘/Users/cchu/Library/R/4.0/library’\n",
      "(as ‘lib’ is unspecified)\n",
      "\n",
      "also installing the dependencies ‘textshaping’, ‘gert’, ‘ragg’, ‘usethis’, ‘pkgdown’\n",
      "\n",
      "\n"
     ]
    },
    {
     "name": "stdout",
     "output_type": "stream",
     "text": [
      "\n",
      "  There are binary versions available but the source versions are later:\n",
      "            binary source needs_compilation\n",
      "textshaping  0.3.6  0.4.1              TRUE\n",
      "gert         1.6.0  2.1.4              TRUE\n",
      "ragg         1.2.2  1.3.3              TRUE\n",
      "usethis      2.1.5  3.1.0             FALSE\n",
      "pkgdown      2.0.2  2.1.1             FALSE\n",
      "devtools     2.4.3  2.4.5             FALSE\n",
      "\n"
     ]
    },
    {
     "name": "stderr",
     "output_type": "stream",
     "text": [
      "installing the source packages ‘textshaping’, ‘gert’, ‘ragg’, ‘usethis’, ‘pkgdown’, ‘devtools’\n",
      "\n",
      "\n",
      "Warning message in install.packages(\"devtools\"):\n",
      "“installation of package ‘textshaping’ had non-zero exit status”\n",
      "Warning message in install.packages(\"devtools\"):\n",
      "“installation of package ‘gert’ had non-zero exit status”\n",
      "Warning message in install.packages(\"devtools\"):\n",
      "“installation of package ‘ragg’ had non-zero exit status”\n",
      "Warning message in install.packages(\"devtools\"):\n",
      "“installation of package ‘usethis’ had non-zero exit status”\n",
      "Warning message in install.packages(\"devtools\"):\n",
      "“installation of package ‘pkgdown’ had non-zero exit status”\n",
      "Warning message in install.packages(\"devtools\"):\n",
      "“installation of package ‘devtools’ had non-zero exit status”\n"
     ]
    }
   ],
   "source": [
    "install.packages(\"devtools\")"
   ]
  },
  {
   "cell_type": "code",
   "execution_count": 2,
   "id": "16265583-5d1e-4e79-8cc8-290f3598d814",
   "metadata": {
    "scrolled": true
   },
   "outputs": [
    {
     "ename": "ERROR",
     "evalue": "Error in loadNamespace(name): there is no package called ‘devtools’\n",
     "output_type": "error",
     "traceback": [
      "Error in loadNamespace(name): there is no package called ‘devtools’\nTraceback:\n",
      "1. getExportedValue(pkg, name)",
      "2. asNamespace(ns)",
      "3. getNamespace(ns)",
      "4. loadNamespace(name)",
      "5. withRestarts(stop(cond), retry_loadNamespace = function() NULL)",
      "6. withOneRestart(expr, restarts[[1L]])",
      "7. doWithOneRestart(return(expr), restart)",
      "8. stop(cond)"
     ]
    }
   ],
   "source": [
    "devtools::install_github(\"SONGDONGYUAN1994/scDesign3\")"
   ]
  },
  {
   "cell_type": "code",
   "execution_count": 2,
   "id": "4158dffc-799c-4433-9381-0b24a7046402",
   "metadata": {},
   "outputs": [
    {
     "ename": "ERROR",
     "evalue": "Error in library(scDesign3): there is no package called ‘scDesign3’\n",
     "output_type": "error",
     "traceback": [
      "Error in library(scDesign3): there is no package called ‘scDesign3’\nTraceback:\n",
      "1. stop(packageNotFoundError(package, lib.loc, sys.call()))"
     ]
    }
   ],
   "source": [
    "library(scDesign3)\n",
    "library(SingleCellExperiment)\n",
    "library(ggplot2)\n",
    "library(DuoClustering2018)\n",
    "library(scran)\n",
    "library(tidyverse)\n",
    "theme_set(theme_bw())"
   ]
  },
  {
   "cell_type": "code",
   "execution_count": null,
   "id": "26d7030b-2a5c-4051-9497-e6cc20d9f0df",
   "metadata": {},
   "outputs": [],
   "source": []
  }
 ],
 "metadata": {
  "kernelspec": {
   "display_name": "R",
   "language": "R",
   "name": "ir"
  },
  "language_info": {
   "codemirror_mode": "r",
   "file_extension": ".r",
   "mimetype": "text/x-r-source",
   "name": "R",
   "pygments_lexer": "r",
   "version": "4.0.4"
  }
 },
 "nbformat": 4,
 "nbformat_minor": 5
}
