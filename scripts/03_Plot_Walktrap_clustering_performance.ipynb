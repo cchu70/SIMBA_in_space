{
 "cells": [
  {
   "cell_type": "markdown",
   "metadata": {},
   "source": [
    "# 03_Plot_Walktrap_clustering_performance\n",
    "\n",
    "cc_mamba_simba"
   ]
  },
  {
   "cell_type": "code",
   "execution_count": null,
   "metadata": {},
   "outputs": [],
   "source": [
    "%load_ext autoreload\n",
    "%autoreload 2"
   ]
  },
  {
   "cell_type": "code",
   "execution_count": 1,
   "metadata": {},
   "outputs": [
    {
     "name": "stderr",
     "output_type": "stream",
     "text": [
      "/data/pinello/SHARED_SOFTWARE/anaconda_latest/envs/cc_envs/cc_mamba_simba/lib/python3.9/site-packages/tqdm/auto.py:21: TqdmWarning: IProgress not found. Please update jupyter and ipywidgets. See https://ipywidgets.readthedocs.io/en/stable/user_install.html\n",
      "  from .autonotebook import tqdm as notebook_tqdm\n"
     ]
    }
   ],
   "source": [
    "import os\n",
    "import scanpy as sc\n",
    "import pandas as pd\n",
    "import numpy as np\n",
    "import anndata as ad\n",
    "import seaborn as sns   \n",
    "\n",
    "# approximate original figure in http://spatial.libd.org/spatialLIBD/\n",
    "palette_celltype={'L1':'#eb34a8',\n",
    "                  'L2':'#3486eb',\n",
    "                  'L3':'#34eb5b',\n",
    "                  'L4':\"#ae34eb\",\n",
    "                  'L5':'#ebdb34',\n",
    "                  'L6':'#eb9234',\n",
    "                  'WM':'#000000'}\n",
    "\n",
    "palette_entity_anno = palette_celltype.copy()\n",
    "palette_entity_anno['gene'] = \"lightgray\"\n",
    "\n",
    "import simba as si"
   ]
  },
  {
   "cell_type": "code",
   "execution_count": 2,
   "metadata": {},
   "outputs": [],
   "source": [
    "import igraph"
   ]
  },
  {
   "cell_type": "code",
   "execution_count": 3,
   "metadata": {},
   "outputs": [],
   "source": [
    "spatialpca_fn = '../results/00/spatialpca/spatialpca_adata_py.tsv'\n",
    "spatialpca_df = pd.read_csv(spatialpca_fn, sep='\\t', index_col=0)"
   ]
  },
  {
   "cell_type": "code",
   "execution_count": 6,
   "metadata": {},
   "outputs": [],
   "source": [
    "adata = sc.read_h5ad(spatialpca_df['spatialPCA_adata_fn'].iloc[0])"
   ]
  },
  {
   "cell_type": "code",
   "execution_count": 9,
   "metadata": {},
   "outputs": [
    {
     "data": {
      "text/plain": [
       "array([[ 1.83939471e+00, -5.61985677e-02,  1.19041991e-01, ...,\n",
       "         1.66866199e+00, -6.65284314e-01,  4.67355109e-01],\n",
       "       [-4.20172655e+00, -1.70724778e-01, -8.19068641e-01, ...,\n",
       "         8.57655710e-02,  6.69085248e-02,  2.67064886e-01],\n",
       "       [ 8.30068342e+00,  8.12987118e+00, -2.84636713e+00, ...,\n",
       "         2.01794839e-03, -5.43444085e-01,  1.45271695e+00],\n",
       "       ...,\n",
       "       [ 1.02635875e+01, -7.83128169e+00,  1.19717575e+00, ...,\n",
       "         1.27000713e+00, -1.12556297e+00,  1.40028195e+00],\n",
       "       [-1.41694845e+00, -2.25815502e+00, -2.29966323e-01, ...,\n",
       "        -5.38051584e-01, -9.48858327e-02, -8.50527983e-01],\n",
       "       [ 4.78863486e+00,  6.89225962e+00, -1.68206667e+00, ...,\n",
       "         6.90637438e-01,  3.42647802e-01,  1.67227343e-01]])"
      ]
     },
     "execution_count": 9,
     "metadata": {},
     "output_type": "execute_result"
    }
   ],
   "source": [
    "adata.obsm['X_pca']"
   ]
  },
  {
   "cell_type": "code",
   "execution_count": 14,
   "metadata": {},
   "outputs": [],
   "source": [
    "# from chatGPT\n",
    "import numpy as np\n",
    "from sklearn.neighbors import NearestNeighbors\n",
    "import igraph as ig\n",
    "\n",
    "def build_snn_graph(data, k=5):\n",
    "    \"\"\"\n",
    "    Build a Shared Nearest Neighbor (SNN) graph from the data.\n",
    "\n",
    "    Parameters:\n",
    "        data (np.ndarray): Data points (n_samples, n_features).\n",
    "        k (int): Number of nearest neighbors.\n",
    "\n",
    "    Returns:\n",
    "        ig.Graph: SNN graph with edge weights as shared neighbor counts.\n",
    "    \"\"\"\n",
    "    # Step 1: Compute k-nearest neighbors\n",
    "    nbrs = NearestNeighbors(n_neighbors=k+1, metric='euclidean').fit(data)\n",
    "    distances, indices = nbrs.kneighbors(data)\n",
    "    \n",
    "    # Remove the point itself from its neighbors (first neighbor is always the point itself)\n",
    "    knn_indices = indices[:, 1:]\n",
    "    \n",
    "    # Step 2: Build the SNN graph\n",
    "    num_nodes = data.shape[0]\n",
    "    edges = []\n",
    "    weights = []\n",
    "\n",
    "    for i in range(num_nodes):\n",
    "        for j in knn_indices[i]:\n",
    "            if i < j:  # Avoid duplicates since the graph is undirected\n",
    "                # Shared neighbors between i and j\n",
    "                shared_neighbors = len(set(knn_indices[i]) & set(knn_indices[j]))\n",
    "                \n",
    "                if shared_neighbors > 0:\n",
    "                    edges.append((i, j))\n",
    "                    weights.append(shared_neighbors)\n",
    "\n",
    "    # Step 3: Create igraph object\n",
    "    g = ig.Graph(edges=edges)\n",
    "    g.es['weight'] = weights\n",
    "\n",
    "    return g\n",
    "\n",
    "def detect_communities_snn(data, k=5):\n",
    "    \"\"\"\n",
    "    Detect communities using the SNN graph and Walktrap algorithm.\n",
    "\n",
    "    Parameters:\n",
    "        data (np.ndarray): Data points (n_samples, n_features).\n",
    "        k (int): Number of nearest neighbors for SNN.\n",
    "\n",
    "    Returns:\n",
    "        list: Community membership for each node.\n",
    "    \"\"\"\n",
    "    snn_graph = build_snn_graph(data, k=k)\n",
    "    walktrap = snn_graph.community_walktrap(weights=snn_graph.es['weight'])\n",
    "    clusters = walktrap.as_clustering()\n",
    "    return clusters.membership, clusters, snn_graph\n"
   ]
  },
  {
   "cell_type": "code",
   "execution_count": 16,
   "metadata": {},
   "outputs": [],
   "source": [
    "\n",
    "np.random.seed(42)\n",
    "data = adata.obsm['X_pca'].copy()\n",
    "\n",
    "k = 10  # Number of neighbors\n",
    "membership, clusters, snn_graph = detect_communities_snn(data, k=k)"
   ]
  },
  {
   "cell_type": "code",
   "execution_count": 18,
   "metadata": {},
   "outputs": [
    {
     "data": {
      "text/plain": [
       "<igraph.clustering.VertexClustering at 0x7fc7a04c5940>"
      ]
     },
     "execution_count": 18,
     "metadata": {},
     "output_type": "execute_result"
    }
   ],
   "source": [
    "clusters"
   ]
  },
  {
   "cell_type": "code",
   "execution_count": 20,
   "metadata": {},
   "outputs": [
    {
     "ename": "AttributeError",
     "evalue": "Plotting not available; please install pycairo or cairocffi",
     "output_type": "error",
     "traceback": [
      "\u001b[0;31m---------------------------------------------------------------------------\u001b[0m",
      "\u001b[0;31mAttributeError\u001b[0m                            Traceback (most recent call last)",
      "Cell \u001b[0;32mIn[20], line 2\u001b[0m\n\u001b[1;32m      1\u001b[0m layout \u001b[38;5;241m=\u001b[39m snn_graph\u001b[38;5;241m.\u001b[39mlayout(\u001b[38;5;124m\"\u001b[39m\u001b[38;5;124mfr\u001b[39m\u001b[38;5;124m\"\u001b[39m, grid\u001b[38;5;241m=\u001b[39m\u001b[38;5;28;01mTrue\u001b[39;00m)\n\u001b[0;32m----> 2\u001b[0m \u001b[43mig\u001b[49m\u001b[38;5;241;43m.\u001b[39;49m\u001b[43mplot\u001b[49m\u001b[43m(\u001b[49m\u001b[43mclusters\u001b[49m\u001b[43m,\u001b[49m\u001b[43m \u001b[49m\u001b[43mlayout\u001b[49m\u001b[38;5;241;43m=\u001b[39;49m\u001b[43mlayout\u001b[49m\u001b[43m,\u001b[49m\u001b[43m \u001b[49m\u001b[43mbbox\u001b[49m\u001b[38;5;241;43m=\u001b[39;49m\u001b[43m(\u001b[49m\u001b[38;5;241;43m500\u001b[39;49m\u001b[43m,\u001b[49m\u001b[43m \u001b[49m\u001b[38;5;241;43m500\u001b[39;49m\u001b[43m)\u001b[49m\u001b[43m,\u001b[49m\u001b[43m \u001b[49m\u001b[43mvertex_label\u001b[49m\u001b[38;5;241;43m=\u001b[39;49m\u001b[38;5;28;43mrange\u001b[39;49m\u001b[43m(\u001b[49m\u001b[38;5;28;43mlen\u001b[39;49m\u001b[43m(\u001b[49m\u001b[43mmembership\u001b[49m\u001b[43m)\u001b[49m\u001b[43m)\u001b[49m\u001b[43m)\u001b[49m\n",
      "File \u001b[0;32m/data/pinello/SHARED_SOFTWARE/anaconda_latest/envs/cc_envs/cc_mamba_simba/lib/python3.9/site-packages/igraph/drawing/__init__.py:299\u001b[0m, in \u001b[0;36mplot\u001b[0;34m(obj, target, bbox, *args, **kwds)\u001b[0m\n\u001b[1;32m    297\u001b[0m background \u001b[38;5;241m=\u001b[39m kwds\u001b[38;5;241m.\u001b[39mpop(\u001b[38;5;124m\"\u001b[39m\u001b[38;5;124mbackground\u001b[39m\u001b[38;5;124m\"\u001b[39m, \u001b[38;5;124m\"\u001b[39m\u001b[38;5;124mwhite\u001b[39m\u001b[38;5;124m\"\u001b[39m)\n\u001b[1;32m    298\u001b[0m margin \u001b[38;5;241m=\u001b[39m \u001b[38;5;28mfloat\u001b[39m(kwds\u001b[38;5;241m.\u001b[39mpop(\u001b[38;5;124m\"\u001b[39m\u001b[38;5;124mmargin\u001b[39m\u001b[38;5;124m\"\u001b[39m, \u001b[38;5;241m20\u001b[39m))\n\u001b[0;32m--> 299\u001b[0m result \u001b[38;5;241m=\u001b[39m \u001b[43mCairoPlot\u001b[49m\u001b[43m(\u001b[49m\n\u001b[1;32m    300\u001b[0m \u001b[43m    \u001b[49m\u001b[43mtarget\u001b[49m\u001b[38;5;241;43m=\u001b[39;49m\u001b[43mtarget\u001b[49m\u001b[43m,\u001b[49m\n\u001b[1;32m    301\u001b[0m \u001b[43m    \u001b[49m\u001b[43mbbox\u001b[49m\u001b[38;5;241;43m=\u001b[39;49m\u001b[43mbbox\u001b[49m\u001b[43m,\u001b[49m\n\u001b[1;32m    302\u001b[0m \u001b[43m    \u001b[49m\u001b[43mpalette\u001b[49m\u001b[38;5;241;43m=\u001b[39;49m\u001b[43mpalette\u001b[49m\u001b[43m,\u001b[49m\n\u001b[1;32m    303\u001b[0m \u001b[43m    \u001b[49m\u001b[43mbackground\u001b[49m\u001b[38;5;241;43m=\u001b[39;49m\u001b[43mbackground\u001b[49m\u001b[43m,\u001b[49m\n\u001b[1;32m    304\u001b[0m \u001b[43m\u001b[49m\u001b[43m)\u001b[49m\n\u001b[1;32m    305\u001b[0m item_bbox \u001b[38;5;241m=\u001b[39m result\u001b[38;5;241m.\u001b[39mbbox\u001b[38;5;241m.\u001b[39mcontract(margin)\n\u001b[1;32m    306\u001b[0m result\u001b[38;5;241m.\u001b[39madd(obj, item_bbox, \u001b[38;5;241m*\u001b[39margs, \u001b[38;5;241m*\u001b[39m\u001b[38;5;241m*\u001b[39mkwds)\n",
      "File \u001b[0;32m/data/pinello/SHARED_SOFTWARE/anaconda_latest/envs/cc_envs/cc_mamba_simba/lib/python3.9/site-packages/igraph/drawing/cairo/plot.py:148\u001b[0m, in \u001b[0;36mCairoPlot.__init__\u001b[0;34m(self, target, bbox, palette, background)\u001b[0m\n\u001b[1;32m    146\u001b[0m \u001b[38;5;28;01mif\u001b[39;00m target \u001b[38;5;129;01mis\u001b[39;00m \u001b[38;5;28;01mNone\u001b[39;00m:\n\u001b[1;32m    147\u001b[0m     \u001b[38;5;28mself\u001b[39m\u001b[38;5;241m.\u001b[39m_need_tmpfile \u001b[38;5;241m=\u001b[39m \u001b[38;5;28;01mTrue\u001b[39;00m\n\u001b[0;32m--> 148\u001b[0m     \u001b[38;5;28mself\u001b[39m\u001b[38;5;241m.\u001b[39m_surface \u001b[38;5;241m=\u001b[39m \u001b[43mcairo\u001b[49m\u001b[38;5;241;43m.\u001b[39;49m\u001b[43mImageSurface\u001b[49m(\n\u001b[1;32m    149\u001b[0m         cairo\u001b[38;5;241m.\u001b[39mFORMAT_ARGB32, \u001b[38;5;28mint\u001b[39m(\u001b[38;5;28mself\u001b[39m\u001b[38;5;241m.\u001b[39mbbox\u001b[38;5;241m.\u001b[39mwidth), \u001b[38;5;28mint\u001b[39m(\u001b[38;5;28mself\u001b[39m\u001b[38;5;241m.\u001b[39mbbox\u001b[38;5;241m.\u001b[39mheight)\n\u001b[1;32m    150\u001b[0m     )\n\u001b[1;32m    151\u001b[0m \u001b[38;5;28;01melif\u001b[39;00m \u001b[38;5;28misinstance\u001b[39m(target, cairo\u001b[38;5;241m.\u001b[39mSurface):\n\u001b[1;32m    152\u001b[0m     \u001b[38;5;28mself\u001b[39m\u001b[38;5;241m.\u001b[39m_surface \u001b[38;5;241m=\u001b[39m target\n",
      "File \u001b[0;32m/data/pinello/SHARED_SOFTWARE/anaconda_latest/envs/cc_envs/cc_mamba_simba/lib/python3.9/site-packages/igraph/drawing/utils.py:428\u001b[0m, in \u001b[0;36mFakeModule.__getattr__\u001b[0;34m(self, _)\u001b[0m\n\u001b[1;32m    427\u001b[0m \u001b[38;5;28;01mdef\u001b[39;00m\u001b[38;5;250m \u001b[39m\u001b[38;5;21m__getattr__\u001b[39m(\u001b[38;5;28mself\u001b[39m, _):\n\u001b[0;32m--> 428\u001b[0m     \u001b[38;5;28;01mraise\u001b[39;00m \u001b[38;5;167;01mAttributeError\u001b[39;00m(\u001b[38;5;28mself\u001b[39m\u001b[38;5;241m.\u001b[39m_message)\n",
      "\u001b[0;31mAttributeError\u001b[0m: Plotting not available; please install pycairo or cairocffi"
     ]
    }
   ],
   "source": [
    "layout = snn_graph.layout(\"fr\", grid=True)\n",
    "ig.plot(clusters, layout=layout, bbox=(500, 500), vertex_label=range(len(membership)))"
   ]
  },
  {
   "cell_type": "code",
   "execution_count": null,
   "metadata": {},
   "outputs": [],
   "source": []
  }
 ],
 "metadata": {
  "kernelspec": {
   "display_name": "Python 3",
   "language": "python",
   "name": "python3"
  },
  "language_info": {
   "codemirror_mode": {
    "name": "ipython",
    "version": 3
   },
   "file_extension": ".py",
   "mimetype": "text/x-python",
   "name": "python",
   "nbconvert_exporter": "python",
   "pygments_lexer": "ipython3",
   "version": "3.9.21"
  }
 },
 "nbformat": 4,
 "nbformat_minor": 2
}
