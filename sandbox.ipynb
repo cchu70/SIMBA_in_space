{
 "cells": [
  {
   "cell_type": "markdown",
   "id": "8c26d73d-8e72-443b-81cf-210831cf00ce",
   "metadata": {},
   "source": [
    "# sandbox"
   ]
  },
  {
   "cell_type": "code",
   "execution_count": 1,
   "id": "ff6c667f-f575-47ec-927f-1f17fec23dc2",
   "metadata": {},
   "outputs": [],
   "source": [
    "%load_ext autoreload\n",
    "%autoreload 2"
   ]
  },
  {
   "cell_type": "code",
   "execution_count": 16,
   "id": "980086c7-3776-4586-9631-78c7007cc5fc",
   "metadata": {},
   "outputs": [],
   "source": [
    "import scanpy as sc\n",
    "import seaborn as sns\n",
    "import matplotlib.pyplot as plt\n",
    "import pandas as pd\n",
    "import numpy as np\n",
    "import scipy as sc\n",
    "import plotly.express as px"
   ]
  },
  {
   "cell_type": "markdown",
   "id": "1f1e370d-a1d3-4be3-b182-5cb8f6b2634d",
   "metadata": {},
   "source": [
    "## SVD for linking cells"
   ]
  },
  {
   "cell_type": "code",
   "execution_count": 21,
   "id": "5c4d7fde-da36-4e26-bd84-410bc7ec60b1",
   "metadata": {},
   "outputs": [
    {
     "data": {
      "text/html": [
       "<div>\n",
       "<style scoped>\n",
       "    .dataframe tbody tr th:only-of-type {\n",
       "        vertical-align: middle;\n",
       "    }\n",
       "\n",
       "    .dataframe tbody tr th {\n",
       "        vertical-align: top;\n",
       "    }\n",
       "\n",
       "    .dataframe thead th {\n",
       "        text-align: right;\n",
       "    }\n",
       "</style>\n",
       "<table border=\"1\" class=\"dataframe\">\n",
       "  <thead>\n",
       "    <tr style=\"text-align: right;\">\n",
       "      <th></th>\n",
       "      <th>G0</th>\n",
       "      <th>G1</th>\n",
       "      <th>G2</th>\n",
       "    </tr>\n",
       "  </thead>\n",
       "  <tbody>\n",
       "    <tr>\n",
       "      <th>C0</th>\n",
       "      <td>1</td>\n",
       "      <td>2</td>\n",
       "      <td>0</td>\n",
       "    </tr>\n",
       "    <tr>\n",
       "      <th>C1</th>\n",
       "      <td>0</td>\n",
       "      <td>1</td>\n",
       "      <td>1</td>\n",
       "    </tr>\n",
       "    <tr>\n",
       "      <th>C2</th>\n",
       "      <td>0</td>\n",
       "      <td>0</td>\n",
       "      <td>1</td>\n",
       "    </tr>\n",
       "  </tbody>\n",
       "</table>\n",
       "</div>"
      ],
      "text/plain": [
       "    G0  G1  G2\n",
       "C0   1   2   0\n",
       "C1   0   1   1\n",
       "C2   0   0   1"
      ]
     },
     "execution_count": 21,
     "metadata": {},
     "output_type": "execute_result"
    }
   ],
   "source": [
    "X1 = pd.DataFrame(\n",
    "    data=[\n",
    "        [1, 2, 0],\n",
    "        [0, 1, 1],\n",
    "        [0, 0, 1],\n",
    "    ],\n",
    "    index = ['C0', 'C1', 'C2'],\n",
    "    columns = ['G0', 'G1', 'G2']\n",
    ")\n",
    "X1"
   ]
  },
  {
   "cell_type": "code",
   "execution_count": 27,
   "id": "57608ba5-57f6-490d-94bc-7fcaea5da941",
   "metadata": {},
   "outputs": [
    {
     "data": {
      "text/html": [
       "<div>\n",
       "<style scoped>\n",
       "    .dataframe tbody tr th:only-of-type {\n",
       "        vertical-align: middle;\n",
       "    }\n",
       "\n",
       "    .dataframe tbody tr th {\n",
       "        vertical-align: top;\n",
       "    }\n",
       "\n",
       "    .dataframe thead th {\n",
       "        text-align: right;\n",
       "    }\n",
       "</style>\n",
       "<table border=\"1\" class=\"dataframe\">\n",
       "  <thead>\n",
       "    <tr style=\"text-align: right;\">\n",
       "      <th></th>\n",
       "      <th>C0</th>\n",
       "      <th>C1</th>\n",
       "      <th>C2</th>\n",
       "    </tr>\n",
       "  </thead>\n",
       "  <tbody>\n",
       "    <tr>\n",
       "      <th>G0</th>\n",
       "      <td>1</td>\n",
       "      <td>0</td>\n",
       "      <td>0</td>\n",
       "    </tr>\n",
       "    <tr>\n",
       "      <th>G1</th>\n",
       "      <td>2</td>\n",
       "      <td>1</td>\n",
       "      <td>0</td>\n",
       "    </tr>\n",
       "    <tr>\n",
       "      <th>G2</th>\n",
       "      <td>0</td>\n",
       "      <td>1</td>\n",
       "      <td>1</td>\n",
       "    </tr>\n",
       "  </tbody>\n",
       "</table>\n",
       "</div>"
      ],
      "text/plain": [
       "    C0  C1  C2\n",
       "G0   1   0   0\n",
       "G1   2   1   0\n",
       "G2   0   1   1"
      ]
     },
     "execution_count": 27,
     "metadata": {},
     "output_type": "execute_result"
    }
   ],
   "source": [
    "X1.T"
   ]
  },
  {
   "cell_type": "code",
   "execution_count": 23,
   "id": "6b0c6cff-ea95-4c24-9781-43651bc7f5bb",
   "metadata": {},
   "outputs": [
    {
     "data": {
      "application/vnd.plotly.v1+json": {
       "config": {
        "plotlyServerURL": "https://plot.ly"
       },
       "data": [
        {
         "hovertemplate": "G0=%{x}<br>G1=%{y}<br>G2=%{z}<extra></extra>",
         "legendgroup": "",
         "marker": {
          "color": "#636efa",
          "symbol": "circle"
         },
         "mode": "markers",
         "name": "",
         "scene": "scene",
         "showlegend": false,
         "type": "scatter3d",
         "x": [
          1,
          0,
          0
         ],
         "y": [
          2,
          1,
          0
         ],
         "z": [
          0,
          1,
          1
         ]
        }
       ],
       "layout": {
        "height": 500,
        "legend": {
         "tracegroupgap": 0
        },
        "margin": {
         "t": 60
        },
        "scene": {
         "aspectmode": "auto",
         "aspectratio": {
          "x": 0.7937005259840998,
          "y": 1.5874010519681996,
          "z": 0.7937005259840998
         },
         "camera": {
          "center": {
           "x": 0,
           "y": 0,
           "z": 0
          },
          "eye": {
           "x": 2.726979856501884,
           "y": 4.747679900500561,
           "z": 0.4030653303535133
          },
          "projection": {
           "type": "perspective"
          },
          "up": {
           "x": -0.001718840439202042,
           "y": 0.0010321733803589199,
           "z": 0.9999979901008089
          }
         },
         "domain": {
          "x": [
           0,
           1
          ],
          "y": [
           0,
           1
          ]
         },
         "xaxis": {
          "title": {
           "text": "G0"
          },
          "type": "linear"
         },
         "yaxis": {
          "title": {
           "text": "G1"
          },
          "type": "linear"
         },
         "zaxis": {
          "title": {
           "text": "G2"
          },
          "type": "linear"
         }
        },
        "template": {
         "data": {
          "bar": [
           {
            "error_x": {
             "color": "#2a3f5f"
            },
            "error_y": {
             "color": "#2a3f5f"
            },
            "marker": {
             "line": {
              "color": "#E5ECF6",
              "width": 0.5
             },
             "pattern": {
              "fillmode": "overlay",
              "size": 10,
              "solidity": 0.2
             }
            },
            "type": "bar"
           }
          ],
          "barpolar": [
           {
            "marker": {
             "line": {
              "color": "#E5ECF6",
              "width": 0.5
             },
             "pattern": {
              "fillmode": "overlay",
              "size": 10,
              "solidity": 0.2
             }
            },
            "type": "barpolar"
           }
          ],
          "carpet": [
           {
            "aaxis": {
             "endlinecolor": "#2a3f5f",
             "gridcolor": "white",
             "linecolor": "white",
             "minorgridcolor": "white",
             "startlinecolor": "#2a3f5f"
            },
            "baxis": {
             "endlinecolor": "#2a3f5f",
             "gridcolor": "white",
             "linecolor": "white",
             "minorgridcolor": "white",
             "startlinecolor": "#2a3f5f"
            },
            "type": "carpet"
           }
          ],
          "choropleth": [
           {
            "colorbar": {
             "outlinewidth": 0,
             "ticks": ""
            },
            "type": "choropleth"
           }
          ],
          "contour": [
           {
            "colorbar": {
             "outlinewidth": 0,
             "ticks": ""
            },
            "colorscale": [
             [
              0,
              "#0d0887"
             ],
             [
              0.1111111111111111,
              "#46039f"
             ],
             [
              0.2222222222222222,
              "#7201a8"
             ],
             [
              0.3333333333333333,
              "#9c179e"
             ],
             [
              0.4444444444444444,
              "#bd3786"
             ],
             [
              0.5555555555555556,
              "#d8576b"
             ],
             [
              0.6666666666666666,
              "#ed7953"
             ],
             [
              0.7777777777777778,
              "#fb9f3a"
             ],
             [
              0.8888888888888888,
              "#fdca26"
             ],
             [
              1,
              "#f0f921"
             ]
            ],
            "type": "contour"
           }
          ],
          "contourcarpet": [
           {
            "colorbar": {
             "outlinewidth": 0,
             "ticks": ""
            },
            "type": "contourcarpet"
           }
          ],
          "heatmap": [
           {
            "colorbar": {
             "outlinewidth": 0,
             "ticks": ""
            },
            "colorscale": [
             [
              0,
              "#0d0887"
             ],
             [
              0.1111111111111111,
              "#46039f"
             ],
             [
              0.2222222222222222,
              "#7201a8"
             ],
             [
              0.3333333333333333,
              "#9c179e"
             ],
             [
              0.4444444444444444,
              "#bd3786"
             ],
             [
              0.5555555555555556,
              "#d8576b"
             ],
             [
              0.6666666666666666,
              "#ed7953"
             ],
             [
              0.7777777777777778,
              "#fb9f3a"
             ],
             [
              0.8888888888888888,
              "#fdca26"
             ],
             [
              1,
              "#f0f921"
             ]
            ],
            "type": "heatmap"
           }
          ],
          "heatmapgl": [
           {
            "colorbar": {
             "outlinewidth": 0,
             "ticks": ""
            },
            "colorscale": [
             [
              0,
              "#0d0887"
             ],
             [
              0.1111111111111111,
              "#46039f"
             ],
             [
              0.2222222222222222,
              "#7201a8"
             ],
             [
              0.3333333333333333,
              "#9c179e"
             ],
             [
              0.4444444444444444,
              "#bd3786"
             ],
             [
              0.5555555555555556,
              "#d8576b"
             ],
             [
              0.6666666666666666,
              "#ed7953"
             ],
             [
              0.7777777777777778,
              "#fb9f3a"
             ],
             [
              0.8888888888888888,
              "#fdca26"
             ],
             [
              1,
              "#f0f921"
             ]
            ],
            "type": "heatmapgl"
           }
          ],
          "histogram": [
           {
            "marker": {
             "pattern": {
              "fillmode": "overlay",
              "size": 10,
              "solidity": 0.2
             }
            },
            "type": "histogram"
           }
          ],
          "histogram2d": [
           {
            "colorbar": {
             "outlinewidth": 0,
             "ticks": ""
            },
            "colorscale": [
             [
              0,
              "#0d0887"
             ],
             [
              0.1111111111111111,
              "#46039f"
             ],
             [
              0.2222222222222222,
              "#7201a8"
             ],
             [
              0.3333333333333333,
              "#9c179e"
             ],
             [
              0.4444444444444444,
              "#bd3786"
             ],
             [
              0.5555555555555556,
              "#d8576b"
             ],
             [
              0.6666666666666666,
              "#ed7953"
             ],
             [
              0.7777777777777778,
              "#fb9f3a"
             ],
             [
              0.8888888888888888,
              "#fdca26"
             ],
             [
              1,
              "#f0f921"
             ]
            ],
            "type": "histogram2d"
           }
          ],
          "histogram2dcontour": [
           {
            "colorbar": {
             "outlinewidth": 0,
             "ticks": ""
            },
            "colorscale": [
             [
              0,
              "#0d0887"
             ],
             [
              0.1111111111111111,
              "#46039f"
             ],
             [
              0.2222222222222222,
              "#7201a8"
             ],
             [
              0.3333333333333333,
              "#9c179e"
             ],
             [
              0.4444444444444444,
              "#bd3786"
             ],
             [
              0.5555555555555556,
              "#d8576b"
             ],
             [
              0.6666666666666666,
              "#ed7953"
             ],
             [
              0.7777777777777778,
              "#fb9f3a"
             ],
             [
              0.8888888888888888,
              "#fdca26"
             ],
             [
              1,
              "#f0f921"
             ]
            ],
            "type": "histogram2dcontour"
           }
          ],
          "mesh3d": [
           {
            "colorbar": {
             "outlinewidth": 0,
             "ticks": ""
            },
            "type": "mesh3d"
           }
          ],
          "parcoords": [
           {
            "line": {
             "colorbar": {
              "outlinewidth": 0,
              "ticks": ""
             }
            },
            "type": "parcoords"
           }
          ],
          "pie": [
           {
            "automargin": true,
            "type": "pie"
           }
          ],
          "scatter": [
           {
            "fillpattern": {
             "fillmode": "overlay",
             "size": 10,
             "solidity": 0.2
            },
            "type": "scatter"
           }
          ],
          "scatter3d": [
           {
            "line": {
             "colorbar": {
              "outlinewidth": 0,
              "ticks": ""
             }
            },
            "marker": {
             "colorbar": {
              "outlinewidth": 0,
              "ticks": ""
             }
            },
            "type": "scatter3d"
           }
          ],
          "scattercarpet": [
           {
            "marker": {
             "colorbar": {
              "outlinewidth": 0,
              "ticks": ""
             }
            },
            "type": "scattercarpet"
           }
          ],
          "scattergeo": [
           {
            "marker": {
             "colorbar": {
              "outlinewidth": 0,
              "ticks": ""
             }
            },
            "type": "scattergeo"
           }
          ],
          "scattergl": [
           {
            "marker": {
             "colorbar": {
              "outlinewidth": 0,
              "ticks": ""
             }
            },
            "type": "scattergl"
           }
          ],
          "scattermapbox": [
           {
            "marker": {
             "colorbar": {
              "outlinewidth": 0,
              "ticks": ""
             }
            },
            "type": "scattermapbox"
           }
          ],
          "scatterpolar": [
           {
            "marker": {
             "colorbar": {
              "outlinewidth": 0,
              "ticks": ""
             }
            },
            "type": "scatterpolar"
           }
          ],
          "scatterpolargl": [
           {
            "marker": {
             "colorbar": {
              "outlinewidth": 0,
              "ticks": ""
             }
            },
            "type": "scatterpolargl"
           }
          ],
          "scatterternary": [
           {
            "marker": {
             "colorbar": {
              "outlinewidth": 0,
              "ticks": ""
             }
            },
            "type": "scatterternary"
           }
          ],
          "surface": [
           {
            "colorbar": {
             "outlinewidth": 0,
             "ticks": ""
            },
            "colorscale": [
             [
              0,
              "#0d0887"
             ],
             [
              0.1111111111111111,
              "#46039f"
             ],
             [
              0.2222222222222222,
              "#7201a8"
             ],
             [
              0.3333333333333333,
              "#9c179e"
             ],
             [
              0.4444444444444444,
              "#bd3786"
             ],
             [
              0.5555555555555556,
              "#d8576b"
             ],
             [
              0.6666666666666666,
              "#ed7953"
             ],
             [
              0.7777777777777778,
              "#fb9f3a"
             ],
             [
              0.8888888888888888,
              "#fdca26"
             ],
             [
              1,
              "#f0f921"
             ]
            ],
            "type": "surface"
           }
          ],
          "table": [
           {
            "cells": {
             "fill": {
              "color": "#EBF0F8"
             },
             "line": {
              "color": "white"
             }
            },
            "header": {
             "fill": {
              "color": "#C8D4E3"
             },
             "line": {
              "color": "white"
             }
            },
            "type": "table"
           }
          ]
         },
         "layout": {
          "annotationdefaults": {
           "arrowcolor": "#2a3f5f",
           "arrowhead": 0,
           "arrowwidth": 1
          },
          "autotypenumbers": "strict",
          "coloraxis": {
           "colorbar": {
            "outlinewidth": 0,
            "ticks": ""
           }
          },
          "colorscale": {
           "diverging": [
            [
             0,
             "#8e0152"
            ],
            [
             0.1,
             "#c51b7d"
            ],
            [
             0.2,
             "#de77ae"
            ],
            [
             0.3,
             "#f1b6da"
            ],
            [
             0.4,
             "#fde0ef"
            ],
            [
             0.5,
             "#f7f7f7"
            ],
            [
             0.6,
             "#e6f5d0"
            ],
            [
             0.7,
             "#b8e186"
            ],
            [
             0.8,
             "#7fbc41"
            ],
            [
             0.9,
             "#4d9221"
            ],
            [
             1,
             "#276419"
            ]
           ],
           "sequential": [
            [
             0,
             "#0d0887"
            ],
            [
             0.1111111111111111,
             "#46039f"
            ],
            [
             0.2222222222222222,
             "#7201a8"
            ],
            [
             0.3333333333333333,
             "#9c179e"
            ],
            [
             0.4444444444444444,
             "#bd3786"
            ],
            [
             0.5555555555555556,
             "#d8576b"
            ],
            [
             0.6666666666666666,
             "#ed7953"
            ],
            [
             0.7777777777777778,
             "#fb9f3a"
            ],
            [
             0.8888888888888888,
             "#fdca26"
            ],
            [
             1,
             "#f0f921"
            ]
           ],
           "sequentialminus": [
            [
             0,
             "#0d0887"
            ],
            [
             0.1111111111111111,
             "#46039f"
            ],
            [
             0.2222222222222222,
             "#7201a8"
            ],
            [
             0.3333333333333333,
             "#9c179e"
            ],
            [
             0.4444444444444444,
             "#bd3786"
            ],
            [
             0.5555555555555556,
             "#d8576b"
            ],
            [
             0.6666666666666666,
             "#ed7953"
            ],
            [
             0.7777777777777778,
             "#fb9f3a"
            ],
            [
             0.8888888888888888,
             "#fdca26"
            ],
            [
             1,
             "#f0f921"
            ]
           ]
          },
          "colorway": [
           "#636efa",
           "#EF553B",
           "#00cc96",
           "#ab63fa",
           "#FFA15A",
           "#19d3f3",
           "#FF6692",
           "#B6E880",
           "#FF97FF",
           "#FECB52"
          ],
          "font": {
           "color": "#2a3f5f"
          },
          "geo": {
           "bgcolor": "white",
           "lakecolor": "white",
           "landcolor": "#E5ECF6",
           "showlakes": true,
           "showland": true,
           "subunitcolor": "white"
          },
          "hoverlabel": {
           "align": "left"
          },
          "hovermode": "closest",
          "mapbox": {
           "style": "light"
          },
          "paper_bgcolor": "white",
          "plot_bgcolor": "#E5ECF6",
          "polar": {
           "angularaxis": {
            "gridcolor": "white",
            "linecolor": "white",
            "ticks": ""
           },
           "bgcolor": "#E5ECF6",
           "radialaxis": {
            "gridcolor": "white",
            "linecolor": "white",
            "ticks": ""
           }
          },
          "scene": {
           "xaxis": {
            "backgroundcolor": "#E5ECF6",
            "gridcolor": "white",
            "gridwidth": 2,
            "linecolor": "white",
            "showbackground": true,
            "ticks": "",
            "zerolinecolor": "white"
           },
           "yaxis": {
            "backgroundcolor": "#E5ECF6",
            "gridcolor": "white",
            "gridwidth": 2,
            "linecolor": "white",
            "showbackground": true,
            "ticks": "",
            "zerolinecolor": "white"
           },
           "zaxis": {
            "backgroundcolor": "#E5ECF6",
            "gridcolor": "white",
            "gridwidth": 2,
            "linecolor": "white",
            "showbackground": true,
            "ticks": "",
            "zerolinecolor": "white"
           }
          },
          "shapedefaults": {
           "line": {
            "color": "#2a3f5f"
           }
          },
          "ternary": {
           "aaxis": {
            "gridcolor": "white",
            "linecolor": "white",
            "ticks": ""
           },
           "baxis": {
            "gridcolor": "white",
            "linecolor": "white",
            "ticks": ""
           },
           "bgcolor": "#E5ECF6",
           "caxis": {
            "gridcolor": "white",
            "linecolor": "white",
            "ticks": ""
           }
          },
          "title": {
           "x": 0.05
          },
          "xaxis": {
           "automargin": true,
           "gridcolor": "white",
           "linecolor": "white",
           "ticks": "",
           "title": {
            "standoff": 15
           },
           "zerolinecolor": "white",
           "zerolinewidth": 2
          },
          "yaxis": {
           "automargin": true,
           "gridcolor": "white",
           "linecolor": "white",
           "ticks": "",
           "title": {
            "standoff": 15
           },
           "zerolinecolor": "white",
           "zerolinewidth": 2
          }
         }
        },
        "width": 500
       }
      },
      "text/html": [
       "<div>                            <div id=\"83a74c93-0401-4d07-be8b-12141fc3da29\" class=\"plotly-graph-div\" style=\"height:500px; width:500px;\"></div>            <script type=\"text/javascript\">                require([\"plotly\"], function(Plotly) {                    window.PLOTLYENV=window.PLOTLYENV || {};                                    if (document.getElementById(\"83a74c93-0401-4d07-be8b-12141fc3da29\")) {                    Plotly.newPlot(                        \"83a74c93-0401-4d07-be8b-12141fc3da29\",                        [{\"hovertemplate\":\"G0=%{x}\\u003cbr\\u003eG1=%{y}\\u003cbr\\u003eG2=%{z}\\u003cextra\\u003e\\u003c\\u002fextra\\u003e\",\"legendgroup\":\"\",\"marker\":{\"color\":\"#636efa\",\"symbol\":\"circle\"},\"mode\":\"markers\",\"name\":\"\",\"scene\":\"scene\",\"showlegend\":false,\"x\":[1,0,0],\"y\":[2,1,0],\"z\":[0,1,1],\"type\":\"scatter3d\"}],                        {\"template\":{\"data\":{\"histogram2dcontour\":[{\"type\":\"histogram2dcontour\",\"colorbar\":{\"outlinewidth\":0,\"ticks\":\"\"},\"colorscale\":[[0.0,\"#0d0887\"],[0.1111111111111111,\"#46039f\"],[0.2222222222222222,\"#7201a8\"],[0.3333333333333333,\"#9c179e\"],[0.4444444444444444,\"#bd3786\"],[0.5555555555555556,\"#d8576b\"],[0.6666666666666666,\"#ed7953\"],[0.7777777777777778,\"#fb9f3a\"],[0.8888888888888888,\"#fdca26\"],[1.0,\"#f0f921\"]]}],\"choropleth\":[{\"type\":\"choropleth\",\"colorbar\":{\"outlinewidth\":0,\"ticks\":\"\"}}],\"histogram2d\":[{\"type\":\"histogram2d\",\"colorbar\":{\"outlinewidth\":0,\"ticks\":\"\"},\"colorscale\":[[0.0,\"#0d0887\"],[0.1111111111111111,\"#46039f\"],[0.2222222222222222,\"#7201a8\"],[0.3333333333333333,\"#9c179e\"],[0.4444444444444444,\"#bd3786\"],[0.5555555555555556,\"#d8576b\"],[0.6666666666666666,\"#ed7953\"],[0.7777777777777778,\"#fb9f3a\"],[0.8888888888888888,\"#fdca26\"],[1.0,\"#f0f921\"]]}],\"heatmap\":[{\"type\":\"heatmap\",\"colorbar\":{\"outlinewidth\":0,\"ticks\":\"\"},\"colorscale\":[[0.0,\"#0d0887\"],[0.1111111111111111,\"#46039f\"],[0.2222222222222222,\"#7201a8\"],[0.3333333333333333,\"#9c179e\"],[0.4444444444444444,\"#bd3786\"],[0.5555555555555556,\"#d8576b\"],[0.6666666666666666,\"#ed7953\"],[0.7777777777777778,\"#fb9f3a\"],[0.8888888888888888,\"#fdca26\"],[1.0,\"#f0f921\"]]}],\"heatmapgl\":[{\"type\":\"heatmapgl\",\"colorbar\":{\"outlinewidth\":0,\"ticks\":\"\"},\"colorscale\":[[0.0,\"#0d0887\"],[0.1111111111111111,\"#46039f\"],[0.2222222222222222,\"#7201a8\"],[0.3333333333333333,\"#9c179e\"],[0.4444444444444444,\"#bd3786\"],[0.5555555555555556,\"#d8576b\"],[0.6666666666666666,\"#ed7953\"],[0.7777777777777778,\"#fb9f3a\"],[0.8888888888888888,\"#fdca26\"],[1.0,\"#f0f921\"]]}],\"contourcarpet\":[{\"type\":\"contourcarpet\",\"colorbar\":{\"outlinewidth\":0,\"ticks\":\"\"}}],\"contour\":[{\"type\":\"contour\",\"colorbar\":{\"outlinewidth\":0,\"ticks\":\"\"},\"colorscale\":[[0.0,\"#0d0887\"],[0.1111111111111111,\"#46039f\"],[0.2222222222222222,\"#7201a8\"],[0.3333333333333333,\"#9c179e\"],[0.4444444444444444,\"#bd3786\"],[0.5555555555555556,\"#d8576b\"],[0.6666666666666666,\"#ed7953\"],[0.7777777777777778,\"#fb9f3a\"],[0.8888888888888888,\"#fdca26\"],[1.0,\"#f0f921\"]]}],\"surface\":[{\"type\":\"surface\",\"colorbar\":{\"outlinewidth\":0,\"ticks\":\"\"},\"colorscale\":[[0.0,\"#0d0887\"],[0.1111111111111111,\"#46039f\"],[0.2222222222222222,\"#7201a8\"],[0.3333333333333333,\"#9c179e\"],[0.4444444444444444,\"#bd3786\"],[0.5555555555555556,\"#d8576b\"],[0.6666666666666666,\"#ed7953\"],[0.7777777777777778,\"#fb9f3a\"],[0.8888888888888888,\"#fdca26\"],[1.0,\"#f0f921\"]]}],\"mesh3d\":[{\"type\":\"mesh3d\",\"colorbar\":{\"outlinewidth\":0,\"ticks\":\"\"}}],\"scatter\":[{\"fillpattern\":{\"fillmode\":\"overlay\",\"size\":10,\"solidity\":0.2},\"type\":\"scatter\"}],\"parcoords\":[{\"type\":\"parcoords\",\"line\":{\"colorbar\":{\"outlinewidth\":0,\"ticks\":\"\"}}}],\"scatterpolargl\":[{\"type\":\"scatterpolargl\",\"marker\":{\"colorbar\":{\"outlinewidth\":0,\"ticks\":\"\"}}}],\"bar\":[{\"error_x\":{\"color\":\"#2a3f5f\"},\"error_y\":{\"color\":\"#2a3f5f\"},\"marker\":{\"line\":{\"color\":\"#E5ECF6\",\"width\":0.5},\"pattern\":{\"fillmode\":\"overlay\",\"size\":10,\"solidity\":0.2}},\"type\":\"bar\"}],\"scattergeo\":[{\"type\":\"scattergeo\",\"marker\":{\"colorbar\":{\"outlinewidth\":0,\"ticks\":\"\"}}}],\"scatterpolar\":[{\"type\":\"scatterpolar\",\"marker\":{\"colorbar\":{\"outlinewidth\":0,\"ticks\":\"\"}}}],\"histogram\":[{\"marker\":{\"pattern\":{\"fillmode\":\"overlay\",\"size\":10,\"solidity\":0.2}},\"type\":\"histogram\"}],\"scattergl\":[{\"type\":\"scattergl\",\"marker\":{\"colorbar\":{\"outlinewidth\":0,\"ticks\":\"\"}}}],\"scatter3d\":[{\"type\":\"scatter3d\",\"line\":{\"colorbar\":{\"outlinewidth\":0,\"ticks\":\"\"}},\"marker\":{\"colorbar\":{\"outlinewidth\":0,\"ticks\":\"\"}}}],\"scattermapbox\":[{\"type\":\"scattermapbox\",\"marker\":{\"colorbar\":{\"outlinewidth\":0,\"ticks\":\"\"}}}],\"scatterternary\":[{\"type\":\"scatterternary\",\"marker\":{\"colorbar\":{\"outlinewidth\":0,\"ticks\":\"\"}}}],\"scattercarpet\":[{\"type\":\"scattercarpet\",\"marker\":{\"colorbar\":{\"outlinewidth\":0,\"ticks\":\"\"}}}],\"carpet\":[{\"aaxis\":{\"endlinecolor\":\"#2a3f5f\",\"gridcolor\":\"white\",\"linecolor\":\"white\",\"minorgridcolor\":\"white\",\"startlinecolor\":\"#2a3f5f\"},\"baxis\":{\"endlinecolor\":\"#2a3f5f\",\"gridcolor\":\"white\",\"linecolor\":\"white\",\"minorgridcolor\":\"white\",\"startlinecolor\":\"#2a3f5f\"},\"type\":\"carpet\"}],\"table\":[{\"cells\":{\"fill\":{\"color\":\"#EBF0F8\"},\"line\":{\"color\":\"white\"}},\"header\":{\"fill\":{\"color\":\"#C8D4E3\"},\"line\":{\"color\":\"white\"}},\"type\":\"table\"}],\"barpolar\":[{\"marker\":{\"line\":{\"color\":\"#E5ECF6\",\"width\":0.5},\"pattern\":{\"fillmode\":\"overlay\",\"size\":10,\"solidity\":0.2}},\"type\":\"barpolar\"}],\"pie\":[{\"automargin\":true,\"type\":\"pie\"}]},\"layout\":{\"autotypenumbers\":\"strict\",\"colorway\":[\"#636efa\",\"#EF553B\",\"#00cc96\",\"#ab63fa\",\"#FFA15A\",\"#19d3f3\",\"#FF6692\",\"#B6E880\",\"#FF97FF\",\"#FECB52\"],\"font\":{\"color\":\"#2a3f5f\"},\"hovermode\":\"closest\",\"hoverlabel\":{\"align\":\"left\"},\"paper_bgcolor\":\"white\",\"plot_bgcolor\":\"#E5ECF6\",\"polar\":{\"bgcolor\":\"#E5ECF6\",\"angularaxis\":{\"gridcolor\":\"white\",\"linecolor\":\"white\",\"ticks\":\"\"},\"radialaxis\":{\"gridcolor\":\"white\",\"linecolor\":\"white\",\"ticks\":\"\"}},\"ternary\":{\"bgcolor\":\"#E5ECF6\",\"aaxis\":{\"gridcolor\":\"white\",\"linecolor\":\"white\",\"ticks\":\"\"},\"baxis\":{\"gridcolor\":\"white\",\"linecolor\":\"white\",\"ticks\":\"\"},\"caxis\":{\"gridcolor\":\"white\",\"linecolor\":\"white\",\"ticks\":\"\"}},\"coloraxis\":{\"colorbar\":{\"outlinewidth\":0,\"ticks\":\"\"}},\"colorscale\":{\"sequential\":[[0.0,\"#0d0887\"],[0.1111111111111111,\"#46039f\"],[0.2222222222222222,\"#7201a8\"],[0.3333333333333333,\"#9c179e\"],[0.4444444444444444,\"#bd3786\"],[0.5555555555555556,\"#d8576b\"],[0.6666666666666666,\"#ed7953\"],[0.7777777777777778,\"#fb9f3a\"],[0.8888888888888888,\"#fdca26\"],[1.0,\"#f0f921\"]],\"sequentialminus\":[[0.0,\"#0d0887\"],[0.1111111111111111,\"#46039f\"],[0.2222222222222222,\"#7201a8\"],[0.3333333333333333,\"#9c179e\"],[0.4444444444444444,\"#bd3786\"],[0.5555555555555556,\"#d8576b\"],[0.6666666666666666,\"#ed7953\"],[0.7777777777777778,\"#fb9f3a\"],[0.8888888888888888,\"#fdca26\"],[1.0,\"#f0f921\"]],\"diverging\":[[0,\"#8e0152\"],[0.1,\"#c51b7d\"],[0.2,\"#de77ae\"],[0.3,\"#f1b6da\"],[0.4,\"#fde0ef\"],[0.5,\"#f7f7f7\"],[0.6,\"#e6f5d0\"],[0.7,\"#b8e186\"],[0.8,\"#7fbc41\"],[0.9,\"#4d9221\"],[1,\"#276419\"]]},\"xaxis\":{\"gridcolor\":\"white\",\"linecolor\":\"white\",\"ticks\":\"\",\"title\":{\"standoff\":15},\"zerolinecolor\":\"white\",\"automargin\":true,\"zerolinewidth\":2},\"yaxis\":{\"gridcolor\":\"white\",\"linecolor\":\"white\",\"ticks\":\"\",\"title\":{\"standoff\":15},\"zerolinecolor\":\"white\",\"automargin\":true,\"zerolinewidth\":2},\"scene\":{\"xaxis\":{\"backgroundcolor\":\"#E5ECF6\",\"gridcolor\":\"white\",\"linecolor\":\"white\",\"showbackground\":true,\"ticks\":\"\",\"zerolinecolor\":\"white\",\"gridwidth\":2},\"yaxis\":{\"backgroundcolor\":\"#E5ECF6\",\"gridcolor\":\"white\",\"linecolor\":\"white\",\"showbackground\":true,\"ticks\":\"\",\"zerolinecolor\":\"white\",\"gridwidth\":2},\"zaxis\":{\"backgroundcolor\":\"#E5ECF6\",\"gridcolor\":\"white\",\"linecolor\":\"white\",\"showbackground\":true,\"ticks\":\"\",\"zerolinecolor\":\"white\",\"gridwidth\":2}},\"shapedefaults\":{\"line\":{\"color\":\"#2a3f5f\"}},\"annotationdefaults\":{\"arrowcolor\":\"#2a3f5f\",\"arrowhead\":0,\"arrowwidth\":1},\"geo\":{\"bgcolor\":\"white\",\"landcolor\":\"#E5ECF6\",\"subunitcolor\":\"white\",\"showland\":true,\"showlakes\":true,\"lakecolor\":\"white\"},\"title\":{\"x\":0.05},\"mapbox\":{\"style\":\"light\"}}},\"scene\":{\"domain\":{\"x\":[0.0,1.0],\"y\":[0.0,1.0]},\"xaxis\":{\"title\":{\"text\":\"G0\"}},\"yaxis\":{\"title\":{\"text\":\"G1\"}},\"zaxis\":{\"title\":{\"text\":\"G2\"}}},\"legend\":{\"tracegroupgap\":0},\"margin\":{\"t\":60},\"height\":500,\"width\":500},                        {\"responsive\": true}                    ).then(function(){\n",
       "                            \n",
       "var gd = document.getElementById('83a74c93-0401-4d07-be8b-12141fc3da29');\n",
       "var x = new MutationObserver(function (mutations, observer) {{\n",
       "        var display = window.getComputedStyle(gd).display;\n",
       "        if (!display || display === 'none') {{\n",
       "            console.log([gd, 'removed!']);\n",
       "            Plotly.purge(gd);\n",
       "            observer.disconnect();\n",
       "        }}\n",
       "}});\n",
       "\n",
       "// Listen for the removal of the full notebook cells\n",
       "var notebookContainer = gd.closest('#notebook-container');\n",
       "if (notebookContainer) {{\n",
       "    x.observe(notebookContainer, {childList: true});\n",
       "}}\n",
       "\n",
       "// Listen for the clearing of the current output cell\n",
       "var outputEl = gd.closest('.output');\n",
       "if (outputEl) {{\n",
       "    x.observe(outputEl, {childList: true});\n",
       "}}\n",
       "\n",
       "                        })                };                });            </script>        </div>"
      ]
     },
     "metadata": {},
     "output_type": "display_data"
    }
   ],
   "source": [
    "px.scatter_3d(X1, x='G0', y='G1', z='G2', width=500, height=500)"
   ]
  },
  {
   "cell_type": "code",
   "execution_count": 28,
   "id": "a241fe08-4998-4af6-8794-63392a1a4c5a",
   "metadata": {},
   "outputs": [
    {
     "data": {
      "text/html": [
       "<div>\n",
       "<style scoped>\n",
       "    .dataframe tbody tr th:only-of-type {\n",
       "        vertical-align: middle;\n",
       "    }\n",
       "\n",
       "    .dataframe tbody tr th {\n",
       "        vertical-align: top;\n",
       "    }\n",
       "\n",
       "    .dataframe thead th {\n",
       "        text-align: right;\n",
       "    }\n",
       "</style>\n",
       "<table border=\"1\" class=\"dataframe\">\n",
       "  <thead>\n",
       "    <tr style=\"text-align: right;\">\n",
       "      <th></th>\n",
       "      <th>C0</th>\n",
       "      <th>C1</th>\n",
       "      <th>C2</th>\n",
       "    </tr>\n",
       "  </thead>\n",
       "  <tbody>\n",
       "    <tr>\n",
       "      <th>C0</th>\n",
       "      <td>5</td>\n",
       "      <td>2</td>\n",
       "      <td>0</td>\n",
       "    </tr>\n",
       "    <tr>\n",
       "      <th>C1</th>\n",
       "      <td>2</td>\n",
       "      <td>2</td>\n",
       "      <td>1</td>\n",
       "    </tr>\n",
       "    <tr>\n",
       "      <th>C2</th>\n",
       "      <td>0</td>\n",
       "      <td>1</td>\n",
       "      <td>1</td>\n",
       "    </tr>\n",
       "  </tbody>\n",
       "</table>\n",
       "</div>"
      ],
      "text/plain": [
       "    C0  C1  C2\n",
       "C0   5   2   0\n",
       "C1   2   2   1\n",
       "C2   0   1   1"
      ]
     },
     "execution_count": 28,
     "metadata": {},
     "output_type": "execute_result"
    }
   ],
   "source": [
    "X1_cov = X1.dot(X1.T)\n",
    "X1_cov"
   ]
  },
  {
   "cell_type": "code",
   "execution_count": 52,
   "id": "78f91127-9ff0-416c-b474-e8e1b399e7d6",
   "metadata": {},
   "outputs": [],
   "source": [
    "from sklearn.utils.extmath import randomized_svd"
   ]
  },
  {
   "cell_type": "code",
   "execution_count": 55,
   "id": "a398e919-be2e-4737-b4cc-5d394644c3fc",
   "metadata": {},
   "outputs": [],
   "source": [
    "U, Sigma, VT = randomized_svd(X1_cov.to_numpy(),\n",
    "                              n_components=2,\n",
    "                              random_state=42)"
   ]
  },
  {
   "cell_type": "code",
   "execution_count": 56,
   "id": "2b503f44-ebfe-4929-b728-96b8d042fd14",
   "metadata": {},
   "outputs": [
    {
     "data": {
      "text/plain": [
       "array([[ 0.88334449, -0.38693684],\n",
       "       [ 0.45976517,  0.60545192],\n",
       "       [ 0.09120579,  0.69549109]])"
      ]
     },
     "execution_count": 56,
     "metadata": {},
     "output_type": "execute_result"
    }
   ],
   "source": [
    "U"
   ]
  },
  {
   "cell_type": "code",
   "execution_count": 57,
   "id": "5bb13c9c-3977-4e18-b65b-2b2fc081443d",
   "metadata": {},
   "outputs": [
    {
     "data": {
      "text/plain": [
       "array([[ 0.88334449,  0.45976517,  0.09120579],\n",
       "       [-0.38693684,  0.60545192,  0.69549109]])"
      ]
     },
     "execution_count": 57,
     "metadata": {},
     "output_type": "execute_result"
    }
   ],
   "source": [
    "VT"
   ]
  },
  {
   "cell_type": "code",
   "execution_count": 58,
   "id": "67f16854-c12c-4080-9c0a-1ade79c83a08",
   "metadata": {},
   "outputs": [
    {
     "data": {
      "text/plain": [
       "array([6.04096459, 1.87053872])"
      ]
     },
     "execution_count": 58,
     "metadata": {},
     "output_type": "execute_result"
    }
   ],
   "source": [
    "Sigma"
   ]
  },
  {
   "cell_type": "code",
   "execution_count": 59,
   "id": "e5923d58-9d01-4e48-9ae3-b92db450122e",
   "metadata": {},
   "outputs": [
    {
     "data": {
      "text/plain": [
       "array([[ 0.88334449,  0.45976517,  0.09120579],\n",
       "       [-0.38693684,  0.60545192,  0.69549109]])"
      ]
     },
     "execution_count": 59,
     "metadata": {},
     "output_type": "execute_result"
    }
   ],
   "source": [
    "svd.components_"
   ]
  },
  {
   "cell_type": "code",
   "execution_count": 43,
   "id": "17fcab54-09b8-4484-9bf7-1a7ac9e33b5b",
   "metadata": {},
   "outputs": [
    {
     "data": {
      "text/plain": [
       "array([6.04096459, 1.87053872])"
      ]
     },
     "execution_count": 43,
     "metadata": {},
     "output_type": "execute_result"
    }
   ],
   "source": [
    "svd.singular_values_"
   ]
  },
  {
   "cell_type": "code",
   "execution_count": 29,
   "id": "b299ddbe-9bf9-4e2d-b7ff-585a3a40a38b",
   "metadata": {},
   "outputs": [],
   "source": [
    "U, s, Vh = sc.linalg.svd(X1_cov)"
   ]
  },
  {
   "cell_type": "code",
   "execution_count": 32,
   "id": "993014d9-6687-4755-8ae2-5ef7d7f538ad",
   "metadata": {},
   "outputs": [],
   "source": [
    "U_df = pd.DataFrame(U)"
   ]
  },
  {
   "cell_type": "code",
   "execution_count": 33,
   "id": "ba73f312-f494-4635-a886-17af6bb73977",
   "metadata": {},
   "outputs": [
    {
     "data": {
      "text/html": [
       "<div>\n",
       "<style scoped>\n",
       "    .dataframe tbody tr th:only-of-type {\n",
       "        vertical-align: middle;\n",
       "    }\n",
       "\n",
       "    .dataframe tbody tr th {\n",
       "        vertical-align: top;\n",
       "    }\n",
       "\n",
       "    .dataframe thead th {\n",
       "        text-align: right;\n",
       "    }\n",
       "</style>\n",
       "<table border=\"1\" class=\"dataframe\">\n",
       "  <thead>\n",
       "    <tr style=\"text-align: right;\">\n",
       "      <th></th>\n",
       "      <th>0</th>\n",
       "      <th>1</th>\n",
       "      <th>2</th>\n",
       "    </tr>\n",
       "  </thead>\n",
       "  <tbody>\n",
       "    <tr>\n",
       "      <th>0</th>\n",
       "      <td>-0.883344</td>\n",
       "      <td>0.386937</td>\n",
       "      <td>0.264542</td>\n",
       "    </tr>\n",
       "    <tr>\n",
       "      <th>1</th>\n",
       "      <td>-0.459765</td>\n",
       "      <td>-0.605452</td>\n",
       "      <td>-0.649649</td>\n",
       "    </tr>\n",
       "    <tr>\n",
       "      <th>2</th>\n",
       "      <td>-0.091206</td>\n",
       "      <td>-0.695491</td>\n",
       "      <td>0.712723</td>\n",
       "    </tr>\n",
       "  </tbody>\n",
       "</table>\n",
       "</div>"
      ],
      "text/plain": [
       "          0         1         2\n",
       "0 -0.883344  0.386937  0.264542\n",
       "1 -0.459765 -0.605452 -0.649649\n",
       "2 -0.091206 -0.695491  0.712723"
      ]
     },
     "execution_count": 33,
     "metadata": {},
     "output_type": "execute_result"
    }
   ],
   "source": [
    "U_df"
   ]
  },
  {
   "cell_type": "code",
   "execution_count": 90,
   "id": "c1fe1297-1a43-4710-96c2-97315d972317",
   "metadata": {},
   "outputs": [
    {
     "data": {
      "text/html": [
       "<div>\n",
       "<style scoped>\n",
       "    .dataframe tbody tr th:only-of-type {\n",
       "        vertical-align: middle;\n",
       "    }\n",
       "\n",
       "    .dataframe tbody tr th {\n",
       "        vertical-align: top;\n",
       "    }\n",
       "\n",
       "    .dataframe thead th {\n",
       "        text-align: right;\n",
       "    }\n",
       "</style>\n",
       "<table border=\"1\" class=\"dataframe\">\n",
       "  <thead>\n",
       "    <tr style=\"text-align: right;\">\n",
       "      <th></th>\n",
       "      <th>G0</th>\n",
       "      <th>G1</th>\n",
       "      <th>G2</th>\n",
       "    </tr>\n",
       "  </thead>\n",
       "  <tbody>\n",
       "    <tr>\n",
       "      <th>C10</th>\n",
       "      <td>3</td>\n",
       "      <td>5</td>\n",
       "      <td>1</td>\n",
       "    </tr>\n",
       "    <tr>\n",
       "      <th>C11</th>\n",
       "      <td>1</td>\n",
       "      <td>3</td>\n",
       "      <td>3</td>\n",
       "    </tr>\n",
       "    <tr>\n",
       "      <th>C12</th>\n",
       "      <td>1</td>\n",
       "      <td>1</td>\n",
       "      <td>3</td>\n",
       "    </tr>\n",
       "    <tr>\n",
       "      <th>C13</th>\n",
       "      <td>1</td>\n",
       "      <td>0</td>\n",
       "      <td>0</td>\n",
       "    </tr>\n",
       "  </tbody>\n",
       "</table>\n",
       "</div>"
      ],
      "text/plain": [
       "     G0  G1  G2\n",
       "C10   3   5   1\n",
       "C11   1   3   3\n",
       "C12   1   1   3\n",
       "C13   1   0   0"
      ]
     },
     "execution_count": 90,
     "metadata": {},
     "output_type": "execute_result"
    }
   ],
   "source": [
    "X2 = X1 * 2 + 1\n",
    "X2.loc['C3'] = [1, 0, 0]\n",
    "X2.index = ['C10', 'C11', 'C12', 'C13']\n",
    "X2"
   ]
  },
  {
   "cell_type": "code",
   "execution_count": 91,
   "id": "69b9cd06-90e9-46ed-8e41-9a5f542cdf24",
   "metadata": {},
   "outputs": [
    {
     "data": {
      "text/html": [
       "<div>\n",
       "<style scoped>\n",
       "    .dataframe tbody tr th:only-of-type {\n",
       "        vertical-align: middle;\n",
       "    }\n",
       "\n",
       "    .dataframe tbody tr th {\n",
       "        vertical-align: top;\n",
       "    }\n",
       "\n",
       "    .dataframe thead th {\n",
       "        text-align: right;\n",
       "    }\n",
       "</style>\n",
       "<table border=\"1\" class=\"dataframe\">\n",
       "  <thead>\n",
       "    <tr style=\"text-align: right;\">\n",
       "      <th></th>\n",
       "      <th>G0</th>\n",
       "      <th>G1</th>\n",
       "      <th>G2</th>\n",
       "      <th>batch</th>\n",
       "    </tr>\n",
       "  </thead>\n",
       "  <tbody>\n",
       "    <tr>\n",
       "      <th>C0</th>\n",
       "      <td>1</td>\n",
       "      <td>2</td>\n",
       "      <td>0</td>\n",
       "      <td>X1</td>\n",
       "    </tr>\n",
       "    <tr>\n",
       "      <th>C1</th>\n",
       "      <td>0</td>\n",
       "      <td>1</td>\n",
       "      <td>1</td>\n",
       "      <td>X1</td>\n",
       "    </tr>\n",
       "    <tr>\n",
       "      <th>C2</th>\n",
       "      <td>0</td>\n",
       "      <td>0</td>\n",
       "      <td>1</td>\n",
       "      <td>X1</td>\n",
       "    </tr>\n",
       "    <tr>\n",
       "      <th>C10</th>\n",
       "      <td>3</td>\n",
       "      <td>5</td>\n",
       "      <td>1</td>\n",
       "      <td>X2</td>\n",
       "    </tr>\n",
       "    <tr>\n",
       "      <th>C11</th>\n",
       "      <td>1</td>\n",
       "      <td>3</td>\n",
       "      <td>3</td>\n",
       "      <td>X2</td>\n",
       "    </tr>\n",
       "    <tr>\n",
       "      <th>C12</th>\n",
       "      <td>1</td>\n",
       "      <td>1</td>\n",
       "      <td>3</td>\n",
       "      <td>X2</td>\n",
       "    </tr>\n",
       "    <tr>\n",
       "      <th>C13</th>\n",
       "      <td>1</td>\n",
       "      <td>0</td>\n",
       "      <td>0</td>\n",
       "      <td>X2</td>\n",
       "    </tr>\n",
       "  </tbody>\n",
       "</table>\n",
       "</div>"
      ],
      "text/plain": [
       "     G0  G1  G2 batch\n",
       "C0    1   2   0    X1\n",
       "C1    0   1   1    X1\n",
       "C2    0   0   1    X1\n",
       "C10   3   5   1    X2\n",
       "C11   1   3   3    X2\n",
       "C12   1   1   3    X2\n",
       "C13   1   0   0    X2"
      ]
     },
     "execution_count": 91,
     "metadata": {},
     "output_type": "execute_result"
    }
   ],
   "source": [
    "X_concat = pd.concat([X1, X2])\n",
    "X_concat.loc[X1.index, 'batch'] = 'X1'\n",
    "X_concat.loc[X2.index, 'batch'] = 'X2'\n",
    "X_concat"
   ]
  },
  {
   "cell_type": "code",
   "execution_count": 92,
   "id": "198e5f2f-8082-4572-b916-5c2f909882ff",
   "metadata": {},
   "outputs": [
    {
     "data": {
      "application/vnd.plotly.v1+json": {
       "config": {
        "plotlyServerURL": "https://plot.ly"
       },
       "data": [
        {
         "hovertemplate": "batch=X1<br>G0=%{x}<br>G1=%{y}<br>G2=%{z}<extra></extra>",
         "legendgroup": "X1",
         "marker": {
          "color": "#636efa",
          "symbol": "circle"
         },
         "mode": "markers",
         "name": "X1",
         "scene": "scene",
         "showlegend": true,
         "type": "scatter3d",
         "x": [
          1,
          0,
          0
         ],
         "y": [
          2,
          1,
          0
         ],
         "z": [
          0,
          1,
          1
         ]
        },
        {
         "hovertemplate": "batch=X2<br>G0=%{x}<br>G1=%{y}<br>G2=%{z}<extra></extra>",
         "legendgroup": "X2",
         "marker": {
          "color": "#EF553B",
          "symbol": "circle"
         },
         "mode": "markers",
         "name": "X2",
         "scene": "scene",
         "showlegend": true,
         "type": "scatter3d",
         "x": [
          3,
          1,
          1,
          1
         ],
         "y": [
          5,
          3,
          1,
          0
         ],
         "z": [
          1,
          3,
          3,
          0
         ]
        }
       ],
       "layout": {
        "height": 500,
        "legend": {
         "title": {
          "text": "batch"
         },
         "tracegroupgap": 0
        },
        "margin": {
         "t": 60
        },
        "scene": {
         "aspectmode": "auto",
         "aspectratio": {
          "x": 0.8434326653017492,
          "y": 1.4057211088362487,
          "z": 0.8434326653017492
         },
         "camera": {
          "center": {
           "x": 0,
           "y": 0,
           "z": 0
          },
          "eye": {
           "x": 0.8506418990517688,
           "y": 0.8506418990517687,
           "z": 0.8506418990517688
          },
          "projection": {
           "type": "perspective"
          },
          "up": {
           "x": 0,
           "y": 0,
           "z": 1
          }
         },
         "domain": {
          "x": [
           0,
           1
          ],
          "y": [
           0,
           1
          ]
         },
         "xaxis": {
          "title": {
           "text": "G0"
          },
          "type": "linear"
         },
         "yaxis": {
          "title": {
           "text": "G1"
          },
          "type": "linear"
         },
         "zaxis": {
          "title": {
           "text": "G2"
          },
          "type": "linear"
         }
        },
        "template": {
         "data": {
          "bar": [
           {
            "error_x": {
             "color": "#2a3f5f"
            },
            "error_y": {
             "color": "#2a3f5f"
            },
            "marker": {
             "line": {
              "color": "#E5ECF6",
              "width": 0.5
             },
             "pattern": {
              "fillmode": "overlay",
              "size": 10,
              "solidity": 0.2
             }
            },
            "type": "bar"
           }
          ],
          "barpolar": [
           {
            "marker": {
             "line": {
              "color": "#E5ECF6",
              "width": 0.5
             },
             "pattern": {
              "fillmode": "overlay",
              "size": 10,
              "solidity": 0.2
             }
            },
            "type": "barpolar"
           }
          ],
          "carpet": [
           {
            "aaxis": {
             "endlinecolor": "#2a3f5f",
             "gridcolor": "white",
             "linecolor": "white",
             "minorgridcolor": "white",
             "startlinecolor": "#2a3f5f"
            },
            "baxis": {
             "endlinecolor": "#2a3f5f",
             "gridcolor": "white",
             "linecolor": "white",
             "minorgridcolor": "white",
             "startlinecolor": "#2a3f5f"
            },
            "type": "carpet"
           }
          ],
          "choropleth": [
           {
            "colorbar": {
             "outlinewidth": 0,
             "ticks": ""
            },
            "type": "choropleth"
           }
          ],
          "contour": [
           {
            "colorbar": {
             "outlinewidth": 0,
             "ticks": ""
            },
            "colorscale": [
             [
              0,
              "#0d0887"
             ],
             [
              0.1111111111111111,
              "#46039f"
             ],
             [
              0.2222222222222222,
              "#7201a8"
             ],
             [
              0.3333333333333333,
              "#9c179e"
             ],
             [
              0.4444444444444444,
              "#bd3786"
             ],
             [
              0.5555555555555556,
              "#d8576b"
             ],
             [
              0.6666666666666666,
              "#ed7953"
             ],
             [
              0.7777777777777778,
              "#fb9f3a"
             ],
             [
              0.8888888888888888,
              "#fdca26"
             ],
             [
              1,
              "#f0f921"
             ]
            ],
            "type": "contour"
           }
          ],
          "contourcarpet": [
           {
            "colorbar": {
             "outlinewidth": 0,
             "ticks": ""
            },
            "type": "contourcarpet"
           }
          ],
          "heatmap": [
           {
            "colorbar": {
             "outlinewidth": 0,
             "ticks": ""
            },
            "colorscale": [
             [
              0,
              "#0d0887"
             ],
             [
              0.1111111111111111,
              "#46039f"
             ],
             [
              0.2222222222222222,
              "#7201a8"
             ],
             [
              0.3333333333333333,
              "#9c179e"
             ],
             [
              0.4444444444444444,
              "#bd3786"
             ],
             [
              0.5555555555555556,
              "#d8576b"
             ],
             [
              0.6666666666666666,
              "#ed7953"
             ],
             [
              0.7777777777777778,
              "#fb9f3a"
             ],
             [
              0.8888888888888888,
              "#fdca26"
             ],
             [
              1,
              "#f0f921"
             ]
            ],
            "type": "heatmap"
           }
          ],
          "heatmapgl": [
           {
            "colorbar": {
             "outlinewidth": 0,
             "ticks": ""
            },
            "colorscale": [
             [
              0,
              "#0d0887"
             ],
             [
              0.1111111111111111,
              "#46039f"
             ],
             [
              0.2222222222222222,
              "#7201a8"
             ],
             [
              0.3333333333333333,
              "#9c179e"
             ],
             [
              0.4444444444444444,
              "#bd3786"
             ],
             [
              0.5555555555555556,
              "#d8576b"
             ],
             [
              0.6666666666666666,
              "#ed7953"
             ],
             [
              0.7777777777777778,
              "#fb9f3a"
             ],
             [
              0.8888888888888888,
              "#fdca26"
             ],
             [
              1,
              "#f0f921"
             ]
            ],
            "type": "heatmapgl"
           }
          ],
          "histogram": [
           {
            "marker": {
             "pattern": {
              "fillmode": "overlay",
              "size": 10,
              "solidity": 0.2
             }
            },
            "type": "histogram"
           }
          ],
          "histogram2d": [
           {
            "colorbar": {
             "outlinewidth": 0,
             "ticks": ""
            },
            "colorscale": [
             [
              0,
              "#0d0887"
             ],
             [
              0.1111111111111111,
              "#46039f"
             ],
             [
              0.2222222222222222,
              "#7201a8"
             ],
             [
              0.3333333333333333,
              "#9c179e"
             ],
             [
              0.4444444444444444,
              "#bd3786"
             ],
             [
              0.5555555555555556,
              "#d8576b"
             ],
             [
              0.6666666666666666,
              "#ed7953"
             ],
             [
              0.7777777777777778,
              "#fb9f3a"
             ],
             [
              0.8888888888888888,
              "#fdca26"
             ],
             [
              1,
              "#f0f921"
             ]
            ],
            "type": "histogram2d"
           }
          ],
          "histogram2dcontour": [
           {
            "colorbar": {
             "outlinewidth": 0,
             "ticks": ""
            },
            "colorscale": [
             [
              0,
              "#0d0887"
             ],
             [
              0.1111111111111111,
              "#46039f"
             ],
             [
              0.2222222222222222,
              "#7201a8"
             ],
             [
              0.3333333333333333,
              "#9c179e"
             ],
             [
              0.4444444444444444,
              "#bd3786"
             ],
             [
              0.5555555555555556,
              "#d8576b"
             ],
             [
              0.6666666666666666,
              "#ed7953"
             ],
             [
              0.7777777777777778,
              "#fb9f3a"
             ],
             [
              0.8888888888888888,
              "#fdca26"
             ],
             [
              1,
              "#f0f921"
             ]
            ],
            "type": "histogram2dcontour"
           }
          ],
          "mesh3d": [
           {
            "colorbar": {
             "outlinewidth": 0,
             "ticks": ""
            },
            "type": "mesh3d"
           }
          ],
          "parcoords": [
           {
            "line": {
             "colorbar": {
              "outlinewidth": 0,
              "ticks": ""
             }
            },
            "type": "parcoords"
           }
          ],
          "pie": [
           {
            "automargin": true,
            "type": "pie"
           }
          ],
          "scatter": [
           {
            "fillpattern": {
             "fillmode": "overlay",
             "size": 10,
             "solidity": 0.2
            },
            "type": "scatter"
           }
          ],
          "scatter3d": [
           {
            "line": {
             "colorbar": {
              "outlinewidth": 0,
              "ticks": ""
             }
            },
            "marker": {
             "colorbar": {
              "outlinewidth": 0,
              "ticks": ""
             }
            },
            "type": "scatter3d"
           }
          ],
          "scattercarpet": [
           {
            "marker": {
             "colorbar": {
              "outlinewidth": 0,
              "ticks": ""
             }
            },
            "type": "scattercarpet"
           }
          ],
          "scattergeo": [
           {
            "marker": {
             "colorbar": {
              "outlinewidth": 0,
              "ticks": ""
             }
            },
            "type": "scattergeo"
           }
          ],
          "scattergl": [
           {
            "marker": {
             "colorbar": {
              "outlinewidth": 0,
              "ticks": ""
             }
            },
            "type": "scattergl"
           }
          ],
          "scattermapbox": [
           {
            "marker": {
             "colorbar": {
              "outlinewidth": 0,
              "ticks": ""
             }
            },
            "type": "scattermapbox"
           }
          ],
          "scatterpolar": [
           {
            "marker": {
             "colorbar": {
              "outlinewidth": 0,
              "ticks": ""
             }
            },
            "type": "scatterpolar"
           }
          ],
          "scatterpolargl": [
           {
            "marker": {
             "colorbar": {
              "outlinewidth": 0,
              "ticks": ""
             }
            },
            "type": "scatterpolargl"
           }
          ],
          "scatterternary": [
           {
            "marker": {
             "colorbar": {
              "outlinewidth": 0,
              "ticks": ""
             }
            },
            "type": "scatterternary"
           }
          ],
          "surface": [
           {
            "colorbar": {
             "outlinewidth": 0,
             "ticks": ""
            },
            "colorscale": [
             [
              0,
              "#0d0887"
             ],
             [
              0.1111111111111111,
              "#46039f"
             ],
             [
              0.2222222222222222,
              "#7201a8"
             ],
             [
              0.3333333333333333,
              "#9c179e"
             ],
             [
              0.4444444444444444,
              "#bd3786"
             ],
             [
              0.5555555555555556,
              "#d8576b"
             ],
             [
              0.6666666666666666,
              "#ed7953"
             ],
             [
              0.7777777777777778,
              "#fb9f3a"
             ],
             [
              0.8888888888888888,
              "#fdca26"
             ],
             [
              1,
              "#f0f921"
             ]
            ],
            "type": "surface"
           }
          ],
          "table": [
           {
            "cells": {
             "fill": {
              "color": "#EBF0F8"
             },
             "line": {
              "color": "white"
             }
            },
            "header": {
             "fill": {
              "color": "#C8D4E3"
             },
             "line": {
              "color": "white"
             }
            },
            "type": "table"
           }
          ]
         },
         "layout": {
          "annotationdefaults": {
           "arrowcolor": "#2a3f5f",
           "arrowhead": 0,
           "arrowwidth": 1
          },
          "autotypenumbers": "strict",
          "coloraxis": {
           "colorbar": {
            "outlinewidth": 0,
            "ticks": ""
           }
          },
          "colorscale": {
           "diverging": [
            [
             0,
             "#8e0152"
            ],
            [
             0.1,
             "#c51b7d"
            ],
            [
             0.2,
             "#de77ae"
            ],
            [
             0.3,
             "#f1b6da"
            ],
            [
             0.4,
             "#fde0ef"
            ],
            [
             0.5,
             "#f7f7f7"
            ],
            [
             0.6,
             "#e6f5d0"
            ],
            [
             0.7,
             "#b8e186"
            ],
            [
             0.8,
             "#7fbc41"
            ],
            [
             0.9,
             "#4d9221"
            ],
            [
             1,
             "#276419"
            ]
           ],
           "sequential": [
            [
             0,
             "#0d0887"
            ],
            [
             0.1111111111111111,
             "#46039f"
            ],
            [
             0.2222222222222222,
             "#7201a8"
            ],
            [
             0.3333333333333333,
             "#9c179e"
            ],
            [
             0.4444444444444444,
             "#bd3786"
            ],
            [
             0.5555555555555556,
             "#d8576b"
            ],
            [
             0.6666666666666666,
             "#ed7953"
            ],
            [
             0.7777777777777778,
             "#fb9f3a"
            ],
            [
             0.8888888888888888,
             "#fdca26"
            ],
            [
             1,
             "#f0f921"
            ]
           ],
           "sequentialminus": [
            [
             0,
             "#0d0887"
            ],
            [
             0.1111111111111111,
             "#46039f"
            ],
            [
             0.2222222222222222,
             "#7201a8"
            ],
            [
             0.3333333333333333,
             "#9c179e"
            ],
            [
             0.4444444444444444,
             "#bd3786"
            ],
            [
             0.5555555555555556,
             "#d8576b"
            ],
            [
             0.6666666666666666,
             "#ed7953"
            ],
            [
             0.7777777777777778,
             "#fb9f3a"
            ],
            [
             0.8888888888888888,
             "#fdca26"
            ],
            [
             1,
             "#f0f921"
            ]
           ]
          },
          "colorway": [
           "#636efa",
           "#EF553B",
           "#00cc96",
           "#ab63fa",
           "#FFA15A",
           "#19d3f3",
           "#FF6692",
           "#B6E880",
           "#FF97FF",
           "#FECB52"
          ],
          "font": {
           "color": "#2a3f5f"
          },
          "geo": {
           "bgcolor": "white",
           "lakecolor": "white",
           "landcolor": "#E5ECF6",
           "showlakes": true,
           "showland": true,
           "subunitcolor": "white"
          },
          "hoverlabel": {
           "align": "left"
          },
          "hovermode": "closest",
          "mapbox": {
           "style": "light"
          },
          "paper_bgcolor": "white",
          "plot_bgcolor": "#E5ECF6",
          "polar": {
           "angularaxis": {
            "gridcolor": "white",
            "linecolor": "white",
            "ticks": ""
           },
           "bgcolor": "#E5ECF6",
           "radialaxis": {
            "gridcolor": "white",
            "linecolor": "white",
            "ticks": ""
           }
          },
          "scene": {
           "xaxis": {
            "backgroundcolor": "#E5ECF6",
            "gridcolor": "white",
            "gridwidth": 2,
            "linecolor": "white",
            "showbackground": true,
            "ticks": "",
            "zerolinecolor": "white"
           },
           "yaxis": {
            "backgroundcolor": "#E5ECF6",
            "gridcolor": "white",
            "gridwidth": 2,
            "linecolor": "white",
            "showbackground": true,
            "ticks": "",
            "zerolinecolor": "white"
           },
           "zaxis": {
            "backgroundcolor": "#E5ECF6",
            "gridcolor": "white",
            "gridwidth": 2,
            "linecolor": "white",
            "showbackground": true,
            "ticks": "",
            "zerolinecolor": "white"
           }
          },
          "shapedefaults": {
           "line": {
            "color": "#2a3f5f"
           }
          },
          "ternary": {
           "aaxis": {
            "gridcolor": "white",
            "linecolor": "white",
            "ticks": ""
           },
           "baxis": {
            "gridcolor": "white",
            "linecolor": "white",
            "ticks": ""
           },
           "bgcolor": "#E5ECF6",
           "caxis": {
            "gridcolor": "white",
            "linecolor": "white",
            "ticks": ""
           }
          },
          "title": {
           "x": 0.05
          },
          "xaxis": {
           "automargin": true,
           "gridcolor": "white",
           "linecolor": "white",
           "ticks": "",
           "title": {
            "standoff": 15
           },
           "zerolinecolor": "white",
           "zerolinewidth": 2
          },
          "yaxis": {
           "automargin": true,
           "gridcolor": "white",
           "linecolor": "white",
           "ticks": "",
           "title": {
            "standoff": 15
           },
           "zerolinecolor": "white",
           "zerolinewidth": 2
          }
         }
        },
        "width": 500
       }
      },
      "text/html": [
       "<div>                            <div id=\"f58e47c5-254b-4aae-97a4-25368b8b5c59\" class=\"plotly-graph-div\" style=\"height:500px; width:500px;\"></div>            <script type=\"text/javascript\">                require([\"plotly\"], function(Plotly) {                    window.PLOTLYENV=window.PLOTLYENV || {};                                    if (document.getElementById(\"f58e47c5-254b-4aae-97a4-25368b8b5c59\")) {                    Plotly.newPlot(                        \"f58e47c5-254b-4aae-97a4-25368b8b5c59\",                        [{\"hovertemplate\":\"batch=X1\\u003cbr\\u003eG0=%{x}\\u003cbr\\u003eG1=%{y}\\u003cbr\\u003eG2=%{z}\\u003cextra\\u003e\\u003c\\u002fextra\\u003e\",\"legendgroup\":\"X1\",\"marker\":{\"color\":\"#636efa\",\"symbol\":\"circle\"},\"mode\":\"markers\",\"name\":\"X1\",\"scene\":\"scene\",\"showlegend\":true,\"x\":[1,0,0],\"y\":[2,1,0],\"z\":[0,1,1],\"type\":\"scatter3d\"},{\"hovertemplate\":\"batch=X2\\u003cbr\\u003eG0=%{x}\\u003cbr\\u003eG1=%{y}\\u003cbr\\u003eG2=%{z}\\u003cextra\\u003e\\u003c\\u002fextra\\u003e\",\"legendgroup\":\"X2\",\"marker\":{\"color\":\"#EF553B\",\"symbol\":\"circle\"},\"mode\":\"markers\",\"name\":\"X2\",\"scene\":\"scene\",\"showlegend\":true,\"x\":[3,1,1,1],\"y\":[5,3,1,0],\"z\":[1,3,3,0],\"type\":\"scatter3d\"}],                        {\"template\":{\"data\":{\"histogram2dcontour\":[{\"type\":\"histogram2dcontour\",\"colorbar\":{\"outlinewidth\":0,\"ticks\":\"\"},\"colorscale\":[[0.0,\"#0d0887\"],[0.1111111111111111,\"#46039f\"],[0.2222222222222222,\"#7201a8\"],[0.3333333333333333,\"#9c179e\"],[0.4444444444444444,\"#bd3786\"],[0.5555555555555556,\"#d8576b\"],[0.6666666666666666,\"#ed7953\"],[0.7777777777777778,\"#fb9f3a\"],[0.8888888888888888,\"#fdca26\"],[1.0,\"#f0f921\"]]}],\"choropleth\":[{\"type\":\"choropleth\",\"colorbar\":{\"outlinewidth\":0,\"ticks\":\"\"}}],\"histogram2d\":[{\"type\":\"histogram2d\",\"colorbar\":{\"outlinewidth\":0,\"ticks\":\"\"},\"colorscale\":[[0.0,\"#0d0887\"],[0.1111111111111111,\"#46039f\"],[0.2222222222222222,\"#7201a8\"],[0.3333333333333333,\"#9c179e\"],[0.4444444444444444,\"#bd3786\"],[0.5555555555555556,\"#d8576b\"],[0.6666666666666666,\"#ed7953\"],[0.7777777777777778,\"#fb9f3a\"],[0.8888888888888888,\"#fdca26\"],[1.0,\"#f0f921\"]]}],\"heatmap\":[{\"type\":\"heatmap\",\"colorbar\":{\"outlinewidth\":0,\"ticks\":\"\"},\"colorscale\":[[0.0,\"#0d0887\"],[0.1111111111111111,\"#46039f\"],[0.2222222222222222,\"#7201a8\"],[0.3333333333333333,\"#9c179e\"],[0.4444444444444444,\"#bd3786\"],[0.5555555555555556,\"#d8576b\"],[0.6666666666666666,\"#ed7953\"],[0.7777777777777778,\"#fb9f3a\"],[0.8888888888888888,\"#fdca26\"],[1.0,\"#f0f921\"]]}],\"heatmapgl\":[{\"type\":\"heatmapgl\",\"colorbar\":{\"outlinewidth\":0,\"ticks\":\"\"},\"colorscale\":[[0.0,\"#0d0887\"],[0.1111111111111111,\"#46039f\"],[0.2222222222222222,\"#7201a8\"],[0.3333333333333333,\"#9c179e\"],[0.4444444444444444,\"#bd3786\"],[0.5555555555555556,\"#d8576b\"],[0.6666666666666666,\"#ed7953\"],[0.7777777777777778,\"#fb9f3a\"],[0.8888888888888888,\"#fdca26\"],[1.0,\"#f0f921\"]]}],\"contourcarpet\":[{\"type\":\"contourcarpet\",\"colorbar\":{\"outlinewidth\":0,\"ticks\":\"\"}}],\"contour\":[{\"type\":\"contour\",\"colorbar\":{\"outlinewidth\":0,\"ticks\":\"\"},\"colorscale\":[[0.0,\"#0d0887\"],[0.1111111111111111,\"#46039f\"],[0.2222222222222222,\"#7201a8\"],[0.3333333333333333,\"#9c179e\"],[0.4444444444444444,\"#bd3786\"],[0.5555555555555556,\"#d8576b\"],[0.6666666666666666,\"#ed7953\"],[0.7777777777777778,\"#fb9f3a\"],[0.8888888888888888,\"#fdca26\"],[1.0,\"#f0f921\"]]}],\"surface\":[{\"type\":\"surface\",\"colorbar\":{\"outlinewidth\":0,\"ticks\":\"\"},\"colorscale\":[[0.0,\"#0d0887\"],[0.1111111111111111,\"#46039f\"],[0.2222222222222222,\"#7201a8\"],[0.3333333333333333,\"#9c179e\"],[0.4444444444444444,\"#bd3786\"],[0.5555555555555556,\"#d8576b\"],[0.6666666666666666,\"#ed7953\"],[0.7777777777777778,\"#fb9f3a\"],[0.8888888888888888,\"#fdca26\"],[1.0,\"#f0f921\"]]}],\"mesh3d\":[{\"type\":\"mesh3d\",\"colorbar\":{\"outlinewidth\":0,\"ticks\":\"\"}}],\"scatter\":[{\"fillpattern\":{\"fillmode\":\"overlay\",\"size\":10,\"solidity\":0.2},\"type\":\"scatter\"}],\"parcoords\":[{\"type\":\"parcoords\",\"line\":{\"colorbar\":{\"outlinewidth\":0,\"ticks\":\"\"}}}],\"scatterpolargl\":[{\"type\":\"scatterpolargl\",\"marker\":{\"colorbar\":{\"outlinewidth\":0,\"ticks\":\"\"}}}],\"bar\":[{\"error_x\":{\"color\":\"#2a3f5f\"},\"error_y\":{\"color\":\"#2a3f5f\"},\"marker\":{\"line\":{\"color\":\"#E5ECF6\",\"width\":0.5},\"pattern\":{\"fillmode\":\"overlay\",\"size\":10,\"solidity\":0.2}},\"type\":\"bar\"}],\"scattergeo\":[{\"type\":\"scattergeo\",\"marker\":{\"colorbar\":{\"outlinewidth\":0,\"ticks\":\"\"}}}],\"scatterpolar\":[{\"type\":\"scatterpolar\",\"marker\":{\"colorbar\":{\"outlinewidth\":0,\"ticks\":\"\"}}}],\"histogram\":[{\"marker\":{\"pattern\":{\"fillmode\":\"overlay\",\"size\":10,\"solidity\":0.2}},\"type\":\"histogram\"}],\"scattergl\":[{\"type\":\"scattergl\",\"marker\":{\"colorbar\":{\"outlinewidth\":0,\"ticks\":\"\"}}}],\"scatter3d\":[{\"type\":\"scatter3d\",\"line\":{\"colorbar\":{\"outlinewidth\":0,\"ticks\":\"\"}},\"marker\":{\"colorbar\":{\"outlinewidth\":0,\"ticks\":\"\"}}}],\"scattermapbox\":[{\"type\":\"scattermapbox\",\"marker\":{\"colorbar\":{\"outlinewidth\":0,\"ticks\":\"\"}}}],\"scatterternary\":[{\"type\":\"scatterternary\",\"marker\":{\"colorbar\":{\"outlinewidth\":0,\"ticks\":\"\"}}}],\"scattercarpet\":[{\"type\":\"scattercarpet\",\"marker\":{\"colorbar\":{\"outlinewidth\":0,\"ticks\":\"\"}}}],\"carpet\":[{\"aaxis\":{\"endlinecolor\":\"#2a3f5f\",\"gridcolor\":\"white\",\"linecolor\":\"white\",\"minorgridcolor\":\"white\",\"startlinecolor\":\"#2a3f5f\"},\"baxis\":{\"endlinecolor\":\"#2a3f5f\",\"gridcolor\":\"white\",\"linecolor\":\"white\",\"minorgridcolor\":\"white\",\"startlinecolor\":\"#2a3f5f\"},\"type\":\"carpet\"}],\"table\":[{\"cells\":{\"fill\":{\"color\":\"#EBF0F8\"},\"line\":{\"color\":\"white\"}},\"header\":{\"fill\":{\"color\":\"#C8D4E3\"},\"line\":{\"color\":\"white\"}},\"type\":\"table\"}],\"barpolar\":[{\"marker\":{\"line\":{\"color\":\"#E5ECF6\",\"width\":0.5},\"pattern\":{\"fillmode\":\"overlay\",\"size\":10,\"solidity\":0.2}},\"type\":\"barpolar\"}],\"pie\":[{\"automargin\":true,\"type\":\"pie\"}]},\"layout\":{\"autotypenumbers\":\"strict\",\"colorway\":[\"#636efa\",\"#EF553B\",\"#00cc96\",\"#ab63fa\",\"#FFA15A\",\"#19d3f3\",\"#FF6692\",\"#B6E880\",\"#FF97FF\",\"#FECB52\"],\"font\":{\"color\":\"#2a3f5f\"},\"hovermode\":\"closest\",\"hoverlabel\":{\"align\":\"left\"},\"paper_bgcolor\":\"white\",\"plot_bgcolor\":\"#E5ECF6\",\"polar\":{\"bgcolor\":\"#E5ECF6\",\"angularaxis\":{\"gridcolor\":\"white\",\"linecolor\":\"white\",\"ticks\":\"\"},\"radialaxis\":{\"gridcolor\":\"white\",\"linecolor\":\"white\",\"ticks\":\"\"}},\"ternary\":{\"bgcolor\":\"#E5ECF6\",\"aaxis\":{\"gridcolor\":\"white\",\"linecolor\":\"white\",\"ticks\":\"\"},\"baxis\":{\"gridcolor\":\"white\",\"linecolor\":\"white\",\"ticks\":\"\"},\"caxis\":{\"gridcolor\":\"white\",\"linecolor\":\"white\",\"ticks\":\"\"}},\"coloraxis\":{\"colorbar\":{\"outlinewidth\":0,\"ticks\":\"\"}},\"colorscale\":{\"sequential\":[[0.0,\"#0d0887\"],[0.1111111111111111,\"#46039f\"],[0.2222222222222222,\"#7201a8\"],[0.3333333333333333,\"#9c179e\"],[0.4444444444444444,\"#bd3786\"],[0.5555555555555556,\"#d8576b\"],[0.6666666666666666,\"#ed7953\"],[0.7777777777777778,\"#fb9f3a\"],[0.8888888888888888,\"#fdca26\"],[1.0,\"#f0f921\"]],\"sequentialminus\":[[0.0,\"#0d0887\"],[0.1111111111111111,\"#46039f\"],[0.2222222222222222,\"#7201a8\"],[0.3333333333333333,\"#9c179e\"],[0.4444444444444444,\"#bd3786\"],[0.5555555555555556,\"#d8576b\"],[0.6666666666666666,\"#ed7953\"],[0.7777777777777778,\"#fb9f3a\"],[0.8888888888888888,\"#fdca26\"],[1.0,\"#f0f921\"]],\"diverging\":[[0,\"#8e0152\"],[0.1,\"#c51b7d\"],[0.2,\"#de77ae\"],[0.3,\"#f1b6da\"],[0.4,\"#fde0ef\"],[0.5,\"#f7f7f7\"],[0.6,\"#e6f5d0\"],[0.7,\"#b8e186\"],[0.8,\"#7fbc41\"],[0.9,\"#4d9221\"],[1,\"#276419\"]]},\"xaxis\":{\"gridcolor\":\"white\",\"linecolor\":\"white\",\"ticks\":\"\",\"title\":{\"standoff\":15},\"zerolinecolor\":\"white\",\"automargin\":true,\"zerolinewidth\":2},\"yaxis\":{\"gridcolor\":\"white\",\"linecolor\":\"white\",\"ticks\":\"\",\"title\":{\"standoff\":15},\"zerolinecolor\":\"white\",\"automargin\":true,\"zerolinewidth\":2},\"scene\":{\"xaxis\":{\"backgroundcolor\":\"#E5ECF6\",\"gridcolor\":\"white\",\"linecolor\":\"white\",\"showbackground\":true,\"ticks\":\"\",\"zerolinecolor\":\"white\",\"gridwidth\":2},\"yaxis\":{\"backgroundcolor\":\"#E5ECF6\",\"gridcolor\":\"white\",\"linecolor\":\"white\",\"showbackground\":true,\"ticks\":\"\",\"zerolinecolor\":\"white\",\"gridwidth\":2},\"zaxis\":{\"backgroundcolor\":\"#E5ECF6\",\"gridcolor\":\"white\",\"linecolor\":\"white\",\"showbackground\":true,\"ticks\":\"\",\"zerolinecolor\":\"white\",\"gridwidth\":2}},\"shapedefaults\":{\"line\":{\"color\":\"#2a3f5f\"}},\"annotationdefaults\":{\"arrowcolor\":\"#2a3f5f\",\"arrowhead\":0,\"arrowwidth\":1},\"geo\":{\"bgcolor\":\"white\",\"landcolor\":\"#E5ECF6\",\"subunitcolor\":\"white\",\"showland\":true,\"showlakes\":true,\"lakecolor\":\"white\"},\"title\":{\"x\":0.05},\"mapbox\":{\"style\":\"light\"}}},\"scene\":{\"domain\":{\"x\":[0.0,1.0],\"y\":[0.0,1.0]},\"xaxis\":{\"title\":{\"text\":\"G0\"}},\"yaxis\":{\"title\":{\"text\":\"G1\"}},\"zaxis\":{\"title\":{\"text\":\"G2\"}}},\"legend\":{\"title\":{\"text\":\"batch\"},\"tracegroupgap\":0},\"margin\":{\"t\":60},\"height\":500,\"width\":500},                        {\"responsive\": true}                    ).then(function(){\n",
       "                            \n",
       "var gd = document.getElementById('f58e47c5-254b-4aae-97a4-25368b8b5c59');\n",
       "var x = new MutationObserver(function (mutations, observer) {{\n",
       "        var display = window.getComputedStyle(gd).display;\n",
       "        if (!display || display === 'none') {{\n",
       "            console.log([gd, 'removed!']);\n",
       "            Plotly.purge(gd);\n",
       "            observer.disconnect();\n",
       "        }}\n",
       "}});\n",
       "\n",
       "// Listen for the removal of the full notebook cells\n",
       "var notebookContainer = gd.closest('#notebook-container');\n",
       "if (notebookContainer) {{\n",
       "    x.observe(notebookContainer, {childList: true});\n",
       "}}\n",
       "\n",
       "// Listen for the clearing of the current output cell\n",
       "var outputEl = gd.closest('.output');\n",
       "if (outputEl) {{\n",
       "    x.observe(outputEl, {childList: true});\n",
       "}}\n",
       "\n",
       "                        })                };                });            </script>        </div>"
      ]
     },
     "metadata": {},
     "output_type": "display_data"
    }
   ],
   "source": [
    "px.scatter_3d(X_concat, x='G0', y='G1', z='G2', width=500, height=500, color='batch')"
   ]
  },
  {
   "cell_type": "code",
   "execution_count": 93,
   "id": "f1d564a2-a1ac-4ea6-8184-2cc6f9c34cce",
   "metadata": {},
   "outputs": [],
   "source": [
    "X_12 = X1.dot(X2.T)"
   ]
  },
  {
   "cell_type": "code",
   "execution_count": 94,
   "id": "88e8a09d-f425-4e94-a080-c27fcbb18bc2",
   "metadata": {},
   "outputs": [
    {
     "data": {
      "text/html": [
       "<div>\n",
       "<style scoped>\n",
       "    .dataframe tbody tr th:only-of-type {\n",
       "        vertical-align: middle;\n",
       "    }\n",
       "\n",
       "    .dataframe tbody tr th {\n",
       "        vertical-align: top;\n",
       "    }\n",
       "\n",
       "    .dataframe thead th {\n",
       "        text-align: right;\n",
       "    }\n",
       "</style>\n",
       "<table border=\"1\" class=\"dataframe\">\n",
       "  <thead>\n",
       "    <tr style=\"text-align: right;\">\n",
       "      <th></th>\n",
       "      <th>C10</th>\n",
       "      <th>C11</th>\n",
       "      <th>C12</th>\n",
       "      <th>C13</th>\n",
       "    </tr>\n",
       "  </thead>\n",
       "  <tbody>\n",
       "    <tr>\n",
       "      <th>C0</th>\n",
       "      <td>13</td>\n",
       "      <td>7</td>\n",
       "      <td>3</td>\n",
       "      <td>1</td>\n",
       "    </tr>\n",
       "    <tr>\n",
       "      <th>C1</th>\n",
       "      <td>6</td>\n",
       "      <td>6</td>\n",
       "      <td>4</td>\n",
       "      <td>0</td>\n",
       "    </tr>\n",
       "    <tr>\n",
       "      <th>C2</th>\n",
       "      <td>1</td>\n",
       "      <td>3</td>\n",
       "      <td>3</td>\n",
       "      <td>0</td>\n",
       "    </tr>\n",
       "  </tbody>\n",
       "</table>\n",
       "</div>"
      ],
      "text/plain": [
       "    C10  C11  C12  C13\n",
       "C0   13    7    3    1\n",
       "C1    6    6    4    0\n",
       "C2    1    3    3    0"
      ]
     },
     "execution_count": 94,
     "metadata": {},
     "output_type": "execute_result"
    }
   ],
   "source": [
    "X_12"
   ]
  },
  {
   "cell_type": "code",
   "execution_count": 95,
   "id": "86e25d38-69a4-4935-9d7d-648d457becb2",
   "metadata": {},
   "outputs": [],
   "source": [
    "U_12, Sigma_12, VT_12 = randomized_svd(X_12.to_numpy(),\n",
    "                              n_components=2,\n",
    "                              random_state=42)"
   ]
  },
  {
   "cell_type": "code",
   "execution_count": 96,
   "id": "6dc14718-6444-4c54-92f9-20bc1965bf87",
   "metadata": {},
   "outputs": [
    {
     "data": {
      "text/plain": [
       "array([[ 0.83983741, -0.47707591],\n",
       "       [ 0.51123433,  0.53471316],\n",
       "       [ 0.18251735,  0.69748148]])"
      ]
     },
     "execution_count": 96,
     "metadata": {},
     "output_type": "execute_result"
    }
   ],
   "source": [
    "U_12"
   ]
  },
  {
   "cell_type": "code",
   "execution_count": 97,
   "id": "2c4c4b69-c9cf-41cd-9b64-14d22d854ac4",
   "metadata": {},
   "outputs": [
    {
     "data": {
      "text/plain": [
       "array([[ 0.79486968,  0.53264052,  0.28680333,  0.04711817],\n",
       "       [-0.55387998,  0.47306532,  0.67541355, -0.11507698]])"
      ]
     },
     "execution_count": 97,
     "metadata": {},
     "output_type": "execute_result"
    }
   ],
   "source": [
    "VT_12"
   ]
  },
  {
   "cell_type": "code",
   "execution_count": 99,
   "id": "180e8864-d86b-4056-ba9f-6d6cb42e3635",
   "metadata": {},
   "outputs": [
    {
     "data": {
      "text/plain": [
       "array([17.82406616,  4.14571098])"
      ]
     },
     "execution_count": 99,
     "metadata": {},
     "output_type": "execute_result"
    }
   ],
   "source": [
    "Sigma_12"
   ]
  },
  {
   "cell_type": "code",
   "execution_count": 98,
   "id": "cf5be349-74ff-425f-b3e6-110f63f0bd01",
   "metadata": {},
   "outputs": [
    {
     "data": {
      "text/plain": [
       "<matplotlib.collections.PathCollection at 0x168b81350>"
      ]
     },
     "execution_count": 98,
     "metadata": {},
     "output_type": "execute_result"
    },
    {
     "data": {
      "image/png": "[encoded data removed]",
      "text/plain": [
       "<Figure size 640x480 with 1 Axes>"
      ]
     },
     "metadata": {},
     "output_type": "display_data"
    }
   ],
   "source": [
    "plt.scatter(x=U_12[:, 0], y=U_12[:, 1], label='X1')\n",
    "plt.scatter(x=VT_12.T[:, 0], y=VT_12.T[:, 1], label='X2')"
   ]
  },
  {
   "cell_type": "markdown",
   "id": "ff28da63-64ec-49ed-afe1-ca217777c158",
   "metadata": {},
   "source": [
    "Assuming the link between related points of two different batches are linearly related?"
   ]
  },
  {
   "cell_type": "code",
   "execution_count": 100,
   "id": "04691149-73fe-4ce9-8133-d5ff5833eaf4",
   "metadata": {},
   "outputs": [
    {
     "data": {
      "text/plain": [
       "array([ 0.83983741, -0.47707591])"
      ]
     },
     "execution_count": 100,
     "metadata": {},
     "output_type": "execute_result"
    }
   ],
   "source": [
    "U_12[0] "
   ]
  },
  {
   "cell_type": "code",
   "execution_count": 101,
   "id": "5908569a-f148-4b32-8a35-a32de9405fd0",
   "metadata": {},
   "outputs": [
    {
     "data": {
      "text/plain": [
       "array([ 0.79486968, -0.55387998])"
      ]
     },
     "execution_count": 101,
     "metadata": {},
     "output_type": "execute_result"
    }
   ],
   "source": [
    "VT_12.T[0]"
   ]
  },
  {
   "cell_type": "code",
   "execution_count": 102,
   "id": "cf18ffbd-5048-4a39-8c70-fe3db2bbe075",
   "metadata": {},
   "outputs": [
    {
     "data": {
      "text/plain": [
       "0.9318040829797302"
      ]
     },
     "execution_count": 102,
     "metadata": {},
     "output_type": "execute_result"
    }
   ],
   "source": [
    "np.dot(U_12[0], VT_12.T[0])"
   ]
  },
  {
   "cell_type": "code",
   "execution_count": 117,
   "id": "2e7e5225-193f-4b3e-8e90-8de8fee466a3",
   "metadata": {},
   "outputs": [
    {
     "data": {
      "text/html": [
       "<div>\n",
       "<style scoped>\n",
       "    .dataframe tbody tr th:only-of-type {\n",
       "        vertical-align: middle;\n",
       "    }\n",
       "\n",
       "    .dataframe tbody tr th {\n",
       "        vertical-align: top;\n",
       "    }\n",
       "\n",
       "    .dataframe thead th {\n",
       "        text-align: right;\n",
       "    }\n",
       "</style>\n",
       "<table border=\"1\" class=\"dataframe\">\n",
       "  <thead>\n",
       "    <tr style=\"text-align: right;\">\n",
       "      <th></th>\n",
       "      <th>G0</th>\n",
       "      <th>G1</th>\n",
       "      <th>G2</th>\n",
       "    </tr>\n",
       "  </thead>\n",
       "  <tbody>\n",
       "    <tr>\n",
       "      <th>C0</th>\n",
       "      <td>1</td>\n",
       "      <td>2</td>\n",
       "      <td>0</td>\n",
       "    </tr>\n",
       "    <tr>\n",
       "      <th>C1</th>\n",
       "      <td>0</td>\n",
       "      <td>1</td>\n",
       "      <td>1</td>\n",
       "    </tr>\n",
       "    <tr>\n",
       "      <th>C2</th>\n",
       "      <td>0</td>\n",
       "      <td>0</td>\n",
       "      <td>1</td>\n",
       "    </tr>\n",
       "  </tbody>\n",
       "</table>\n",
       "</div>"
      ],
      "text/plain": [
       "    G0  G1  G2\n",
       "C0   1   2   0\n",
       "C1   0   1   1\n",
       "C2   0   0   1"
      ]
     },
     "execution_count": 117,
     "metadata": {},
     "output_type": "execute_result"
    }
   ],
   "source": [
    "X1"
   ]
  },
  {
   "cell_type": "code",
   "execution_count": 124,
   "id": "4b4a3098-790f-4ac2-bedd-5af8bf52b356",
   "metadata": {},
   "outputs": [],
   "source": [
    "loss_df = {}\n",
    "for i, di in enumerate(U_12):\n",
    "    for j, dj in enumerate(VT_12.T):\n",
    "        loss_df[(X1.index[i], X2.index[j])] = np.dot(U_12[i], VT_12.T[j])\n",
    "\n",
    "loss_df = pd.DataFrame(index=loss_df.keys(), data=loss_df.values(), columns=['dot_product'])\n",
    "loss_df.index.names = ['X1', 'X2']"
   ]
  },
  {
   "cell_type": "code",
   "execution_count": 126,
   "id": "356cfe72-687b-4275-bbf6-e0ac9c1fd4ad",
   "metadata": {},
   "outputs": [],
   "source": [
    "loss_df['exp(dot_product)'] = np.exp(loss_df['dot_product'])"
   ]
  },
  {
   "cell_type": "code",
   "execution_count": 133,
   "id": "a7192a89-23ba-4cff-8998-d23fc9401138",
   "metadata": {},
   "outputs": [],
   "source": [
    "for (x1, x2), df in loss_df.iterrows():\n",
    "    x1_df = loss_df.loc[x1]\n",
    "    x1_df = x1_df[x1_df.index != x2] # all except x2\n",
    "    loss_df.loc[(x1, x2), 'denom'] = x1_df['exp(dot_product)'].sum()\n",
    "    "
   ]
  },
  {
   "cell_type": "code",
   "execution_count": 149,
   "id": "9782ca64-2a27-4133-b024-3bfb6a02c19b",
   "metadata": {},
   "outputs": [],
   "source": [
    "loss_df['loss'] = loss_df['exp(dot_product)'] / loss_df['denom']"
   ]
  },
  {
   "cell_type": "code",
   "execution_count": 150,
   "id": "1293f6b3-14a9-4cb3-a254-59111b3b0746",
   "metadata": {},
   "outputs": [
    {
     "data": {
      "text/html": [
       "<div>\n",
       "<style scoped>\n",
       "    .dataframe tbody tr th:only-of-type {\n",
       "        vertical-align: middle;\n",
       "    }\n",
       "\n",
       "    .dataframe tbody tr th {\n",
       "        vertical-align: top;\n",
       "    }\n",
       "\n",
       "    .dataframe thead th {\n",
       "        text-align: right;\n",
       "    }\n",
       "</style>\n",
       "<table border=\"1\" class=\"dataframe\">\n",
       "  <thead>\n",
       "    <tr style=\"text-align: right;\">\n",
       "      <th></th>\n",
       "      <th></th>\n",
       "      <th>dot_product</th>\n",
       "      <th>exp(dot_product)</th>\n",
       "      <th>denom</th>\n",
       "      <th>loss</th>\n",
       "    </tr>\n",
       "    <tr>\n",
       "      <th>X1</th>\n",
       "      <th>X2</th>\n",
       "      <th></th>\n",
       "      <th></th>\n",
       "      <th></th>\n",
       "      <th></th>\n",
       "    </tr>\n",
       "  </thead>\n",
       "  <tbody>\n",
       "    <tr>\n",
       "      <th rowspan=\"4\" valign=\"top\">C0</th>\n",
       "      <th>C10</th>\n",
       "      <td>0.931804</td>\n",
       "      <td>2.539086</td>\n",
       "      <td>3.269071</td>\n",
       "      <td>0.776700</td>\n",
       "    </tr>\n",
       "    <tr>\n",
       "      <th>C11</th>\n",
       "      <td>0.221643</td>\n",
       "      <td>1.248126</td>\n",
       "      <td>4.560030</td>\n",
       "      <td>0.273710</td>\n",
       "    </tr>\n",
       "    <tr>\n",
       "      <th>C12</th>\n",
       "      <td>-0.081355</td>\n",
       "      <td>0.921866</td>\n",
       "      <td>4.886290</td>\n",
       "      <td>0.188664</td>\n",
       "    </tr>\n",
       "    <tr>\n",
       "      <th>C13</th>\n",
       "      <td>0.094472</td>\n",
       "      <td>1.099078</td>\n",
       "      <td>4.709078</td>\n",
       "      <td>0.233396</td>\n",
       "    </tr>\n",
       "    <tr>\n",
       "      <th rowspan=\"4\" valign=\"top\">C1</th>\n",
       "      <th>C10</th>\n",
       "      <td>0.110198</td>\n",
       "      <td>1.116499</td>\n",
       "      <td>4.315735</td>\n",
       "      <td>0.258704</td>\n",
       "    </tr>\n",
       "    <tr>\n",
       "      <th>C11</th>\n",
       "      <td>0.525258</td>\n",
       "      <td>1.690896</td>\n",
       "      <td>3.741339</td>\n",
       "      <td>0.451949</td>\n",
       "    </tr>\n",
       "    <tr>\n",
       "      <th>C12</th>\n",
       "      <td>0.507776</td>\n",
       "      <td>1.661592</td>\n",
       "      <td>3.770642</td>\n",
       "      <td>0.440666</td>\n",
       "    </tr>\n",
       "    <tr>\n",
       "      <th>C13</th>\n",
       "      <td>-0.037445</td>\n",
       "      <td>0.963248</td>\n",
       "      <td>4.468987</td>\n",
       "      <td>0.215541</td>\n",
       "    </tr>\n",
       "    <tr>\n",
       "      <th rowspan=\"4\" valign=\"top\">C2</th>\n",
       "      <th>C10</th>\n",
       "      <td>-0.241244</td>\n",
       "      <td>0.785650</td>\n",
       "      <td>4.151573</td>\n",
       "      <td>0.189242</td>\n",
       "    </tr>\n",
       "    <tr>\n",
       "      <th>C11</th>\n",
       "      <td>0.427170</td>\n",
       "      <td>1.532914</td>\n",
       "      <td>3.404309</td>\n",
       "      <td>0.450286</td>\n",
       "    </tr>\n",
       "    <tr>\n",
       "      <th>C12</th>\n",
       "      <td>0.523435</td>\n",
       "      <td>1.687815</td>\n",
       "      <td>3.249408</td>\n",
       "      <td>0.519422</td>\n",
       "    </tr>\n",
       "    <tr>\n",
       "      <th>C13</th>\n",
       "      <td>-0.071664</td>\n",
       "      <td>0.930843</td>\n",
       "      <td>4.006380</td>\n",
       "      <td>0.232340</td>\n",
       "    </tr>\n",
       "  </tbody>\n",
       "</table>\n",
       "</div>"
      ],
      "text/plain": [
       "        dot_product  exp(dot_product)     denom      loss\n",
       "X1 X2                                                    \n",
       "C0 C10     0.931804          2.539086  3.269071  0.776700\n",
       "   C11     0.221643          1.248126  4.560030  0.273710\n",
       "   C12    -0.081355          0.921866  4.886290  0.188664\n",
       "   C13     0.094472          1.099078  4.709078  0.233396\n",
       "C1 C10     0.110198          1.116499  4.315735  0.258704\n",
       "   C11     0.525258          1.690896  3.741339  0.451949\n",
       "   C12     0.507776          1.661592  3.770642  0.440666\n",
       "   C13    -0.037445          0.963248  4.468987  0.215541\n",
       "C2 C10    -0.241244          0.785650  4.151573  0.189242\n",
       "   C11     0.427170          1.532914  3.404309  0.450286\n",
       "   C12     0.523435          1.687815  3.249408  0.519422\n",
       "   C13    -0.071664          0.930843  4.006380  0.232340"
      ]
     },
     "execution_count": 150,
     "metadata": {},
     "output_type": "execute_result"
    }
   ],
   "source": [
    "loss_df"
   ]
  },
  {
   "cell_type": "code",
   "execution_count": 160,
   "id": "9e285349-a0a0-4911-bc40-2c1630232892",
   "metadata": {},
   "outputs": [
    {
     "data": {
      "text/plain": [
       "<matplotlib.collections.PathCollection at 0x18310a710>"
      ]
     },
     "execution_count": 160,
     "metadata": {},
     "output_type": "execute_result"
    },
    {
     "data": {
      "image/png": "[encoded data removed]",
      "text/plain": [
       "<Figure size 640x480 with 1 Axes>"
      ]
     },
     "metadata": {},
     "output_type": "display_data"
    }
   ],
   "source": [
    "for (x1, x2), r in loss_df.iterrows():\n",
    "    x1_idx = X1.index.tolist().index(x1)\n",
    "    x2_idx = X2.index.tolist().index(x2)\n",
    "    plt.plot(\n",
    "        [U_12[x1_idx, 0], VT_12.T[x2_idx, 0]], \n",
    "        [U_12[x1_idx, 1], VT_12.T[x2_idx, 1]], \n",
    "        c='k', \n",
    "        linewidth=np.exp(r['loss'] * 3),\n",
    "        alpha=r['loss']\n",
    "    )\n",
    "plt.scatter(x=U_12[:, 0], y=U_12[:, 1], label='X1')\n",
    "plt.scatter(x=VT_12.T[:, 0], y=VT_12.T[:, 1], label='X2')"
   ]
  },
  {
   "cell_type": "code",
   "execution_count": 165,
   "id": "03c3b650-887f-4a05-b7ec-c0ca8d1033b9",
   "metadata": {},
   "outputs": [],
   "source": [
    "df = pd.DataFrame(index=pd.MultiIndex.from_product([np.arange(8),np.arange(8)]))\n",
    "df.index.names = ['x', 'y']"
   ]
  },
  {
   "cell_type": "code",
   "execution_count": 176,
   "id": "b2264742-a045-4bd0-9d60-4d9c43ff8293",
   "metadata": {},
   "outputs": [
    {
     "data": {
      "image/png": "[encoded data removed]",
      "text/plain": [
       "<Figure size 640x480 with 1 Axes>"
      ]
     },
     "metadata": {},
     "output_type": "display_data"
    }
   ],
   "source": [
    "df.reset_index().plot.scatter(x='x', y='y', s=50)\n",
    "plt.axis('off')\n",
    "plt.show()"
   ]
  },
  {
   "cell_type": "code",
   "execution_count": 187,
   "id": "abde75c0-c0f0-41ad-9cc6-accc80c7209c",
   "metadata": {},
   "outputs": [],
   "source": [
    "df['item'] = 'not pizza'\n",
    "df.loc[\n",
    "    [[0, 7], [0, 6], [1, 7], [1, 6], [1, 5], [2, 6]]\n",
    "    ,'item'\n",
    "] = 'pizza'"
   ]
  },
  {
   "cell_type": "code",
   "execution_count": 200,
   "id": "6ce19fc4-2ff0-4519-be74-8c90645c8a01",
   "metadata": {},
   "outputs": [
    {
     "data": {
      "image/png": "[encoded data removed]",
      "text/plain": [
       "<Figure size 640x480 with 1 Axes>"
      ]
     },
     "metadata": {},
     "output_type": "display_data"
    }
   ],
   "source": [
    "sns.scatterplot(df.reset_index(), x='x', y='y', hue='item', s=50, legend=False, palette={'pizza': 'red', 'not pizza': 'lightgray'})\n",
    "plt.plot([0.8], [6.2], marker='+', markersize=10)\n",
    "plt.axis('off')\n",
    "plt.show()"
   ]
  },
  {
   "cell_type": "markdown",
   "id": "0174103e-fc2c-43c6-a934-d4b56743cd2d",
   "metadata": {},
   "source": [
    "# Multivariate normal"
   ]
  },
  {
   "cell_type": "code",
   "execution_count": 211,
   "id": "dddce5f4-5941-4156-b303-15ae40ea2255",
   "metadata": {},
   "outputs": [],
   "source": [
    "mean = np.zeros(3)\n",
    "cov = [\n",
    "    [1, 0.5, 0], [0.5, 1, 0], [0, 0, 1]\n",
    "]\n",
    "pts = np.random.multivariate_normal(mean, cov, size=800, check_valid='warn', tol=1e-8)"
   ]
  },
  {
   "cell_type": "code",
   "execution_count": 212,
   "id": "75695256-411f-472e-9c88-a639dff169b4",
   "metadata": {},
   "outputs": [],
   "source": [
    "import plotly.express as px"
   ]
  },
  {
   "cell_type": "code",
   "execution_count": 213,
   "id": "230ee3f0-88c3-4ca0-a2df-9b0feab205b5",
   "metadata": {},
   "outputs": [
    {
     "data": {
      "application/vnd.plotly.v1+json": {
       "config": {
        "plotlyServerURL": "https://plot.ly"
       },
       "data": [
        {
         "hovertemplate": "x=%{x}<br>y=%{y}<br>z=%{z}<extra></extra>",
         "legendgroup": "",
         "marker": {
          "color": "#636efa",
          "size": 2,
          "symbol": "circle"
         },
         "mode": "markers",
         "name": "",
         "scene": "scene",
         "showlegend": false,
         "type": "scatter3d",
         "x": [
          1.6605394672410805,
          -1.5964478695863087,
          -0.8202908719235551,
          0.09535489116218598,
          -0.43539240769542953,
          0.6063357935943803,
          1.2350081839803473,
          0.9834385709330442,
          -2.1195505589464223,
          1.3400757110938157,
          0.013793112814814157,
          0.5973492824176204,
          0.4367893358828586,
          0.3215470168158544,
          0.22530173487432345,
          -1.1193036207521514,
          -1.4764948021682125,
          -0.6560140485498563,
          0.23051242802425964,
          -0.855207542900811,
          1.014199880751231,
          -0.6971028540418843,
          0.8445159706745398,
          1.3506050240070608,
          -0.9142358911584381,
          0.6109415190965529,
          -0.9459880256905366,
          -0.7642300865895867,
          2.007528940354239,
          -0.2597504256554479,
          0.10003170803363742,
          0.8200244736180031,
          -0.4766028106925568,
          0.6682573506063828,
          0.12163910642535525,
          -0.16904653864106922,
          1.748697732131362,
          0.2988802783026592,
          -0.16644569841504406,
          -0.5056125372101657,
          0.42171783537422497,
          -0.7270772071062375,
          -0.24986889880588434,
          1.4813682693711083,
          0.18472954949886203,
          0.3018104717769555,
          1.3129901625714058,
          -0.7770612252085151,
          0.46397663911535364,
          1.0099172935376788,
          0.7281490495306648,
          0.37894965568921024,
          0.21269113980582,
          0.2210697208891534,
          1.0775381330132108,
          -0.0814702834568185,
          0.5185811783417088,
          -0.8296169163891692,
          0.11542793829134773,
          0.7864158647360463,
          -1.313854314370851,
          0.26352454607884135,
          1.624905269337297,
          0.7750755887560041,
          -1.5008094090510267,
          0.49311749889882656,
          0.2587090726106333,
          0.733886240297833,
          -1.4429674193497743,
          -0.1098031168669265,
          -0.8398825176941135,
          0.1615356948309169,
          0.41540959416171663,
          0.7361017534754247,
          0.4694593766930393,
          -0.40133538478228786,
          -1.2777499946757278,
          -0.452654817919034,
          -0.04948244001021079,
          -1.5475375660740387,
          -0.25699956831447474,
          1.2078223170883473,
          -1.2102659638376856,
          -0.7562868092716402,
          -0.528436863263925,
          0.12191939888884401,
          -0.19669021273934262,
          -1.2853870106073133,
          -0.33515054266875854,
          0.33041513902005304,
          0.4330751508460458,
          1.2459780191583738,
          -0.39862199764140616,
          0.1527327142492283,
          0.7382833297930798,
          -1.281824270482665,
          -1.1770135264384682,
          0.3840011596466439,
          2.1254253462463875,
          -1.3979080420494272,
          -0.3181464547821389,
          -0.01283619888025371,
          -2.819628132349408,
          0.029928674187349624,
          1.5204234612263876,
          -0.8643551128070115,
          -1.0272141678359776,
          -0.8398926779496418,
          -0.3630820408965537,
          0.6480049196144092,
          1.7788709570253665,
          0.19784633057218384,
          0.5145741003060086,
          0.6464500313050928,
          -1.300729598739092,
          -0.9619282484445231,
          0.6444756822254667,
          -0.3294556441825842,
          -1.049068572919863,
          -1.1348845826092795,
          -1.7337665332657124,
          1.1378254545964102,
          0.47761978793033444,
          0.663788798691032,
          -0.005733962579327734,
          3.018917304059308,
          -0.09061025801851365,
          1.2350641440750527,
          -0.5145011289457104,
          0.015733302090655127,
          0.15379932462707266,
          -0.008603146640265458,
          0.48857304822561237,
          0.7918291590546226,
          0.6017791789566032,
          -0.9394973268820193,
          -0.34329303763885394,
          -0.0763617145468698,
          0.92922930450609,
          -0.1774368957074639,
          -0.018797239790920184,
          -0.5309310998489318,
          0.9096228696984235,
          0.9769239997856278,
          0.2399317374533892,
          1.560654701567302,
          -2.866868482833368,
          0.29084795706990263,
          0.17447471307419254,
          -0.5137291937041553,
          -1.3280456615834204,
          -1.947235809027216,
          0.7426314421323585,
          -0.4251571104505052,
          0.08904491948008442,
          0.13599088584684083,
          -1.3868652646326043,
          0.37931835497477784,
          0.30544331184173135,
          1.165179678840754,
          -0.24262479099982998,
          -0.7683137186003476,
          0.8624523877626011,
          0.18008680572793365,
          -0.25425158887803273,
          -0.38566489905326407,
          0.7963291122139677,
          -1.4753799750024545,
          -1.0168067456116383,
          0.5921697927905418,
          -0.6059246701214291,
          -0.05834075689430873,
          -1.5187015174252423,
          -1.6480472765174654,
          -0.5751017890236969,
          0.9506256834321402,
          -2.166363279130019,
          0.03375451880018773,
          -1.0057417225030854,
          1.4355777220472703,
          2.068289066669881,
          -0.4115251453890135,
          0.06500697069795414,
          -0.4752622693046926,
          0.4324943395329771,
          0.08310808831279987,
          -0.8149676455813967,
          -0.32535729840865535,
          -3.0666803064514205,
          1.8136190930226896,
          -2.5925168064793436,
          1.1717630361103886,
          0.153451588488288,
          0.41566795447021165,
          -0.14133460764201367,
          -1.8472063392984817,
          -1.2999341413256282,
          -0.5597763280235388,
          -0.6180502230586205,
          -0.5462566624357561,
          0.6587980946753114,
          0.9104171480435107,
          1.2318533428514558,
          0.7855300910376092,
          0.36254063653726815,
          0.22394255867530238,
          1.2162194136493092,
          1.0657426370512375,
          -0.2582783436249373,
          0.22467978927176557,
          -0.15734454544111565,
          0.6804786907228177,
          -2.577893261442938,
          -0.31434891729874903,
          0.901103256822551,
          -0.2204289039428859,
          -2.0399167022753084,
          1.298093212044722,
          0.26675126783815195,
          -1.7722159347311925,
          -1.144020440377675,
          0.7633723642618961,
          -0.6057510316423687,
          -0.4547737174039101,
          1.0570470001964836,
          -0.367011390407484,
          1.6140398715563515,
          0.4833912529291643,
          0.3273038176696099,
          -1.1343223694027014,
          -0.13650375124731784,
          -1.0025588136992347,
          0.22828462968084673,
          0.5842324084221453,
          -0.0763889563895338,
          -0.32300587828728433,
          1.526888647998975,
          0.7654870896049523,
          -0.5739177689072305,
          -1.435513546719355,
          0.9669283744806694,
          0.010412897368727192,
          -0.1539119215008442,
          -0.4890841708393766,
          0.238956994344312,
          -0.00560205037242603,
          2.254062744495908,
          -0.4543467474123493,
          1.380689162997734,
          0.9673719756228836,
          -1.2668074666905187,
          1.4348465374982948,
          -0.1322729781645241,
          -1.0195739300795499,
          0.997754163645613,
          0.4016611117450103,
          -0.8031395810203938,
          -0.7853737007565815,
          -0.42042626124638577,
          -1.2879027825567126,
          -0.11108323127354947,
          -0.47348652753517007,
          0.0008249299340812866,
          -0.909090652712698,
          -0.25824695319223245,
          0.18870778099460256,
          -0.5169403937250914,
          1.212100659802826,
          -0.412825913386237,
          -0.07817253659135108,
          -0.3637036785563061,
          0.0020506472463548975,
          -0.09713898761244713,
          -3.133818969517276,
          -0.8661567845235756,
          -0.9744377243393287,
          0.3530495178247307,
          0.28441608570710186,
          0.4341743748802144,
          -0.12849174904546934,
          -0.6954296231650047,
          0.6291731699631838,
          0.775062080984362,
          1.5654724412342227,
          -1.7899156800464595,
          -0.9254218790557258,
          -0.3428343902436768,
          -0.4206978333213425,
          0.8656304312139287,
          0.15495702897991148,
          -0.8174257253165609,
          -0.664784032567044,
          1.983815999014544,
          0.7088122194794992,
          0.4803677657007754,
          -2.304067580911521,
          -0.18164215347429274,
          0.09272091109595058,
          1.0721263724776016,
          -0.009790201714298008,
          -1.8651147603583964,
          -0.7523472058634327,
          -1.7433799800553749,
          0.3006657325671171,
          -0.8741036768862052,
          -0.7939657154045985,
          -2.0006987954471196,
          1.6302056847845496,
          -1.527665382705366,
          -0.24107860971166006,
          0.06125455429928767,
          0.261549878617662,
          -0.1898033060322386,
          -0.636977607337109,
          -0.4130964246959,
          0.7625092691326343,
          1.1900617004867324,
          -1.592290766969108,
          2.893290793430432,
          -0.002382167980088501,
          -0.8718090483466345,
          1.403328825594551,
          -1.4741457546738137,
          1.013079773863917,
          -0.622957277061927,
          0.8372529749312989,
          -0.511989489466399,
          1.5270808899065793,
          -0.21369041668126515,
          1.1016025538692984,
          -1.6986725816079185,
          -0.062128449479727815,
          -2.2604046042334858,
          1.1962874848554947,
          -0.604841398102463,
          -0.9534815031369732,
          -0.12114497275746516,
          1.131004335858622,
          -0.6229101432722846,
          -2.7400073595699874,
          0.5973240392920203,
          1.2338215953228318,
          -0.14582552528588477,
          0.5573669631039901,
          -1.4862677755405842,
          -0.06957452929010133,
          0.853352130249295,
          -0.34297824732389137,
          -0.19915085189404114,
          0.8026460588707859,
          1.0544820661291758,
          0.6919645134466532,
          -0.34997977030661154,
          -0.05869897580030476,
          1.0720929139946345,
          -2.7455626530913033,
          1.2558574159988483,
          -0.2812672709361022,
          0.31309998790841653,
          -1.0467025556491194,
          0.7726505196969857,
          -0.44662679682713524,
          1.6941878007704982,
          -1.2194753861295533,
          -1.288278077074738,
          -0.4562692637608857,
          0.015741338759762052,
          0.11885144684602689,
          0.8901382225011043,
          -0.11620109742605433,
          -0.5527902567964055,
          -0.19017316783291294,
          0.9097093235910996,
          1.5486019499237802,
          0.2806569805485668,
          2.1984011130403713,
          2.3624959098480813,
          -1.1657180802473674,
          -0.008975109105017531,
          0.5460467960919557,
          0.8700645081084349,
          2.6418235379014683,
          0.5796185157990713,
          -0.26840436310305565,
          0.19855660658316626,
          -0.05192508376538396,
          0.311866320120469,
          -0.9276190387429221,
          0.38940969598953823,
          -2.1426294664166305,
          -0.04493518492318627,
          -0.4371087407829088,
          0.11717738956245782,
          1.6840623904775207,
          0.048986323381079,
          -0.1302083236631123,
          2.0561175008553496,
          -0.7371751936372627,
          -1.6908133628014406,
          0.6489127209929126,
          -1.515277856607578,
          0.8458458654243224,
          -0.38034350130890415,
          -0.5646354550463915,
          0.06574766673776122,
          -0.44649191957218104,
          -1.486721219420195,
          1.226252581814644,
          1.5372882328926976,
          2.4345818002858186,
          -1.581196770220257,
          1.3912327982680335,
          0.35997671455276703,
          -0.7904655220769937,
          0.012807270003333038,
          0.3157476067052632,
          -0.0068333025726860785,
          2.7118951076113027,
          2.0405317973318438,
          -1.8383993571633608,
          -0.3531317803338404,
          0.36376511347293283,
          -1.1780243776164665,
          1.6040578457841594,
          -1.119683202331707,
          -0.3875541475652102,
          -1.1558354634730605,
          0.9192715748164928,
          -0.9074358647537236,
          -1.3616950658358649,
          0.37806122932034625,
          1.098409737022675,
          0.9994905273112802,
          -0.36109279213801543,
          0.4194821472232435,
          0.6069508472466719,
          0.000734189519999151,
          -0.2618068279871338,
          -0.22710453171812886,
          -1.450657609539404,
          0.7121552313641885,
          2.644231871747354,
          -0.01674533088689356,
          1.023171113799946,
          -0.3252614796237299,
          -0.49425760619913506,
          -0.38449070512792183,
          0.17523092589261424,
          0.17963670486903804,
          -0.21821324892473629,
          0.15059640696002383,
          -0.022779444801431126,
          -2.1909439564744346,
          -0.10311178240945766,
          -1.360507639955407,
          1.6463253053045184,
          -0.6382767761554906,
          -1.3071111615392366,
          -0.9004354860851778,
          0.7373127634539186,
          0.867426528070791,
          -0.34482747130030433,
          1.2591432837283176,
          1.7898813661004007,
          1.4562670753647815,
          0.49000432125852006,
          0.6788041914354571,
          -0.40923163229190335,
          -1.8431959186794855,
          -0.06244093134472728,
          -0.40833093293904016,
          -1.318902638739685,
          -1.2064012668118098,
          2.0808855937341346,
          0.09682586229205069,
          -0.7653690520051868,
          -1.3142265082981124,
          -0.042632235832515075,
          -1.3773328659397173,
          -0.9215019240000752,
          0.9258882103627686,
          0.3630101780167756,
          -0.040749571070954116,
          -1.1787593540573187,
          0.24664624754934739,
          0.5115517187107982,
          -0.6234352639846525,
          -0.023147641326655866,
          0.2683964783784899,
          -1.0691533566039335,
          -0.9273064703613423,
          1.5238427579472862,
          0.33346897101742673,
          0.3268832849951356,
          1.1548395276616925,
          -0.027099931023605625,
          1.273018086638252,
          -0.005985671415340288,
          0.7236444767060368,
          0.7895545707288101,
          2.3267266300134537,
          -1.0390701914538485,
          0.2841715795668481,
          -0.11518388748223345,
          0.18513703178398686,
          -0.6102529090472611,
          -1.0588683859414787,
          0.21778750939913283,
          -1.978360096272934,
          1.6972888439067415,
          -0.5666547275116299,
          0.7741879742079532,
          -1.2434873878715682,
          0.6974813968818767,
          -2.142164856807631,
          -0.012052234703299858,
          -0.4566624028146132,
          -2.8194886945546207,
          -0.4716369541341863,
          0.11952728261207382,
          -1.8937768149315501,
          -0.14243251249236094,
          0.5418580104264056,
          -0.8304568607414552,
          -0.9674276550656216,
          1.3465690314716217,
          -0.3724980763576652,
          1.372298417793497,
          -1.3318516985129252,
          0.5494739947273691,
          0.01842505336333211,
          2.1257942563237444,
          -1.4686883515542835,
          0.9673354084022143,
          -0.8844690148764568,
          -0.8155287325899898,
          0.458671982525359,
          1.4614156177791355,
          0.016145162897162533,
          -1.5683851879618012,
          0.3525856943831287,
          -1.1922683042737576,
          -1.6749895609270515,
          0.10844825113083126,
          0.10753966143662991,
          1.3661649008229315,
          0.7952498114463671,
          -0.42738534861914296,
          0.2161096686429274,
          -2.0468065109483082,
          -1.919410305992401,
          -0.995055530693474,
          1.6369550250419826,
          -1.2654485366507942,
          -1.7657675350722633,
          0.11929313593584961,
          -0.8718953358903305,
          -1.7689619608216955,
          0.49409675428867383,
          0.7372669694152261,
          -0.8560122717141966,
          -0.585668054773954,
          -0.767918718521963,
          -0.36711459105952576,
          -0.08357654336792364,
          0.4502781901275778,
          -1.1062698376777695,
          0.8957538074559426,
          -0.38767203172927417,
          -0.4776070420624213,
          -1.7616351552710037,
          0.03831575574366458,
          -0.6605956119567149,
          -0.7884581469440399,
          -0.025530869270310258,
          0.5937081141510866,
          -1.0532513172310274,
          0.6619922524018209,
          0.9742655817215129,
          -0.34349409266525494,
          0.873312492028078,
          -1.5049645878858369,
          -0.06456751601831923,
          0.17246469078640314,
          1.3446232049139175,
          0.28601503902870773,
          0.06752399351790295,
          0.7317353587887016,
          2.035538662444483,
          0.47520533185196756,
          0.9035780491050744,
          1.4273822477688838,
          -0.5939816346651826,
          0.8297884178918205,
          0.5093012236001857,
          0.18748861029446634,
          0.7248436789873567,
          1.9322344000670295,
          0.6555649523301069,
          0.5236954336406308,
          1.4605219004222705,
          -2.0426319825556893,
          -0.5819132935586837,
          1.1466468134890302,
          -1.7537739853493801,
          -2.5944115198871778,
          0.31242229356071044,
          1.5591971304406753,
          1.2000857026450424,
          -0.23223160684619298,
          -0.13736216891900588,
          0.1580134927366732,
          -0.34917743012864455,
          1.3066012189277574,
          1.8118325117852327,
          0.94085865922601,
          -0.25720173797970947,
          -0.3696660005503021,
          0.6916632978563817,
          0.10824031196853368,
          -0.3911818835578703,
          -0.33375897624817996,
          -0.32057282239521834,
          -0.0003398702491779204,
          -1.046984140793976,
          1.9230004661747642,
          -0.9577873913422281,
          0.9879583251115804,
          -0.8301235555725026,
          -0.12607338952073843,
          -1.0383918671536698,
          0.38043484077084444,
          1.8372879531626338,
          -2.4296609224494086,
          -1.919548495232327,
          -1.052932700321231,
          1.8056525043429548,
          0.20361184456521897,
          0.2600554235966597,
          -0.220631556707853,
          -0.05478524355979808,
          -1.684724443031085,
          1.4841856983580255,
          1.0089697805492572,
          -1.3672197127335828,
          0.05538515814755984,
          -2.8720637601850862,
          0.05904460992252736,
          0.5209594221625368,
          0.9972071149952313,
          -0.07698940880482259,
          -0.4048160698753301,
          -0.614476875190269,
          1.0036899590035737,
          -0.7729456061717321,
          0.7690240632025598,
          0.5502316449724585,
          -0.9719244801172993,
          1.0216760687138984,
          -0.9341751780509969,
          -0.15258671127160628,
          -0.11224991721895261,
          -0.9574429061010087,
          0.3437388290512013,
          0.29282678378949056,
          -0.535698301694925,
          0.19753679699552923,
          -1.613726613911711,
          0.7274856576289158,
          -0.8795183754664748,
          0.8766701286078187,
          -0.35711272458560883,
          0.21464132148180387,
          0.48915433181884116,
          -0.26297954424322567,
          0.9820794729436796,
          -0.6284041079495961,
          0.5808032551182496,
          -1.1364641137986298,
          -0.9502802342348006,
          -0.3676093071958942,
          1.0766896745043855,
          1.4193252591702032,
          -0.9926448715128315,
          0.5831837616851688,
          2.188642564227315,
          0.26605762980390635,
          0.34914660535816555,
          0.337110333111612,
          -0.6980997463397924,
          -0.08341056680965087,
          -0.3539916077294104,
          0.660879327941174,
          0.12418792485339986,
          0.5345059473617828,
          0.23382238190177568,
          -2.3123649161098863,
          1.7136791463335657,
          0.9230820075907247,
          -0.5809656446295175,
          0.6378281666380954,
          -0.23342416006861844,
          -0.3744349758549083,
          -0.23146341174965113,
          -0.655832646774518,
          -0.241509732756637,
          0.5601808284960468,
          0.29382378571205814,
          0.27001998694273793,
          -1.102404787696302,
          1.8894194896563399,
          -0.5151940469899162,
          -0.9612160194555506,
          0.22281979104551425,
          -1.3077923833810692,
          0.40992206268511844,
          0.07655197261663715,
          -0.4204988866859823,
          0.24240940726355398,
          -0.31131635755736176,
          1.2871701104794444,
          1.5860730985476847,
          -0.552402221815948,
          0.33826507964624974,
          -0.10588680672852747,
          -0.6625411360092299,
          0.8606111161112793,
          -1.0932261953452198,
          0.22082743898222623,
          -0.9293188093852423,
          1.6895385189753174,
          -0.2888906894266279,
          -0.5374182157015034,
          0.7518380686948487,
          -0.7760533921898795,
          -1.2464166829549117,
          1.3020579551543774,
          0.20502936976724948,
          0.5613593468260849,
          0.2977137378402146,
          -0.04197933818325478,
          0.4181991760925512,
          -1.814291605271017,
          -0.15611386263955274,
          1.3231318235359573,
          -0.4563695658413266,
          -0.15293704746616393,
          1.1859860547428651,
          0.970201931047005,
          -0.47786587519043655,
          2.1428785050407675,
          -0.8651161117907804,
          1.028570838853586,
          1.6289082310010676,
          1.4996634885858944,
          -0.8230362462788792,
          0.42005081002966405,
          -0.5262610228746329,
          0.7632317759026899,
          0.7753894697256619,
          0.3255618198041218,
          -0.6232886230305491,
          0.025416781394193316,
          0.24956411292701608,
          1.0126880512785954,
          -0.7939323162513436,
          1.0274247218779187,
          -0.8540586282761274,
          0.2793197054380828,
          0.7987266049412187,
          -1.664346700787203,
          -1.2848552268549198,
          -0.39913528845713325,
          -1.4753493623453604,
          -0.7873790037130897,
          0.13882793445731764,
          -0.31150562282464594,
          -1.2406986958224948,
          0.5514638501984863,
          0.5765464208432081,
          -2.241912549760981,
          -0.33175640884918,
          1.2264085860448914,
          -0.18977963805012762,
          0.48558141452449766,
          0.9610047162598663,
          0.48912730686843015,
          -0.003042228156693083,
          -1.1024031194309354,
          -0.21918435998709174,
          0.4287211769307364,
          -0.11013049446960052,
          -0.8318784327159733,
          0.9222472662687577,
          -0.6978034808163109,
          -1.1768487408204305,
          0.43866712874355196,
          0.9898896021023041,
          -0.23826479251810287,
          0.22595261199349065
         ],
         "y": [
          0.7749008148069589,
          -1.9739228319391848,
          1.084364460186498,
          -0.7061855166971011,
          0.02862832437811674,
          -0.06647367509530573,
          0.5616360741507105,
          0.03979547316057847,
          -1.934977136553699,
          0.6165390495540061,
          -0.8839084228308076,
          -0.07601676616667853,
          1.260639980911486,
          0.32049970884289974,
          0.714648263194449,
          -1.2064673152437233,
          -0.2106734828233859,
          -0.8016497467169782,
          1.2093419012239401,
          -0.7810684638520203,
          -1.0929568293009444,
          -0.9539648057736946,
          -0.05072991363026201,
          -0.09074050256366833,
          -1.5982762370370562,
          -0.8293815505615127,
          -1.7641960205925782,
          -0.7906502941909163,
          -0.719106984320848,
          -0.4717527902508182,
          -0.7740208829575213,
          -0.5194161021588241,
          0.737644404263675,
          0.2513196495379899,
          0.7411002694328552,
          -1.8001988949455434,
          0.5154371537774424,
          -0.018785059319000215,
          -0.647159488336885,
          1.3770173386038536,
          -0.8509537545677124,
          -1.6759013056476753,
          0.15462359453565958,
          1.2537162816147358,
          0.046927302480102434,
          -2.0146927021355534,
          1.3182741810487268,
          0.44205342615318305,
          0.5560665468164293,
          -0.5324866889752209,
          1.6077066300724847,
          0.7986827266580891,
          0.8918650160044599,
          -1.1028948697551835,
          1.612069113532381,
          -1.4548158618641336,
          0.6268894713077073,
          1.2771148136179196,
          0.6174291410045001,
          -0.06950408336845663,
          -0.1944170592347696,
          0.07443527098641485,
          0.6402478866648408,
          -0.9024491421205437,
          -0.6124545434583707,
          0.5367611702219884,
          0.39525333727379963,
          -0.08619539478718434,
          0.09172965500999125,
          0.24131378785638605,
          -1.108368054952678,
          -0.8367848287704027,
          -0.6645189974496374,
          -0.6331064614703352,
          1.2007043967637048,
          1.0400798510024445,
          -2.0441544430794494,
          0.5041924579952206,
          -0.8075801442885056,
          -1.5541276272651743,
          0.44831656914964013,
          0.474447780303287,
          -1.0307098630835256,
          -0.767902072793114,
          0.09990076058726467,
          -0.9042409343247059,
          0.9363294276430497,
          -0.6598527851930523,
          -0.044906206783160006,
          -0.9325024648039233,
          1.1726019842304234,
          -1.015961545571702,
          -0.8236528751338201,
          -1.2792567930575829,
          0.7887659264980774,
          -0.25318426541027395,
          -0.8719534676613446,
          -0.38908931591334206,
          0.1154121897544389,
          -0.29352101309434875,
          1.050796305381366,
          -0.09747616017883623,
          -2.446597438391862,
          -0.289954516652097,
          0.45279245000666024,
          -0.6492644160164182,
          -1.0573268173548203,
          0.6723191888398269,
          -0.855397438699817,
          0.44857509491872777,
          2.208955943663563,
          0.3358430730880521,
          0.9078099247247723,
          0.4464789818576561,
          -0.12941824029801283,
          -0.21846789542773712,
          0.3618404484607898,
          -0.48020332965261286,
          -1.0833795897516993,
          -0.14769069762137677,
          -1.1925916286978275,
          0.12677340536323123,
          0.4977673935569436,
          0.8032227278049318,
          -0.6508650292139272,
          2.127318156002006,
          -0.27185756045481707,
          2.356818503458364,
          -0.2967466596653305,
          0.29192985173659763,
          -0.3295495700781717,
          0.02369979896544015,
          0.2413955034520037,
          2.1055225572069447,
          -1.2355932273931258,
          0.2720060432587519,
          -0.6872895416996373,
          -0.7778982106038246,
          1.0692915180545441,
          -0.3104022895156597,
          0.8068726138953477,
          0.13172243754032614,
          -0.5914005075048699,
          -0.24228330399454392,
          -0.5634849780758991,
          1.5236167620073515,
          -0.6279790294824035,
          0.6619749346078538,
          0.896680589276291,
          -0.8215815627977358,
          1.0431147828778482,
          -1.035773248544789,
          0.7198620090200448,
          -1.6015548786245661,
          0.9676118845570738,
          -0.2068230452592225,
          -2.2288602470280656,
          0.6961413330612631,
          0.8442259780951282,
          -0.40436626215499305,
          0.9220486776685449,
          -0.7605292770203562,
          1.2673533884514265,
          0.15697072122635927,
          -0.3768099151303529,
          0.45193601142419065,
          0.372580925220323,
          -0.1080998502019966,
          -1.9714459583863384,
          1.0836250621737167,
          1.3608007826373902,
          0.645966159893339,
          -0.7445945374173888,
          -0.39891906273638056,
          -1.1080758425464277,
          2.0172137975261384,
          -1.3720319652927984,
          -0.11021466739866535,
          -0.9938130400769402,
          -1.966465997288451,
          1.3649178188251767,
          0.28561621857835096,
          -0.59926688761057,
          0.823838415198903,
          -0.10143940727840878,
          -0.703217818942925,
          -0.9695043181441161,
          1.0989000261656197,
          -0.8515851540494908,
          0.5783995737190107,
          -0.8643212726985251,
          2.3449782737118854,
          1.4663699039041629,
          0.17282572862462414,
          0.22585205722470644,
          -1.2574043557189978,
          -1.2790238209032971,
          -1.5134770632260148,
          -1.044614651608751,
          -0.03372453262717767,
          1.6281966750825754,
          -0.5561429552259582,
          -0.08853554259098899,
          1.132693534806591,
          0.3321392504958605,
          0.8757143260125083,
          0.7586483883466837,
          1.4851769318706576,
          -0.7154979246928468,
          0.9206943373847326,
          -1.3395396447736179,
          0.9536244818422812,
          -1.201714305955739,
          -0.9019610350865807,
          1.1204785811322302,
          -0.8824230999945764,
          -0.057929960159329275,
          0.8776005567394662,
          0.45129722280418333,
          -0.4806180145179885,
          1.0470702502027065,
          0.200187446226887,
          -0.6911303258253422,
          0.4936536441275233,
          0.8568019257049296,
          -0.2213789921343317,
          -0.7470323152580598,
          -0.7411027853584422,
          -1.2243053911705994,
          -0.2483894618810571,
          -0.5409471461591102,
          0.4572608029951808,
          0.3189839745079746,
          -1.0322012313381594,
          -1.4789644961775479,
          1.4201106248746007,
          1.8101534245649284,
          0.8268303433509117,
          0.1901700831108846,
          0.1711421169618374,
          0.4143363628135007,
          0.7575319181681469,
          0.34580385559611587,
          -2.0927060311831585,
          0.5740018657359606,
          -0.03363584512377644,
          0.09443724136015462,
          0.14662354848299355,
          1.145332180721328,
          0.8289335690909746,
          -0.15651488160306826,
          2.868249568216489,
          -1.1446857250653257,
          -1.0611722365887886,
          -0.2081594503152929,
          -0.02772825805052389,
          -0.5446346158980836,
          -1.0450558659648508,
          -0.5356189306838673,
          -0.6379225660641595,
          -1.1085097325787572,
          -1.5748789338748164,
          0.9597578867568234,
          -0.9384273330848103,
          -2.0950597319667863,
          -0.7277796259831849,
          -1.1784583548256322,
          0.3268569229342916,
          -1.3338573944780558,
          0.14524789202281602,
          -0.9352709470077807,
          -0.49704442575683955,
          0.02350589123257773,
          -2.1660269813243755,
          0.5696687804373548,
          0.11725858390332396,
          1.8417515216327136,
          0.547232512391723,
          1.1239404923941034,
          -1.0240453422086793,
          0.24107596407587567,
          2.3704807372485437,
          0.02083038228219644,
          0.9171272272209858,
          -1.5778014761790735,
          -0.5870279204737586,
          -0.5317334923725859,
          -0.10735808365604525,
          1.152039652068153,
          1.6895859279303869,
          -0.932823736728717,
          0.14481925688517425,
          1.3919997591522093,
          -1.2282120783216364,
          0.35548923332111537,
          0.4347131901981655,
          0.0059003085287979914,
          0.09953275585157934,
          1.3383208400112194,
          1.6477136545358648,
          -0.4771252405612851,
          -0.11616823158506938,
          -1.6005985138557546,
          0.33207898651139867,
          -1.7932309755120983,
          -0.18080921489919133,
          -1.2121342555918202,
          0.14143093712322746,
          -2.2647604016222105,
          0.28997404347986705,
          0.8772049229906475,
          0.32371528062754257,
          0.856317392897962,
          -0.8761803071720882,
          -0.08427014410300306,
          2.2338386933892567,
          1.431797370598928,
          -1.7649093820201547,
          1.3983403823537681,
          -0.8568115383660594,
          -1.25753156498285,
          1.154443228142404,
          -2.0939062982179726,
          1.0776566979269049,
          -0.8214207914684132,
          0.11962725108924113,
          1.238932241737055,
          2.465097834640061,
          0.4444926622918548,
          0.9951224101040858,
          -0.46776520233869245,
          -0.09504315078947573,
          -1.8531056713845067,
          -1.1638487754885956,
          0.40907535328046485,
          0.5121488878469417,
          2.326294325369441,
          1.3380118149629867,
          0.3791841571502813,
          -1.6655993763429011,
          -0.9032458558753941,
          -0.6204872267257305,
          1.9528819457480668,
          1.2776496732458997,
          -1.2321286898009949,
          1.0057883962475627,
          0.39224011474763953,
          -0.041674508082026294,
          0.762345204548618,
          1.9782099361996306,
          1.2100542000128442,
          0.6527480844282857,
          0.1331624910826808,
          0.03432493779765751,
          0.6296432810467755,
          -2.279361795707477,
          1.8380133631793074,
          0.20270846946102503,
          0.9021036244832676,
          -1.7829077189852052,
          0.366239179959013,
          -1.8037975025459863,
          0.8303843140663665,
          1.5412390871394435,
          1.636165034262477,
          0.8359917619632893,
          -0.3183369891151141,
          0.777041210422367,
          -0.5802617106482231,
          2.3336787213002714,
          0.42357631901870574,
          1.2002466927815494,
          1.5136833283536941,
          0.2711451216171428,
          -0.5009587033674264,
          0.5430681663158461,
          1.1241761995789992,
          -1.1370748144080702,
          -0.6655847007343372,
          -0.9755021871163615,
          0.5815769048837445,
          1.8317750346930424,
          -0.7786510482057039,
          -1.2203175761963336,
          -0.5751800517091542,
          -0.6536528730693811,
          0.6052722066767354,
          0.8071036936670243,
          0.045742983961849164,
          -1.8928169688608314,
          0.8389309418136844,
          -0.23059343618169137,
          1.0634836871322682,
          1.415053802690983,
          -0.557128598383112,
          -0.7962527375934715,
          1.8551344637951812,
          -0.030479837218671733,
          -0.2706080350677981,
          0.22550374961619896,
          -0.9112120828385187,
          0.023723076772135886,
          0.10327414388996653,
          0.4020450189328057,
          -1.2265135233825561,
          -0.213078338637607,
          -0.5580348516638799,
          0.7737194455190147,
          1.8136910992936963,
          0.3112935768450691,
          -0.7268849201367974,
          1.303957318436739,
          0.39764988813286656,
          0.3133885378692756,
          0.36712061783829414,
          1.0755200557540945,
          0.16180612449458384,
          1.2279607559592691,
          1.381978527382207,
          -0.2792622816738369,
          -0.668815842196242,
          0.3133500286136531,
          -1.3985798633950939,
          1.9811111602159062,
          -1.0469589580984808,
          -1.6361109610518432,
          -1.0144384340487786,
          0.22929979648342366,
          -1.3107651831893432,
          -0.7383984944584372,
          -0.9369766187530776,
          1.004297372365839,
          -0.14550848676914233,
          -0.7839509408202704,
          0.672059756903281,
          -0.5894451623761126,
          -1.0658283254696608,
          -0.6058298640354903,
          -0.13922748501939514,
          -1.0088713247706698,
          0.6343251976525205,
          1.564875430513656,
          -1.5469528994189805,
          -0.39864000662956045,
          -0.2226628507330065,
          -1.0418394835218159,
          -0.3533988529735251,
          -0.35609150774365766,
          -1.2687273831399317,
          -0.2211791262186888,
          -0.13663189244582924,
          0.802592667254257,
          -0.5719117984000719,
          -0.07007139483419618,
          0.7697198405898071,
          1.3453635837068854,
          -0.6956913578707736,
          -0.5052073391935371,
          -0.7271346963773689,
          1.01165962644745,
          1.5497718312749424,
          -0.3040818102272086,
          2.078847808182596,
          1.05333091343937,
          0.23538229088247783,
          -0.8842167485092773,
          0.9571841589639787,
          0.5925551521869018,
          -1.0729159772317318,
          0.3663312200861314,
          0.40348570233143927,
          -0.1597316560341899,
          -0.31490400924798684,
          -0.09942594850648924,
          0.09801870190072612,
          -0.48133461835542557,
          -0.10660676266923638,
          -1.4583312631273897,
          -2.449988764048028,
          -1.181172342544969,
          1.3858136060844146,
          2.3589497517475615,
          -1.4379023900051964,
          -0.48965916457900893,
          1.2301778136877146,
          0.045380141485243865,
          -0.22818079822102258,
          -0.5553868676237188,
          0.3950629839580018,
          -1.4025289996302799,
          -0.5497914888295466,
          1.1340551499876648,
          -0.1820577695570134,
          -0.5789436315276961,
          1.4701523057454813,
          -0.27048219167967896,
          -0.1206108755407274,
          -0.8360812852658721,
          0.40323507846958134,
          0.19852731614567526,
          2.285843304642954,
          -1.5406359291763463,
          -0.27656625501089654,
          0.26051086946836677,
          -0.2786972032085169,
          -1.0312260370614574,
          -0.08751317589642599,
          0.4689933268650381,
          0.7348758343482956,
          1.536209025396707,
          -0.6402681814338569,
          1.7437041330746184,
          0.006212538038378207,
          -0.8054375120785394,
          -0.6047073432100675,
          -1.0977343931332666,
          -0.45790628555226154,
          -0.705235616133354,
          0.3803290572195646,
          0.41312474428728596,
          0.1965069282161508,
          -0.46591540529343695,
          0.7525045933185067,
          -0.21485040426234775,
          -0.7679552107936661,
          1.0289167133914208,
          -1.6622483251761035,
          0.2649352152496084,
          -1.1304017111485718,
          0.2120484523699917,
          -1.0627547369811827,
          1.1898239344042272,
          -0.6940214935815288,
          0.9538821397788896,
          -2.0818432559210787,
          -0.8487456156826193,
          -1.760569678281712,
          0.5935653863794518,
          -0.009332733871116607,
          -1.4109079914023535,
          1.1648205647315073,
          0.12424475117296978,
          -0.7534066600261174,
          0.4643878748569689,
          0.6776168287439854,
          1.3977625721578728,
          1.1824258470538787,
          1.116842572293239,
          0.5439816886584955,
          -1.4404103748096604,
          -0.7446249296402406,
          -1.030103492898457,
          -0.37023581152354534,
          -1.2545746436569707,
          -0.8598297008284963,
          0.6752841741983048,
          -2.218316357731919,
          -0.9939813007487455,
          -1.169156567960216,
          1.5574071748887595,
          -1.2781971002411803,
          -1.306190051348419,
          -1.7805487789092633,
          0.2694941401443155,
          1.2712979540696145,
          1.0037944882569376,
          -2.7748207263356472,
          0.83545299426809,
          -0.9171047987628614,
          1.028942962453734,
          -0.3377989481590093,
          -0.5774567052399511,
          -0.6846958471758339,
          -0.673112604211423,
          -0.12496752353404952,
          0.21998368955822,
          0.1782000547308015,
          -0.36321822185158037,
          0.6973130688160118,
          -0.2300044557343648,
          0.7559347042879312,
          -1.0893759183943692,
          -0.9832001030573432,
          0.3275146368783937,
          2.7106805201375255,
          0.11465848493017658,
          1.3958217978666885,
          0.8022988690708662,
          1.9839322257171337,
          0.14154824289232018,
          1.1212341745115286,
          -0.616163532406403,
          -0.9455046032543206,
          0.9758282061073001,
          1.1465691088056336,
          -0.27638907176265937,
          -0.9223533020293678,
          -0.3173162464178908,
          1.0291115788449647,
          -0.19094087200258883,
          0.661936085729112,
          -0.2106255011482047,
          -0.07646513949660322,
          -1.3746605709051751,
          -0.04380090103281912,
          -1.7615014507364164,
          -0.2044459338009711,
          1.177653393119947,
          0.37398715915130376,
          -0.6678885435930045,
          1.4993682873075116,
          1.3673144868330562,
          -0.8198432826267575,
          0.3186224426393852,
          1.5058533860163492,
          1.1352791866067762,
          0.24756588261193285,
          0.15018103703924807,
          0.5235434561511091,
          1.9000446751990072,
          2.3745124718550263,
          -1.147700019202773,
          0.9063581076070126,
          -0.33509548160440594,
          -1.3419965439275798,
          -0.7783301148752181,
          -0.03945398174312915,
          -1.5702185241581677,
          -0.2662454968054461,
          1.096177079704934,
          -1.6053472385742231,
          0.028181753901902546,
          1.1089414269977924,
          -0.8268258642082471,
          -1.2426768121851834,
          -0.5528177985571971,
          -0.18135513905470124,
          0.26301791873790153,
          -1.0099508893086748,
          -0.7377420062309459,
          -0.7834928791781279,
          -1.0501726568701713,
          1.513490785717806,
          0.1727895570207593,
          0.39686982065827064,
          1.5063615529459886,
          -1.3173209208835994,
          0.6925805073276409,
          0.6219568549237231,
          -0.3320328617766615,
          -0.28718407497708964,
          -0.6570787077391023,
          -1.3384351024851078,
          1.1119045782057626,
          -2.4278919749463297,
          -0.35003215571394297,
          1.6686246629952608,
          0.7561303473526351,
          1.1882875197887592,
          0.7412858850874325,
          0.8238310982135167,
          -1.4437766298565688,
          -0.5716551397199581,
          1.0484684943303813,
          0.18784521657134284,
          0.2432533639443559,
          0.4578139843018931,
          0.36006026626728826,
          0.9612005829167767,
          -0.5583851163466704,
          0.032007760076152705,
          -0.8708869197507915,
          0.8440200357318837,
          2.6513042079157234,
          0.5274752459398081,
          1.679506942212863,
          1.536917367937775,
          1.2186228744287484,
          -0.8153420807987419,
          -0.5785739447355014,
          -0.13286727338631563,
          1.052756892950726,
          -0.22617012175305926,
          -0.31352692342564265,
          -1.596049300244952,
          0.5258233601049803,
          0.6549981056065776,
          0.3942488847824704,
          -0.7051408871248792,
          -1.8804626187908469,
          -1.5325673981356138,
          -0.6158898561420844,
          0.16389000518179975,
          0.9523696192273599,
          -0.6250285958113212,
          0.5622896331929692,
          -1.82844437262564,
          2.4481632067445442,
          -1.14393521504332,
          0.15170959026798858,
          -0.48354150810490826,
          -1.046507726311005,
          -0.581965549501198,
          -0.4488070358676352,
          -0.1459327949818221,
          1.1595443292347174,
          0.6430588137206615,
          -0.21944722840918815,
          -0.27015278262129383,
          -0.804844397257629,
          2.3742665381315464,
          -0.8113847204772549,
          -0.04088519896409477,
          -1.1234334355295714,
          0.6695926573843586,
          0.41203585040071106,
          0.5280420788354855,
          0.1938246641303645,
          -0.849340579256006,
          1.0618812933035358,
          1.199877918339468,
          1.3157278403783874,
          -0.5449533056355296,
          1.6324376078247833,
          0.021540304283664748,
          0.2520784267077736,
          -0.27432980029793497,
          -0.41721106782275474,
          -1.3558289498124925,
          -1.6580348502544708,
          0.9447567594259603,
          2.4696048430237707,
          0.14216851839975864,
          1.2955077734090965,
          -1.249291493655404,
          -0.7048091146578825,
          1.2640077879748242,
          -0.04326419956040152,
          0.9945157354705687,
          1.0714346672054735,
          0.5575242069428239,
          -1.554909891986426,
          -0.2861782959471216,
          0.014040666935655926,
          1.04911439443974,
          -1.473200196480605,
          -0.29932219720049497,
          2.107465062216851,
          -0.4593903190736622,
          0.749462169273094,
          2.2728418845313785,
          -0.2651609878185551,
          1.5970974802115527,
          -0.5158784381983912,
          0.5411265925344577,
          1.263681198135661,
          1.4665827256516457,
          -0.7926584063159496,
          1.538217587263964,
          2.0274546720501996,
          1.176646618473448,
          0.8185231795204492,
          0.3414012188431669,
          -1.7733086274154186,
          -0.208037420308837,
          -0.1955634246112301,
          0.5063314094972374,
          -0.8313208147296003,
          1.3919890839208724,
          1.6507121961461155,
          -0.7635534349063212,
          -1.833932843531136,
          -0.37555204242286166,
          -0.729405285719656,
          -1.977863526342286,
          -0.14865291821856474,
          -0.8687848350677104,
          0.34765468552959866,
          1.2693714410328576,
          -0.26245357877834724,
          -2.738071699158334,
          -1.065275081575629,
          0.8088323497164328,
          -0.02411235091174199,
          0.6122171629705283,
          0.2453213642591476,
          -0.5208781295262981,
          3.5291952249437855,
          -0.22814918241908447,
          -1.2573093843440903,
          0.3778626455100412,
          -0.24542533312172518,
          -0.39076065295696455,
          0.6024631016644887,
          0.25434905415000103,
          -0.9536541125416599,
          1.3128143397821386,
          1.2310277182791027,
          -0.22438625963427777,
          0.3022954839318475
         ],
         "z": [
          0.327420857421303,
          0.17908721355111684,
          0.40964264170630044,
          0.41302740824671125,
          -1.9128201562969074,
          0.9203227107678472,
          0.029237835810863054,
          0.3904962461069025,
          -2.5923089494693548,
          0.4784097414306581,
          0.6295884058406077,
          -0.45952210325504383,
          0.9300737931036993,
          0.8955544608669497,
          0.15375481421275827,
          0.5528510665817111,
          -2.202253813854347,
          -0.5228327817133386,
          0.0817902326400557,
          -2.323108992156032,
          -0.4463199450943911,
          -0.016033257111198913,
          -1.2498370978226652,
          -0.8374713803901714,
          -0.8088400961696554,
          -0.4329680019297429,
          0.1315160618201176,
          0.4109942702594236,
          1.4573034942304897,
          0.979333109020294,
          0.9109555972064566,
          0.56101401732179,
          -1.1519121298651955,
          -1.3290644458381144,
          -1.856987164966063,
          -0.5692173933942891,
          1.1274428869772086,
          0.11059233527732142,
          0.3349792475717056,
          -0.5786672338831023,
          1.132057634095282,
          -0.8526946700885676,
          -1.0238994088671516,
          -0.5882500467592132,
          -1.04227515100972,
          -1.2448229851851542,
          -1.1176160245174087,
          -0.31587779721823084,
          0.9893262581437958,
          -0.9115437596525989,
          0.5082714100117188,
          0.9899336508529479,
          1.3319333347933304,
          0.5184101369667471,
          0.2554325120666676,
          2.219654443586327,
          -0.00941296158915621,
          0.4695659051583331,
          0.004767253218069469,
          -1.5178345023809212,
          -0.13094535837891774,
          1.5514686414174774,
          0.2953897483864607,
          0.6089342217308158,
          2.1659417156052023,
          0.46526477039578557,
          -0.45911932351460544,
          -1.1725529897180076,
          0.2955838860020697,
          -1.804985953400001,
          0.29804704378200186,
          -0.9767770138327032,
          -0.38930393771905586,
          -0.8920969990751346,
          -2.4320594141010305,
          -0.5796552689258198,
          0.36598291930093757,
          -0.5246540723964923,
          0.6886081460338384,
          -0.41390959264095817,
          -1.5588740028592905,
          -1.1581369249575448,
          -1.1730117931275028,
          -0.10161034654507739,
          -1.3057428255237418,
          0.8937734030545712,
          -1.4278469908125027,
          -0.9080831238009809,
          -0.8742561582619648,
          -0.5578291026807252,
          1.376810021505743,
          -0.38245143042082547,
          -0.8512634728121778,
          1.612746924144035,
          -0.5660358889961374,
          1.2412005463981362,
          -2.2180585187319335,
          -0.34367832413800814,
          1.1227830247896344,
          -0.772633545342428,
          0.793800381759628,
          -0.026749435845891137,
          -0.9258297391110138,
          -0.030174246807357197,
          0.37169680931763804,
          -0.09172537703398766,
          1.4619691402314576,
          1.2512088076132408,
          0.8313936269286029,
          1.3411457316267674,
          1.859247014247578,
          -0.22586630359787682,
          2.254237494955024,
          -1.119942288791435,
          0.7957320057764139,
          -0.7371765042820161,
          2.371555132875909,
          -0.6990937132706467,
          -0.016175254433766325,
          -0.19621987462698817,
          -0.5608577453669186,
          -0.18486147495566646,
          -1.006556073810822,
          0.4206964603117427,
          -1.7672839622821856,
          -1.5818923048094868,
          -0.034112950950116135,
          1.9407054151033372,
          -0.574601741856145,
          -0.3193027535532513,
          1.862772826569449,
          -0.09021521424584018,
          -0.7884873403810253,
          0.8563214395697429,
          0.09867192213157892,
          -1.4526846027494862,
          -1.4053478588614134,
          -0.9337523199697253,
          0.4737542724526917,
          1.1868229853174421,
          0.49773370025325214,
          -0.9521145579429485,
          1.001911055777326,
          0.2605159499661808,
          0.6810655350722613,
          1.5790469092547825,
          -0.6051545359700614,
          1.3248241386260555,
          -2.1342308949389217,
          -0.400562265542021,
          -0.8605026364686434,
          -1.026533434058365,
          0.823227397614918,
          -0.9372965642141499,
          -0.4825124526553892,
          0.30503767646959423,
          1.0924269066189711,
          1.524425917719417,
          0.5983013742005416,
          -0.23382665729477348,
          -0.09448716756969544,
          1.649178412298499,
          0.3910606256760014,
          2.2475710197113896,
          0.028547510796233234,
          0.5422601005648534,
          0.008627055007429803,
          -1.39101373421305,
          -0.002863937977047564,
          -0.9353354827521053,
          -0.22401133792075525,
          -0.7479751439355375,
          1.1504525315383354,
          -0.13244407529102012,
          0.9126798982642936,
          -0.6141036976953784,
          0.49344195570761884,
          -0.5378188813833762,
          0.2720557682830429,
          1.6329067259953642,
          -0.13557905208354548,
          -0.5105926823948218,
          1.5924569487925997,
          0.020110098811750358,
          -0.005947292969140202,
          -0.589734737837225,
          -0.1443355619666711,
          -1.1518722221590163,
          1.3776912428651575,
          -0.6204809443684477,
          0.2166725459465622,
          0.346630876248096,
          0.7901374366019575,
          0.08481734353248348,
          0.57701432607275,
          -1.4253817808766815,
          -0.13264245034517896,
          -1.4024300803193008,
          0.34326144131936714,
          -1.4167089532514583,
          -0.592349296316893,
          -0.5842286997947834,
          0.8866075170608415,
          -1.0341554065112988,
          -0.04079507517700456,
          -0.02843223986989493,
          0.5477338980701165,
          -0.0048848744499992705,
          0.4496458071337662,
          1.6392108038489512,
          -1.145477765361754,
          0.5381676177354247,
          0.3062352598564538,
          0.29080620537976204,
          -0.1954493876705641,
          0.8977717847762123,
          -0.3364074386022462,
          0.18302096007105667,
          0.7754180533963608,
          1.2878752278345003,
          1.3092377705926004,
          -1.5817795956261296,
          0.34203846796930226,
          -0.38718377925703545,
          0.8988092664730054,
          -0.11981193280527679,
          0.6402986231676503,
          1.9774233654006101,
          1.8630828709596794,
          0.6721866101412065,
          1.1383449520766649,
          1.0299534154334604,
          0.6156817778088305,
          0.8088774845365867,
          0.5828805159038204,
          1.597949786990867,
          0.8286546202887323,
          -0.21666485171156602,
          -1.4907464562096615,
          0.2822643810655499,
          0.9978718414096847,
          -0.5955698196213253,
          -0.9337865728195122,
          1.0867367542376332,
          -0.22713088882048513,
          0.03860505245166117,
          -0.6281487677855533,
          -1.2355222706285878,
          0.3444149796513903,
          -0.4466565713103172,
          -0.18412195495031144,
          -0.2122439342118285,
          0.5322307844750254,
          0.08881730280372772,
          -0.6759275696607907,
          1.0067822393363837,
          -0.462448206266576,
          0.3762807099861674,
          -1.027321729597116,
          -1.6112935384205496,
          1.4029743939502057,
          -1.5233556107890949,
          0.19580572816979216,
          -0.9183421703391281,
          -0.03177628302627045,
          0.28695491116048266,
          0.822345403587395,
          0.45634228449962955,
          -0.2747940961898044,
          0.1918498104174661,
          -0.40647389357672115,
          -0.2034252481811356,
          0.007926630432429091,
          1.3587008911952716,
          -1.6005498398724785,
          0.48623788480633323,
          1.2636244404458934,
          0.14713494879726455,
          -1.1438602969602711,
          -0.7982041059436465,
          -0.011305699587649837,
          -1.1252414761098064,
          1.004156238279679,
          -0.9912849080737531,
          -0.465251187976788,
          -0.33536803213051786,
          0.6263297497332345,
          0.22232652056377858,
          -1.6870472403101673,
          0.34223231375606433,
          0.4727570891103419,
          0.29420839585738034,
          3.7950797405173144,
          0.043221558235729894,
          -1.471844784939284,
          -0.24636065609714025,
          0.06836417767865195,
          -0.7150305640901237,
          -0.3629798040665449,
          0.6168425539007907,
          -0.27472630585992674,
          0.735531048831888,
          -0.7225120454501991,
          1.6258717680760943,
          0.3958050192035934,
          1.8075545913670918,
          0.014953964435309504,
          0.20261501722550296,
          -1.1197567362171132,
          0.36172906505925956,
          -0.46478906602632974,
          0.3720660830047657,
          0.9138726693702983,
          0.016385862091802022,
          1.7123353298804054,
          1.276349332461665,
          -1.2587006037219937,
          0.34961387685481615,
          0.2852165650004482,
          0.4279153527180657,
          1.135233344846723,
          -1.1483939303308706,
          0.03844461647035478,
          -0.269591956487716,
          -0.2904440951212877,
          -0.880459020873318,
          1.8180210241023025,
          -0.6710802645080024,
          -1.4668402333553512,
          -0.9938995311939613,
          -0.2750008082850806,
          1.5173131573759449,
          -0.77717680383671,
          0.5529273285870155,
          -0.9240058523104114,
          0.3456477323971924,
          0.835541401937429,
          0.8442122602974566,
          0.004587641002907505,
          -1.144457941981913,
          1.0202983030189028,
          0.8793734471875685,
          -0.3418000424988484,
          -1.014092424181872,
          -0.21209797196874922,
          -0.5384871338472725,
          -0.6055374197932024,
          1.4919923333596465,
          1.1355410732519364,
          0.9495049222935347,
          -1.136309282905105,
          0.5828133925407148,
          0.6674841321582482,
          0.763155944766849,
          1.6856335889886607,
          -1.4306180062099456,
          -1.1285088126692593,
          -0.5215180260955565,
          -0.06042036156311423,
          -0.5658026389826568,
          0.33775259610997305,
          -1.5649221869179961,
          -1.4100439428678881,
          0.8976197217093137,
          -0.8374240659374309,
          -0.24429155746906042,
          -1.9964869595269168,
          1.0843972208912376,
          -1.248607085177325,
          -0.5758638810262652,
          1.0941080807268653,
          1.5040352629431424,
          0.41596005838121497,
          1.3125708600071198,
          0.1430255219961688,
          0.7048500063818017,
          -2.351179131008345,
          -0.0011948306987056459,
          -0.14280234337847728,
          1.0709438705116319,
          -0.15086798137845034,
          1.657239220963586,
          -0.7554611566650343,
          -0.10337276941339134,
          -1.342346967133702,
          0.5497058379535152,
          -0.8129845416527193,
          -1.27941815992858,
          1.329149412835232,
          0.21609098842105323,
          -0.7453230633901028,
          1.1693322698197197,
          -0.770576425063894,
          -0.4169204214775617,
          0.027745527940317646,
          -1.3390354336552408,
          -0.6836917470742123,
          -0.6975561217832907,
          -0.9809110840108775,
          1.1344362027047872,
          -0.20814850687053613,
          -1.832094595256511,
          -0.20649300502596274,
          2.03089776223943,
          -0.5236581682412556,
          1.621834166930087,
          0.42897383605700773,
          0.5684556017100206,
          0.5473350019932508,
          -0.10486408344891775,
          -0.2504487091541939,
          -0.7736330266316465,
          0.5694613862743484,
          0.17387317247654935,
          -0.45284868061514444,
          -1.0123779514748716,
          -1.544536302073898,
          -0.7706531989885572,
          0.42932804717526146,
          1.3526448771057258,
          -0.10461319745151107,
          0.002736776693135338,
          -0.6535982958684146,
          0.7195549605158141,
          -0.6950851815513863,
          -0.12246126778805624,
          0.2141988036484582,
          -0.20379786695845473,
          -0.8001587702327917,
          0.020912479896528377,
          -0.8560252433547157,
          -0.9412585040997471,
          -2.2322758742123083,
          0.7117118956289966,
          -1.7561583472880429,
          -1.691320494070996,
          -1.4753508311614634,
          -0.5448451572290224,
          0.3320819369450985,
          -1.0305731103145626,
          -0.24459921623825062,
          -0.5518384002712731,
          0.9860798181570878,
          -0.9914014312545473,
          -1.1230794415384016,
          1.26416534615933,
          2.253087363183774,
          -2.1309410766632966,
          -0.784483144676782,
          -0.8301701775497354,
          -0.26191814802310853,
          0.4448785589292833,
          -1.2401466298840471,
          0.07885031850488136,
          -2.6889427161923924,
          -0.6518845086901394,
          -0.8825096613092039,
          -4.0402836026437265,
          0.9817739661892649,
          0.49675689390718547,
          0.8813893416947473,
          -0.7858870662872597,
          1.174960179424901,
          -0.715900859349221,
          0.04914930657929168,
          0.47638930517279243,
          -1.0674522717031671,
          -1.2957946519571968,
          1.1191964636005018,
          -0.4136739413334484,
          0.07399754095989833,
          0.06327091257798081,
          -0.5962630527787666,
          -0.029682129538662286,
          1.3180430090503787,
          -0.1401281142578707,
          -0.6357487532451045,
          -0.9836322951967809,
          0.7643134691441532,
          -0.9054446598754673,
          0.28312507321543,
          1.361347395472764,
          -0.8898376759618295,
          1.5577180179592334,
          -0.6418194220434583,
          -0.2699532956848772,
          0.4758666542144361,
          -0.23754696959904967,
          -0.5304395647876944,
          1.2457196383595388,
          0.817221048567869,
          -0.08946695348776564,
          -0.30233046697925436,
          -0.15197827910135356,
          0.513641207817449,
          0.7445117151851908,
          0.4645542689085675,
          -0.08919969120781832,
          -0.189472311578224,
          1.1128763469198284,
          -0.7818297313330422,
          0.23956831067062154,
          -0.49326387848087194,
          0.6823944839623917,
          -0.20273595224756238,
          0.212225044636531,
          0.29958730716592535,
          -0.10125883715633756,
          0.22015477244282133,
          0.1540877706511876,
          -1.1457163865166755,
          -0.2822347890143864,
          2.7254149150651963,
          0.7842094720193663,
          -0.9428530467052803,
          -0.4852553265894575,
          0.1264412630581801,
          -0.08668401726372896,
          -1.755993548632637,
          0.45502634729173247,
          -1.2949581272014417,
          -0.08657470418234195,
          -0.5996327316291716,
          -0.8520008963340517,
          -1.4217392980120256,
          1.8222145243979806,
          -1.357121440658981,
          1.1034673942491218,
          0.8655647903048195,
          0.7613135424200143,
          1.0168387465121878,
          -1.0565146532405822,
          0.4259198279356793,
          0.013317477985801286,
          -0.9454803225558345,
          1.212070221097086,
          0.789996574612592,
          -2.0360505594982037,
          0.4337740848868751,
          0.5547446394048389,
          0.009335910191150305,
          -0.0790589180571381,
          -1.6088366858844458,
          0.21159671306094063,
          0.9163062825827928,
          1.2753665149821793,
          -0.7672268564484241,
          -0.5281894199724757,
          0.6596442626126028,
          1.111830776091985,
          -0.6126739382977009,
          1.3436880251528103,
          0.8738565467558473,
          -0.05031804470368925,
          -1.2535029819017949,
          -1.2236026586088775,
          0.7230811662014455,
          0.25309000487201927,
          -0.29599010150276034,
          0.9914264457917036,
          -0.5861606541962915,
          0.6332706749883834,
          -0.10930585846512404,
          0.4268372178543748,
          0.21038300125405204,
          1.310299685387922,
          1.1257496127603244,
          0.9958147812446133,
          0.4443197409749089,
          0.3405652016995456,
          -0.08310790250244933,
          -0.710536884807944,
          0.6591964738278686,
          0.7586184696262341,
          0.821147506480829,
          -0.2810754751117853,
          -0.21503558049429228,
          -0.08962744061383172,
          2.282854441849847,
          -0.9679777688946367,
          -1.2943029384128872,
          -0.09124579860973504,
          -0.21843249855976332,
          -0.7890607381995713,
          0.5232822172303396,
          2.6390608277812717,
          0.7485204004833628,
          1.2279110672292586,
          0.4415383931277291,
          0.8271941309319708,
          -0.25018610573582306,
          0.40017810578043267,
          1.0278419145714077,
          -0.1311706072723026,
          0.47794871559088686,
          0.7686868656589602,
          0.7526330898719933,
          -0.14837865887637494,
          -1.4091554211676753,
          -0.013487386484330356,
          -0.38193720140598486,
          0.6356350041964985,
          0.28642033801178923,
          -0.14566211964263684,
          1.445479102877538,
          0.6996181217644812,
          0.08726608819524102,
          0.986211821058283,
          0.8593195843649055,
          0.9793288440655759,
          -1.2172077158253216,
          0.26717036899619784,
          0.9684808843776408,
          -1.5449068196490932,
          1.6337513964055188,
          -0.42914420011987653,
          0.5828379470685313,
          0.5509269255437645,
          0.7144009557622624,
          0.9564795923945831,
          0.24000983068626466,
          0.6993224912400667,
          1.8737951565975082,
          0.36882318785730445,
          -0.41131123392480845,
          -0.44832107922186926,
          1.4904270874599699,
          -1.0370847633014617,
          -0.3409401512338845,
          -0.40861037406560025,
          0.2464583232445225,
          -0.1490795078595683,
          0.33882250820825155,
          1.2397114118834889,
          0.3167551655344278,
          -1.1761854288313007,
          -1.8524102673877063,
          0.34085834992873465,
          -0.9430713810976366,
          1.2558662824260356,
          1.6276018308195592,
          0.41859562723340543,
          1.7190822539693247,
          1.0729472076675002,
          0.0822397839125214,
          -0.6531615368812547,
          2.06915210891647,
          0.4106743469285125,
          0.8829763218130421,
          -0.5259649895428048,
          -1.763855928456132,
          0.28584732461482365,
          1.9759368758250702,
          -1.3721686768624508,
          -0.630565796416533,
          -1.3824196325612275,
          0.8765490393762868,
          -1.0772073429145783,
          -0.5263887006072474,
          -1.0097065180837965,
          -0.12019209445720488,
          -0.5813558795922132,
          -2.625605234583308,
          -1.594984182148493,
          -1.0531716770082957,
          -1.2052406518242336,
          -1.5207523120446125,
          0.5026092492129365,
          0.448029943734823,
          0.13036235387239428,
          -1.0604080798124231,
          -0.7793780344966325,
          -0.16682601296336871,
          -0.3224067805826819,
          -0.6002749765014144,
          1.6752863005702952,
          0.30272556211239415,
          -2.1740671538494665,
          1.4036130796259216,
          -1.105447801247173,
          0.9081507383911038,
          -0.7838925022119411,
          -0.9086867791760342,
          0.9453326377071045,
          1.2678341047416986,
          -0.20516100245302224,
          0.8786074066599132,
          0.9963816368389996,
          -1.6488708811925235,
          0.4274809093258123,
          0.9308732372994474,
          -1.2064343578242092,
          -1.1893241417144749,
          0.6962793966890654,
          -0.8634958017418424,
          1.5024241391006776,
          -0.24270738798818298,
          -0.2963632384172345,
          0.16246798439268292,
          -1.034564172212629,
          0.23197358350574038,
          -1.1520425287095144,
          -0.6820075970620659,
          1.677199762619736,
          0.0085401320599614,
          0.21746609848109574,
          -0.7925520955064257,
          1.3640251263760215,
          0.13830182608152444,
          -1.8226102845148688,
          -0.09642817479148007,
          2.5185736049558733,
          1.9132106610518125,
          1.3169746219059255,
          0.12032745229871032,
          0.518084400015623,
          1.1974868472055877,
          0.06497063280136135,
          1.6995456357689294,
          1.2967317210640146,
          1.0237272187698738,
          -0.11765869038423434,
          0.7732973803345732,
          -0.04217169515604019,
          -0.4276370207269653,
          -0.30629027434165823,
          1.7823969029271665,
          1.0348777372666393,
          -1.7766036698205838,
          -2.361546229163214,
          -0.8562561846975804,
          0.4347661611728705,
          0.5212703949545454,
          -1.3151151513440171,
          0.38883521482350697,
          -0.4341270750733587,
          -1.7543811748445381,
          -0.009313759071492275,
          -0.6064434975358446,
          0.8050378602154903,
          1.7867599413432644,
          1.5774422794281429,
          -0.479868792159894,
          -0.34170778774285215,
          -1.2716612742577298,
          -0.1943967955227214,
          -0.2950139663974395,
          -1.2039433360664362,
          -0.16984994473958392,
          0.003791751275370093,
          -0.47972489476850444,
          0.08159643196320153,
          -1.1442304304048927,
          -1.1880453479177724,
          1.7907863780725317,
          -0.21231605334837156,
          -1.394196995806117,
          -0.5579845093631662,
          -1.1213076808684257,
          -0.836180391194211,
          1.1416704526186092,
          0.7268105707826996,
          0.3326889063777121,
          1.0075254859487823,
          -1.205067624347792,
          -0.36741904216637256,
          1.502868001194742,
          0.28827589856615987,
          0.8268128847079318,
          0.5927519931383944,
          0.48728932886250587,
          -0.040829653860319094,
          1.3753681143989376,
          1.6981031460934994,
          -0.12849396800064117,
          1.5298438125782843,
          0.6538464776402868,
          0.19067500240969668,
          0.5483570683052985,
          -1.3700188512211056,
          -0.2848825644140663,
          -0.11769432022807148,
          -0.3268947046297404,
          -0.7331434453021026,
          -1.438482728862569,
          0.10216862162535013,
          -0.3831995323080541,
          1.1174400890992997,
          0.12329691206069195,
          -1.073616412970295,
          -0.32419919247105,
          -2.006070893473885,
          0.3445726893950714,
          -0.31291870590196924,
          -0.313964237591446,
          0.8809717488532743,
          0.9645253490306017,
          0.059729545986542454,
          0.20196343037081257,
          -0.05709834751076494
         ]
        }
       ],
       "layout": {
        "height": 500,
        "legend": {
         "tracegroupgap": 0
        },
        "margin": {
         "t": 60
        },
        "scene": {
         "aspectmode": "auto",
         "aspectratio": {
          "x": 0.9151382730256181,
          "y": 0.9376391274164371,
          "z": 1.1654068303207887
         },
         "camera": {
          "center": {
           "x": 0,
           "y": 0,
           "z": 0
          },
          "eye": {
           "x": 0.057199720683481885,
           "y": 0.00031583129009046785,
           "z": 2.164307762820327
          },
          "projection": {
           "type": "perspective"
          },
          "up": {
           "x": 0,
           "y": 0,
           "z": 1
          }
         },
         "domain": {
          "x": [
           0,
           1
          ],
          "y": [
           0,
           1
          ]
         },
         "xaxis": {
          "title": {
           "text": "x"
          },
          "type": "linear"
         },
         "yaxis": {
          "title": {
           "text": "y"
          },
          "type": "linear"
         },
         "zaxis": {
          "title": {
           "text": "z"
          },
          "type": "linear"
         }
        },
        "template": {
         "data": {
          "bar": [
           {
            "error_x": {
             "color": "#2a3f5f"
            },
            "error_y": {
             "color": "#2a3f5f"
            },
            "marker": {
             "line": {
              "color": "#E5ECF6",
              "width": 0.5
             },
             "pattern": {
              "fillmode": "overlay",
              "size": 10,
              "solidity": 0.2
             }
            },
            "type": "bar"
           }
          ],
          "barpolar": [
           {
            "marker": {
             "line": {
              "color": "#E5ECF6",
              "width": 0.5
             },
             "pattern": {
              "fillmode": "overlay",
              "size": 10,
              "solidity": 0.2
             }
            },
            "type": "barpolar"
           }
          ],
          "carpet": [
           {
            "aaxis": {
             "endlinecolor": "#2a3f5f",
             "gridcolor": "white",
             "linecolor": "white",
             "minorgridcolor": "white",
             "startlinecolor": "#2a3f5f"
            },
            "baxis": {
             "endlinecolor": "#2a3f5f",
             "gridcolor": "white",
             "linecolor": "white",
             "minorgridcolor": "white",
             "startlinecolor": "#2a3f5f"
            },
            "type": "carpet"
           }
          ],
          "choropleth": [
           {
            "colorbar": {
             "outlinewidth": 0,
             "ticks": ""
            },
            "type": "choropleth"
           }
          ],
          "contour": [
           {
            "colorbar": {
             "outlinewidth": 0,
             "ticks": ""
            },
            "colorscale": [
             [
              0,
              "#0d0887"
             ],
             [
              0.1111111111111111,
              "#46039f"
             ],
             [
              0.2222222222222222,
              "#7201a8"
             ],
             [
              0.3333333333333333,
              "#9c179e"
             ],
             [
              0.4444444444444444,
              "#bd3786"
             ],
             [
              0.5555555555555556,
              "#d8576b"
             ],
             [
              0.6666666666666666,
              "#ed7953"
             ],
             [
              0.7777777777777778,
              "#fb9f3a"
             ],
             [
              0.8888888888888888,
              "#fdca26"
             ],
             [
              1,
              "#f0f921"
             ]
            ],
            "type": "contour"
           }
          ],
          "contourcarpet": [
           {
            "colorbar": {
             "outlinewidth": 0,
             "ticks": ""
            },
            "type": "contourcarpet"
           }
          ],
          "heatmap": [
           {
            "colorbar": {
             "outlinewidth": 0,
             "ticks": ""
            },
            "colorscale": [
             [
              0,
              "#0d0887"
             ],
             [
              0.1111111111111111,
              "#46039f"
             ],
             [
              0.2222222222222222,
              "#7201a8"
             ],
             [
              0.3333333333333333,
              "#9c179e"
             ],
             [
              0.4444444444444444,
              "#bd3786"
             ],
             [
              0.5555555555555556,
              "#d8576b"
             ],
             [
              0.6666666666666666,
              "#ed7953"
             ],
             [
              0.7777777777777778,
              "#fb9f3a"
             ],
             [
              0.8888888888888888,
              "#fdca26"
             ],
             [
              1,
              "#f0f921"
             ]
            ],
            "type": "heatmap"
           }
          ],
          "heatmapgl": [
           {
            "colorbar": {
             "outlinewidth": 0,
             "ticks": ""
            },
            "colorscale": [
             [
              0,
              "#0d0887"
             ],
             [
              0.1111111111111111,
              "#46039f"
             ],
             [
              0.2222222222222222,
              "#7201a8"
             ],
             [
              0.3333333333333333,
              "#9c179e"
             ],
             [
              0.4444444444444444,
              "#bd3786"
             ],
             [
              0.5555555555555556,
              "#d8576b"
             ],
             [
              0.6666666666666666,
              "#ed7953"
             ],
             [
              0.7777777777777778,
              "#fb9f3a"
             ],
             [
              0.8888888888888888,
              "#fdca26"
             ],
             [
              1,
              "#f0f921"
             ]
            ],
            "type": "heatmapgl"
           }
          ],
          "histogram": [
           {
            "marker": {
             "pattern": {
              "fillmode": "overlay",
              "size": 10,
              "solidity": 0.2
             }
            },
            "type": "histogram"
           }
          ],
          "histogram2d": [
           {
            "colorbar": {
             "outlinewidth": 0,
             "ticks": ""
            },
            "colorscale": [
             [
              0,
              "#0d0887"
             ],
             [
              0.1111111111111111,
              "#46039f"
             ],
             [
              0.2222222222222222,
              "#7201a8"
             ],
             [
              0.3333333333333333,
              "#9c179e"
             ],
             [
              0.4444444444444444,
              "#bd3786"
             ],
             [
              0.5555555555555556,
              "#d8576b"
             ],
             [
              0.6666666666666666,
              "#ed7953"
             ],
             [
              0.7777777777777778,
              "#fb9f3a"
             ],
             [
              0.8888888888888888,
              "#fdca26"
             ],
             [
              1,
              "#f0f921"
             ]
            ],
            "type": "histogram2d"
           }
          ],
          "histogram2dcontour": [
           {
            "colorbar": {
             "outlinewidth": 0,
             "ticks": ""
            },
            "colorscale": [
             [
              0,
              "#0d0887"
             ],
             [
              0.1111111111111111,
              "#46039f"
             ],
             [
              0.2222222222222222,
              "#7201a8"
             ],
             [
              0.3333333333333333,
              "#9c179e"
             ],
             [
              0.4444444444444444,
              "#bd3786"
             ],
             [
              0.5555555555555556,
              "#d8576b"
             ],
             [
              0.6666666666666666,
              "#ed7953"
             ],
             [
              0.7777777777777778,
              "#fb9f3a"
             ],
             [
              0.8888888888888888,
              "#fdca26"
             ],
             [
              1,
              "#f0f921"
             ]
            ],
            "type": "histogram2dcontour"
           }
          ],
          "mesh3d": [
           {
            "colorbar": {
             "outlinewidth": 0,
             "ticks": ""
            },
            "type": "mesh3d"
           }
          ],
          "parcoords": [
           {
            "line": {
             "colorbar": {
              "outlinewidth": 0,
              "ticks": ""
             }
            },
            "type": "parcoords"
           }
          ],
          "pie": [
           {
            "automargin": true,
            "type": "pie"
           }
          ],
          "scatter": [
           {
            "fillpattern": {
             "fillmode": "overlay",
             "size": 10,
             "solidity": 0.2
            },
            "type": "scatter"
           }
          ],
          "scatter3d": [
           {
            "line": {
             "colorbar": {
              "outlinewidth": 0,
              "ticks": ""
             }
            },
            "marker": {
             "colorbar": {
              "outlinewidth": 0,
              "ticks": ""
             }
            },
            "type": "scatter3d"
           }
          ],
          "scattercarpet": [
           {
            "marker": {
             "colorbar": {
              "outlinewidth": 0,
              "ticks": ""
             }
            },
            "type": "scattercarpet"
           }
          ],
          "scattergeo": [
           {
            "marker": {
             "colorbar": {
              "outlinewidth": 0,
              "ticks": ""
             }
            },
            "type": "scattergeo"
           }
          ],
          "scattergl": [
           {
            "marker": {
             "colorbar": {
              "outlinewidth": 0,
              "ticks": ""
             }
            },
            "type": "scattergl"
           }
          ],
          "scattermapbox": [
           {
            "marker": {
             "colorbar": {
              "outlinewidth": 0,
              "ticks": ""
             }
            },
            "type": "scattermapbox"
           }
          ],
          "scatterpolar": [
           {
            "marker": {
             "colorbar": {
              "outlinewidth": 0,
              "ticks": ""
             }
            },
            "type": "scatterpolar"
           }
          ],
          "scatterpolargl": [
           {
            "marker": {
             "colorbar": {
              "outlinewidth": 0,
              "ticks": ""
             }
            },
            "type": "scatterpolargl"
           }
          ],
          "scatterternary": [
           {
            "marker": {
             "colorbar": {
              "outlinewidth": 0,
              "ticks": ""
             }
            },
            "type": "scatterternary"
           }
          ],
          "surface": [
           {
            "colorbar": {
             "outlinewidth": 0,
             "ticks": ""
            },
            "colorscale": [
             [
              0,
              "#0d0887"
             ],
             [
              0.1111111111111111,
              "#46039f"
             ],
             [
              0.2222222222222222,
              "#7201a8"
             ],
             [
              0.3333333333333333,
              "#9c179e"
             ],
             [
              0.4444444444444444,
              "#bd3786"
             ],
             [
              0.5555555555555556,
              "#d8576b"
             ],
             [
              0.6666666666666666,
              "#ed7953"
             ],
             [
              0.7777777777777778,
              "#fb9f3a"
             ],
             [
              0.8888888888888888,
              "#fdca26"
             ],
             [
              1,
              "#f0f921"
             ]
            ],
            "type": "surface"
           }
          ],
          "table": [
           {
            "cells": {
             "fill": {
              "color": "#EBF0F8"
             },
             "line": {
              "color": "white"
             }
            },
            "header": {
             "fill": {
              "color": "#C8D4E3"
             },
             "line": {
              "color": "white"
             }
            },
            "type": "table"
           }
          ]
         },
         "layout": {
          "annotationdefaults": {
           "arrowcolor": "#2a3f5f",
           "arrowhead": 0,
           "arrowwidth": 1
          },
          "autotypenumbers": "strict",
          "coloraxis": {
           "colorbar": {
            "outlinewidth": 0,
            "ticks": ""
           }
          },
          "colorscale": {
           "diverging": [
            [
             0,
             "#8e0152"
            ],
            [
             0.1,
             "#c51b7d"
            ],
            [
             0.2,
             "#de77ae"
            ],
            [
             0.3,
             "#f1b6da"
            ],
            [
             0.4,
             "#fde0ef"
            ],
            [
             0.5,
             "#f7f7f7"
            ],
            [
             0.6,
             "#e6f5d0"
            ],
            [
             0.7,
             "#b8e186"
            ],
            [
             0.8,
             "#7fbc41"
            ],
            [
             0.9,
             "#4d9221"
            ],
            [
             1,
             "#276419"
            ]
           ],
           "sequential": [
            [
             0,
             "#0d0887"
            ],
            [
             0.1111111111111111,
             "#46039f"
            ],
            [
             0.2222222222222222,
             "#7201a8"
            ],
            [
             0.3333333333333333,
             "#9c179e"
            ],
            [
             0.4444444444444444,
             "#bd3786"
            ],
            [
             0.5555555555555556,
             "#d8576b"
            ],
            [
             0.6666666666666666,
             "#ed7953"
            ],
            [
             0.7777777777777778,
             "#fb9f3a"
            ],
            [
             0.8888888888888888,
             "#fdca26"
            ],
            [
             1,
             "#f0f921"
            ]
           ],
           "sequentialminus": [
            [
             0,
             "#0d0887"
            ],
            [
             0.1111111111111111,
             "#46039f"
            ],
            [
             0.2222222222222222,
             "#7201a8"
            ],
            [
             0.3333333333333333,
             "#9c179e"
            ],
            [
             0.4444444444444444,
             "#bd3786"
            ],
            [
             0.5555555555555556,
             "#d8576b"
            ],
            [
             0.6666666666666666,
             "#ed7953"
            ],
            [
             0.7777777777777778,
             "#fb9f3a"
            ],
            [
             0.8888888888888888,
             "#fdca26"
            ],
            [
             1,
             "#f0f921"
            ]
           ]
          },
          "colorway": [
           "#636efa",
           "#EF553B",
           "#00cc96",
           "#ab63fa",
           "#FFA15A",
           "#19d3f3",
           "#FF6692",
           "#B6E880",
           "#FF97FF",
           "#FECB52"
          ],
          "font": {
           "color": "#2a3f5f"
          },
          "geo": {
           "bgcolor": "white",
           "lakecolor": "white",
           "landcolor": "#E5ECF6",
           "showlakes": true,
           "showland": true,
           "subunitcolor": "white"
          },
          "hoverlabel": {
           "align": "left"
          },
          "hovermode": "closest",
          "mapbox": {
           "style": "light"
          },
          "paper_bgcolor": "white",
          "plot_bgcolor": "#E5ECF6",
          "polar": {
           "angularaxis": {
            "gridcolor": "white",
            "linecolor": "white",
            "ticks": ""
           },
           "bgcolor": "#E5ECF6",
           "radialaxis": {
            "gridcolor": "white",
            "linecolor": "white",
            "ticks": ""
           }
          },
          "scene": {
           "xaxis": {
            "backgroundcolor": "#E5ECF6",
            "gridcolor": "white",
            "gridwidth": 2,
            "linecolor": "white",
            "showbackground": true,
            "ticks": "",
            "zerolinecolor": "white"
           },
           "yaxis": {
            "backgroundcolor": "#E5ECF6",
            "gridcolor": "white",
            "gridwidth": 2,
            "linecolor": "white",
            "showbackground": true,
            "ticks": "",
            "zerolinecolor": "white"
           },
           "zaxis": {
            "backgroundcolor": "#E5ECF6",
            "gridcolor": "white",
            "gridwidth": 2,
            "linecolor": "white",
            "showbackground": true,
            "ticks": "",
            "zerolinecolor": "white"
           }
          },
          "shapedefaults": {
           "line": {
            "color": "#2a3f5f"
           }
          },
          "ternary": {
           "aaxis": {
            "gridcolor": "white",
            "linecolor": "white",
            "ticks": ""
           },
           "baxis": {
            "gridcolor": "white",
            "linecolor": "white",
            "ticks": ""
           },
           "bgcolor": "#E5ECF6",
           "caxis": {
            "gridcolor": "white",
            "linecolor": "white",
            "ticks": ""
           }
          },
          "title": {
           "x": 0.05
          },
          "xaxis": {
           "automargin": true,
           "gridcolor": "white",
           "linecolor": "white",
           "ticks": "",
           "title": {
            "standoff": 15
           },
           "zerolinecolor": "white",
           "zerolinewidth": 2
          },
          "yaxis": {
           "automargin": true,
           "gridcolor": "white",
           "linecolor": "white",
           "ticks": "",
           "title": {
            "standoff": 15
           },
           "zerolinecolor": "white",
           "zerolinewidth": 2
          }
         }
        },
        "width": 500
       }
      },
      "text/html": [
       "<div>                            <div id=\"b3119853-1e96-435a-8899-664c824b2429\" class=\"plotly-graph-div\" style=\"height:500px; width:500px;\"></div>            <script type=\"text/javascript\">                require([\"plotly\"], function(Plotly) {                    window.PLOTLYENV=window.PLOTLYENV || {};                                    if (document.getElementById(\"b3119853-1e96-435a-8899-664c824b2429\")) {                    Plotly.newPlot(                        \"b3119853-1e96-435a-8899-664c824b2429\",                        [{\"hovertemplate\":\"x=%{x}\\u003cbr\\u003ey=%{y}\\u003cbr\\u003ez=%{z}\\u003cextra\\u003e\\u003c\\u002fextra\\u003e\",\"legendgroup\":\"\",\"marker\":{\"color\":\"#636efa\",\"symbol\":\"circle\",\"size\":2},\"mode\":\"markers\",\"name\":\"\",\"scene\":\"scene\",\"showlegend\":false,\"x\":[1.6605394672410805,-1.5964478695863087,-0.8202908719235551,0.09535489116218598,-0.43539240769542953,0.6063357935943803,1.2350081839803473,0.9834385709330442,-2.1195505589464223,1.3400757110938157,0.013793112814814157,0.5973492824176204,0.4367893358828586,0.3215470168158544,0.22530173487432345,-1.1193036207521514,-1.4764948021682125,-0.6560140485498563,0.23051242802425964,-0.855207542900811,1.014199880751231,-0.6971028540418843,0.8445159706745398,1.3506050240070608,-0.9142358911584381,0.6109415190965529,-0.9459880256905366,-0.7642300865895867,2.007528940354239,-0.2597504256554479,0.10003170803363742,0.8200244736180031,-0.4766028106925568,0.6682573506063828,0.12163910642535525,-0.16904653864106922,1.748697732131362,0.2988802783026592,-0.16644569841504406,-0.5056125372101657,0.42171783537422497,-0.7270772071062375,-0.24986889880588434,1.4813682693711083,0.18472954949886203,0.3018104717769555,1.3129901625714058,-0.7770612252085151,0.46397663911535364,1.0099172935376788,0.7281490495306648,0.37894965568921024,0.21269113980582,0.2210697208891534,1.0775381330132108,-0.0814702834568185,0.5185811783417088,-0.8296169163891692,0.11542793829134773,0.7864158647360463,-1.313854314370851,0.26352454607884135,1.624905269337297,0.7750755887560041,-1.5008094090510267,0.49311749889882656,0.2587090726106333,0.733886240297833,-1.4429674193497743,-0.1098031168669265,-0.8398825176941135,0.1615356948309169,0.41540959416171663,0.7361017534754247,0.4694593766930393,-0.40133538478228786,-1.2777499946757278,-0.452654817919034,-0.04948244001021079,-1.5475375660740387,-0.25699956831447474,1.2078223170883473,-1.2102659638376856,-0.7562868092716402,-0.528436863263925,0.12191939888884401,-0.19669021273934262,-1.2853870106073133,-0.33515054266875854,0.33041513902005304,0.4330751508460458,1.2459780191583738,-0.39862199764140616,0.1527327142492283,0.7382833297930798,-1.281824270482665,-1.1770135264384682,0.3840011596466439,2.1254253462463875,-1.3979080420494272,-0.3181464547821389,-0.01283619888025371,-2.819628132349408,0.029928674187349624,1.5204234612263876,-0.8643551128070115,-1.0272141678359776,-0.8398926779496418,-0.3630820408965537,0.6480049196144092,1.7788709570253665,0.19784633057218384,0.5145741003060086,0.6464500313050928,-1.300729598739092,-0.9619282484445231,0.6444756822254667,-0.3294556441825842,-1.049068572919863,-1.1348845826092795,-1.7337665332657124,1.1378254545964102,0.47761978793033444,0.663788798691032,-0.005733962579327734,3.018917304059308,-0.09061025801851365,1.2350641440750527,-0.5145011289457104,0.015733302090655127,0.15379932462707266,-0.008603146640265458,0.48857304822561237,0.7918291590546226,0.6017791789566032,-0.9394973268820193,-0.34329303763885394,-0.0763617145468698,0.92922930450609,-0.1774368957074639,-0.018797239790920184,-0.5309310998489318,0.9096228696984235,0.9769239997856278,0.2399317374533892,1.560654701567302,-2.866868482833368,0.29084795706990263,0.17447471307419254,-0.5137291937041553,-1.3280456615834204,-1.947235809027216,0.7426314421323585,-0.4251571104505052,0.08904491948008442,0.13599088584684083,-1.3868652646326043,0.37931835497477784,0.30544331184173135,1.165179678840754,-0.24262479099982998,-0.7683137186003476,0.8624523877626011,0.18008680572793365,-0.25425158887803273,-0.38566489905326407,0.7963291122139677,-1.4753799750024545,-1.0168067456116383,0.5921697927905418,-0.6059246701214291,-0.05834075689430873,-1.5187015174252423,-1.6480472765174654,-0.5751017890236969,0.9506256834321402,-2.166363279130019,0.03375451880018773,-1.0057417225030854,1.4355777220472703,2.068289066669881,-0.4115251453890135,0.06500697069795414,-0.4752622693046926,0.4324943395329771,0.08310808831279987,-0.8149676455813967,-0.32535729840865535,-3.0666803064514205,1.8136190930226896,-2.5925168064793436,1.1717630361103886,0.153451588488288,0.41566795447021165,-0.14133460764201367,-1.8472063392984817,-1.2999341413256282,-0.5597763280235388,-0.6180502230586205,-0.5462566624357561,0.6587980946753114,0.9104171480435107,1.2318533428514558,0.7855300910376092,0.36254063653726815,0.22394255867530238,1.2162194136493092,1.0657426370512375,-0.2582783436249373,0.22467978927176557,-0.15734454544111565,0.6804786907228177,-2.577893261442938,-0.31434891729874903,0.901103256822551,-0.2204289039428859,-2.0399167022753084,1.298093212044722,0.26675126783815195,-1.7722159347311925,-1.144020440377675,0.7633723642618961,-0.6057510316423687,-0.4547737174039101,1.0570470001964836,-0.367011390407484,1.6140398715563515,0.4833912529291643,0.3273038176696099,-1.1343223694027014,-0.13650375124731784,-1.0025588136992347,0.22828462968084673,0.5842324084221453,-0.0763889563895338,-0.32300587828728433,1.526888647998975,0.7654870896049523,-0.5739177689072305,-1.435513546719355,0.9669283744806694,0.010412897368727192,-0.1539119215008442,-0.4890841708393766,0.238956994344312,-0.00560205037242603,2.254062744495908,-0.4543467474123493,1.380689162997734,0.9673719756228836,-1.2668074666905187,1.4348465374982948,-0.1322729781645241,-1.0195739300795499,0.997754163645613,0.4016611117450103,-0.8031395810203938,-0.7853737007565815,-0.42042626124638577,-1.2879027825567126,-0.11108323127354947,-0.47348652753517007,0.0008249299340812866,-0.909090652712698,-0.25824695319223245,0.18870778099460256,-0.5169403937250914,1.212100659802826,-0.412825913386237,-0.07817253659135108,-0.3637036785563061,0.0020506472463548975,-0.09713898761244713,-3.133818969517276,-0.8661567845235756,-0.9744377243393287,0.3530495178247307,0.28441608570710186,0.4341743748802144,-0.12849174904546934,-0.6954296231650047,0.6291731699631838,0.775062080984362,1.5654724412342227,-1.7899156800464595,-0.9254218790557258,-0.3428343902436768,-0.4206978333213425,0.8656304312139287,0.15495702897991148,-0.8174257253165609,-0.664784032567044,1.983815999014544,0.7088122194794992,0.4803677657007754,-2.304067580911521,-0.18164215347429274,0.09272091109595058,1.0721263724776016,-0.009790201714298008,-1.8651147603583964,-0.7523472058634327,-1.7433799800553749,0.3006657325671171,-0.8741036768862052,-0.7939657154045985,-2.0006987954471196,1.6302056847845496,-1.527665382705366,-0.24107860971166006,0.06125455429928767,0.261549878617662,-0.1898033060322386,-0.636977607337109,-0.4130964246959,0.7625092691326343,1.1900617004867324,-1.592290766969108,2.893290793430432,-0.002382167980088501,-0.8718090483466345,1.403328825594551,-1.4741457546738137,1.013079773863917,-0.622957277061927,0.8372529749312989,-0.511989489466399,1.5270808899065793,-0.21369041668126515,1.1016025538692984,-1.6986725816079185,-0.062128449479727815,-2.2604046042334858,1.1962874848554947,-0.604841398102463,-0.9534815031369732,-0.12114497275746516,1.131004335858622,-0.6229101432722846,-2.7400073595699874,0.5973240392920203,1.2338215953228318,-0.14582552528588477,0.5573669631039901,-1.4862677755405842,-0.06957452929010133,0.853352130249295,-0.34297824732389137,-0.19915085189404114,0.8026460588707859,1.0544820661291758,0.6919645134466532,-0.34997977030661154,-0.05869897580030476,1.0720929139946345,-2.7455626530913033,1.2558574159988483,-0.2812672709361022,0.31309998790841653,-1.0467025556491194,0.7726505196969857,-0.44662679682713524,1.6941878007704982,-1.2194753861295533,-1.288278077074738,-0.4562692637608857,0.015741338759762052,0.11885144684602689,0.8901382225011043,-0.11620109742605433,-0.5527902567964055,-0.19017316783291294,0.9097093235910996,1.5486019499237802,0.2806569805485668,2.1984011130403713,2.3624959098480813,-1.1657180802473674,-0.008975109105017531,0.5460467960919557,0.8700645081084349,2.6418235379014683,0.5796185157990713,-0.26840436310305565,0.19855660658316626,-0.05192508376538396,0.311866320120469,-0.9276190387429221,0.38940969598953823,-2.1426294664166305,-0.04493518492318627,-0.4371087407829088,0.11717738956245782,1.6840623904775207,0.048986323381079,-0.1302083236631123,2.0561175008553496,-0.7371751936372627,-1.6908133628014406,0.6489127209929126,-1.515277856607578,0.8458458654243224,-0.38034350130890415,-0.5646354550463915,0.06574766673776122,-0.44649191957218104,-1.486721219420195,1.226252581814644,1.5372882328926976,2.4345818002858186,-1.581196770220257,1.3912327982680335,0.35997671455276703,-0.7904655220769937,0.012807270003333038,0.3157476067052632,-0.0068333025726860785,2.7118951076113027,2.0405317973318438,-1.8383993571633608,-0.3531317803338404,0.36376511347293283,-1.1780243776164665,1.6040578457841594,-1.119683202331707,-0.3875541475652102,-1.1558354634730605,0.9192715748164928,-0.9074358647537236,-1.3616950658358649,0.37806122932034625,1.098409737022675,0.9994905273112802,-0.36109279213801543,0.4194821472232435,0.6069508472466719,0.000734189519999151,-0.2618068279871338,-0.22710453171812886,-1.450657609539404,0.7121552313641885,2.644231871747354,-0.01674533088689356,1.023171113799946,-0.3252614796237299,-0.49425760619913506,-0.38449070512792183,0.17523092589261424,0.17963670486903804,-0.21821324892473629,0.15059640696002383,-0.022779444801431126,-2.1909439564744346,-0.10311178240945766,-1.360507639955407,1.6463253053045184,-0.6382767761554906,-1.3071111615392366,-0.9004354860851778,0.7373127634539186,0.867426528070791,-0.34482747130030433,1.2591432837283176,1.7898813661004007,1.4562670753647815,0.49000432125852006,0.6788041914354571,-0.40923163229190335,-1.8431959186794855,-0.06244093134472728,-0.40833093293904016,-1.318902638739685,-1.2064012668118098,2.0808855937341346,0.09682586229205069,-0.7653690520051868,-1.3142265082981124,-0.042632235832515075,-1.3773328659397173,-0.9215019240000752,0.9258882103627686,0.3630101780167756,-0.040749571070954116,-1.1787593540573187,0.24664624754934739,0.5115517187107982,-0.6234352639846525,-0.023147641326655866,0.2683964783784899,-1.0691533566039335,-0.9273064703613423,1.5238427579472862,0.33346897101742673,0.3268832849951356,1.1548395276616925,-0.027099931023605625,1.273018086638252,-0.005985671415340288,0.7236444767060368,0.7895545707288101,2.3267266300134537,-1.0390701914538485,0.2841715795668481,-0.11518388748223345,0.18513703178398686,-0.6102529090472611,-1.0588683859414787,0.21778750939913283,-1.978360096272934,1.6972888439067415,-0.5666547275116299,0.7741879742079532,-1.2434873878715682,0.6974813968818767,-2.142164856807631,-0.012052234703299858,-0.4566624028146132,-2.8194886945546207,-0.4716369541341863,0.11952728261207382,-1.8937768149315501,-0.14243251249236094,0.5418580104264056,-0.8304568607414552,-0.9674276550656216,1.3465690314716217,-0.3724980763576652,1.372298417793497,-1.3318516985129252,0.5494739947273691,0.01842505336333211,2.1257942563237444,-1.4686883515542835,0.9673354084022143,-0.8844690148764568,-0.8155287325899898,0.458671982525359,1.4614156177791355,0.016145162897162533,-1.5683851879618012,0.3525856943831287,-1.1922683042737576,-1.6749895609270515,0.10844825113083126,0.10753966143662991,1.3661649008229315,0.7952498114463671,-0.42738534861914296,0.2161096686429274,-2.0468065109483082,-1.919410305992401,-0.995055530693474,1.6369550250419826,-1.2654485366507942,-1.7657675350722633,0.11929313593584961,-0.8718953358903305,-1.7689619608216955,0.49409675428867383,0.7372669694152261,-0.8560122717141966,-0.585668054773954,-0.767918718521963,-0.36711459105952576,-0.08357654336792364,0.4502781901275778,-1.1062698376777695,0.8957538074559426,-0.38767203172927417,-0.4776070420624213,-1.7616351552710037,0.03831575574366458,-0.6605956119567149,-0.7884581469440399,-0.025530869270310258,0.5937081141510866,-1.0532513172310274,0.6619922524018209,0.9742655817215129,-0.34349409266525494,0.873312492028078,-1.5049645878858369,-0.06456751601831923,0.17246469078640314,1.3446232049139175,0.28601503902870773,0.06752399351790295,0.7317353587887016,2.035538662444483,0.47520533185196756,0.9035780491050744,1.4273822477688838,-0.5939816346651826,0.8297884178918205,0.5093012236001857,0.18748861029446634,0.7248436789873567,1.9322344000670295,0.6555649523301069,0.5236954336406308,1.4605219004222705,-2.0426319825556893,-0.5819132935586837,1.1466468134890302,-1.7537739853493801,-2.5944115198871778,0.31242229356071044,1.5591971304406753,1.2000857026450424,-0.23223160684619298,-0.13736216891900588,0.1580134927366732,-0.34917743012864455,1.3066012189277574,1.8118325117852327,0.94085865922601,-0.25720173797970947,-0.3696660005503021,0.6916632978563817,0.10824031196853368,-0.3911818835578703,-0.33375897624817996,-0.32057282239521834,-0.0003398702491779204,-1.046984140793976,1.9230004661747642,-0.9577873913422281,0.9879583251115804,-0.8301235555725026,-0.12607338952073843,-1.0383918671536698,0.38043484077084444,1.8372879531626338,-2.4296609224494086,-1.919548495232327,-1.052932700321231,1.8056525043429548,0.20361184456521897,0.2600554235966597,-0.220631556707853,-0.05478524355979808,-1.684724443031085,1.4841856983580255,1.0089697805492572,-1.3672197127335828,0.05538515814755984,-2.8720637601850862,0.05904460992252736,0.5209594221625368,0.9972071149952313,-0.07698940880482259,-0.4048160698753301,-0.614476875190269,1.0036899590035737,-0.7729456061717321,0.7690240632025598,0.5502316449724585,-0.9719244801172993,1.0216760687138984,-0.9341751780509969,-0.15258671127160628,-0.11224991721895261,-0.9574429061010087,0.3437388290512013,0.29282678378949056,-0.535698301694925,0.19753679699552923,-1.613726613911711,0.7274856576289158,-0.8795183754664748,0.8766701286078187,-0.35711272458560883,0.21464132148180387,0.48915433181884116,-0.26297954424322567,0.9820794729436796,-0.6284041079495961,0.5808032551182496,-1.1364641137986298,-0.9502802342348006,-0.3676093071958942,1.0766896745043855,1.4193252591702032,-0.9926448715128315,0.5831837616851688,2.188642564227315,0.26605762980390635,0.34914660535816555,0.337110333111612,-0.6980997463397924,-0.08341056680965087,-0.3539916077294104,0.660879327941174,0.12418792485339986,0.5345059473617828,0.23382238190177568,-2.3123649161098863,1.7136791463335657,0.9230820075907247,-0.5809656446295175,0.6378281666380954,-0.23342416006861844,-0.3744349758549083,-0.23146341174965113,-0.655832646774518,-0.241509732756637,0.5601808284960468,0.29382378571205814,0.27001998694273793,-1.102404787696302,1.8894194896563399,-0.5151940469899162,-0.9612160194555506,0.22281979104551425,-1.3077923833810692,0.40992206268511844,0.07655197261663715,-0.4204988866859823,0.24240940726355398,-0.31131635755736176,1.2871701104794444,1.5860730985476847,-0.552402221815948,0.33826507964624974,-0.10588680672852747,-0.6625411360092299,0.8606111161112793,-1.0932261953452198,0.22082743898222623,-0.9293188093852423,1.6895385189753174,-0.2888906894266279,-0.5374182157015034,0.7518380686948487,-0.7760533921898795,-1.2464166829549117,1.3020579551543774,0.20502936976724948,0.5613593468260849,0.2977137378402146,-0.04197933818325478,0.4181991760925512,-1.814291605271017,-0.15611386263955274,1.3231318235359573,-0.4563695658413266,-0.15293704746616393,1.1859860547428651,0.970201931047005,-0.47786587519043655,2.1428785050407675,-0.8651161117907804,1.028570838853586,1.6289082310010676,1.4996634885858944,-0.8230362462788792,0.42005081002966405,-0.5262610228746329,0.7632317759026899,0.7753894697256619,0.3255618198041218,-0.6232886230305491,0.025416781394193316,0.24956411292701608,1.0126880512785954,-0.7939323162513436,1.0274247218779187,-0.8540586282761274,0.2793197054380828,0.7987266049412187,-1.664346700787203,-1.2848552268549198,-0.39913528845713325,-1.4753493623453604,-0.7873790037130897,0.13882793445731764,-0.31150562282464594,-1.2406986958224948,0.5514638501984863,0.5765464208432081,-2.241912549760981,-0.33175640884918,1.2264085860448914,-0.18977963805012762,0.48558141452449766,0.9610047162598663,0.48912730686843015,-0.003042228156693083,-1.1024031194309354,-0.21918435998709174,0.4287211769307364,-0.11013049446960052,-0.8318784327159733,0.9222472662687577,-0.6978034808163109,-1.1768487408204305,0.43866712874355196,0.9898896021023041,-0.23826479251810287,0.22595261199349065],\"y\":[0.7749008148069589,-1.9739228319391848,1.084364460186498,-0.7061855166971011,0.02862832437811674,-0.06647367509530573,0.5616360741507105,0.03979547316057847,-1.934977136553699,0.6165390495540061,-0.8839084228308076,-0.07601676616667853,1.260639980911486,0.32049970884289974,0.714648263194449,-1.2064673152437233,-0.2106734828233859,-0.8016497467169782,1.2093419012239401,-0.7810684638520203,-1.0929568293009444,-0.9539648057736946,-0.05072991363026201,-0.09074050256366833,-1.5982762370370562,-0.8293815505615127,-1.7641960205925782,-0.7906502941909163,-0.719106984320848,-0.4717527902508182,-0.7740208829575213,-0.5194161021588241,0.737644404263675,0.2513196495379899,0.7411002694328552,-1.8001988949455434,0.5154371537774424,-0.018785059319000215,-0.647159488336885,1.3770173386038536,-0.8509537545677124,-1.6759013056476753,0.15462359453565958,1.2537162816147358,0.046927302480102434,-2.0146927021355534,1.3182741810487268,0.44205342615318305,0.5560665468164293,-0.5324866889752209,1.6077066300724847,0.7986827266580891,0.8918650160044599,-1.1028948697551835,1.612069113532381,-1.4548158618641336,0.6268894713077073,1.2771148136179196,0.6174291410045001,-0.06950408336845663,-0.1944170592347696,0.07443527098641485,0.6402478866648408,-0.9024491421205437,-0.6124545434583707,0.5367611702219884,0.39525333727379963,-0.08619539478718434,0.09172965500999125,0.24131378785638605,-1.108368054952678,-0.8367848287704027,-0.6645189974496374,-0.6331064614703352,1.2007043967637048,1.0400798510024445,-2.0441544430794494,0.5041924579952206,-0.8075801442885056,-1.5541276272651743,0.44831656914964013,0.474447780303287,-1.0307098630835256,-0.767902072793114,0.09990076058726467,-0.9042409343247059,0.9363294276430497,-0.6598527851930523,-0.044906206783160006,-0.9325024648039233,1.1726019842304234,-1.015961545571702,-0.8236528751338201,-1.2792567930575829,0.7887659264980774,-0.25318426541027395,-0.8719534676613446,-0.38908931591334206,0.1154121897544389,-0.29352101309434875,1.050796305381366,-0.09747616017883623,-2.446597438391862,-0.289954516652097,0.45279245000666024,-0.6492644160164182,-1.0573268173548203,0.6723191888398269,-0.855397438699817,0.44857509491872777,2.208955943663563,0.3358430730880521,0.9078099247247723,0.4464789818576561,-0.12941824029801283,-0.21846789542773712,0.3618404484607898,-0.48020332965261286,-1.0833795897516993,-0.14769069762137677,-1.1925916286978275,0.12677340536323123,0.4977673935569436,0.8032227278049318,-0.6508650292139272,2.127318156002006,-0.27185756045481707,2.356818503458364,-0.2967466596653305,0.29192985173659763,-0.3295495700781717,0.02369979896544015,0.2413955034520037,2.1055225572069447,-1.2355932273931258,0.2720060432587519,-0.6872895416996373,-0.7778982106038246,1.0692915180545441,-0.3104022895156597,0.8068726138953477,0.13172243754032614,-0.5914005075048699,-0.24228330399454392,-0.5634849780758991,1.5236167620073515,-0.6279790294824035,0.6619749346078538,0.896680589276291,-0.8215815627977358,1.0431147828778482,-1.035773248544789,0.7198620090200448,-1.6015548786245661,0.9676118845570738,-0.2068230452592225,-2.2288602470280656,0.6961413330612631,0.8442259780951282,-0.40436626215499305,0.9220486776685449,-0.7605292770203562,1.2673533884514265,0.15697072122635927,-0.3768099151303529,0.45193601142419065,0.372580925220323,-0.1080998502019966,-1.9714459583863384,1.0836250621737167,1.3608007826373902,0.645966159893339,-0.7445945374173888,-0.39891906273638056,-1.1080758425464277,2.0172137975261384,-1.3720319652927984,-0.11021466739866535,-0.9938130400769402,-1.966465997288451,1.3649178188251767,0.28561621857835096,-0.59926688761057,0.823838415198903,-0.10143940727840878,-0.703217818942925,-0.9695043181441161,1.0989000261656197,-0.8515851540494908,0.5783995737190107,-0.8643212726985251,2.3449782737118854,1.4663699039041629,0.17282572862462414,0.22585205722470644,-1.2574043557189978,-1.2790238209032971,-1.5134770632260148,-1.044614651608751,-0.03372453262717767,1.6281966750825754,-0.5561429552259582,-0.08853554259098899,1.132693534806591,0.3321392504958605,0.8757143260125083,0.7586483883466837,1.4851769318706576,-0.7154979246928468,0.9206943373847326,-1.3395396447736179,0.9536244818422812,-1.201714305955739,-0.9019610350865807,1.1204785811322302,-0.8824230999945764,-0.057929960159329275,0.8776005567394662,0.45129722280418333,-0.4806180145179885,1.0470702502027065,0.200187446226887,-0.6911303258253422,0.4936536441275233,0.8568019257049296,-0.2213789921343317,-0.7470323152580598,-0.7411027853584422,-1.2243053911705994,-0.2483894618810571,-0.5409471461591102,0.4572608029951808,0.3189839745079746,-1.0322012313381594,-1.4789644961775479,1.4201106248746007,1.8101534245649284,0.8268303433509117,0.1901700831108846,0.1711421169618374,0.4143363628135007,0.7575319181681469,0.34580385559611587,-2.0927060311831585,0.5740018657359606,-0.03363584512377644,0.09443724136015462,0.14662354848299355,1.145332180721328,0.8289335690909746,-0.15651488160306826,2.868249568216489,-1.1446857250653257,-1.0611722365887886,-0.2081594503152929,-0.02772825805052389,-0.5446346158980836,-1.0450558659648508,-0.5356189306838673,-0.6379225660641595,-1.1085097325787572,-1.5748789338748164,0.9597578867568234,-0.9384273330848103,-2.0950597319667863,-0.7277796259831849,-1.1784583548256322,0.3268569229342916,-1.3338573944780558,0.14524789202281602,-0.9352709470077807,-0.49704442575683955,0.02350589123257773,-2.1660269813243755,0.5696687804373548,0.11725858390332396,1.8417515216327136,0.547232512391723,1.1239404923941034,-1.0240453422086793,0.24107596407587567,2.3704807372485437,0.02083038228219644,0.9171272272209858,-1.5778014761790735,-0.5870279204737586,-0.5317334923725859,-0.10735808365604525,1.152039652068153,1.6895859279303869,-0.932823736728717,0.14481925688517425,1.3919997591522093,-1.2282120783216364,0.35548923332111537,0.4347131901981655,0.0059003085287979914,0.09953275585157934,1.3383208400112194,1.6477136545358648,-0.4771252405612851,-0.11616823158506938,-1.6005985138557546,0.33207898651139867,-1.7932309755120983,-0.18080921489919133,-1.2121342555918202,0.14143093712322746,-2.2647604016222105,0.28997404347986705,0.8772049229906475,0.32371528062754257,0.856317392897962,-0.8761803071720882,-0.08427014410300306,2.2338386933892567,1.431797370598928,-1.7649093820201547,1.3983403823537681,-0.8568115383660594,-1.25753156498285,1.154443228142404,-2.0939062982179726,1.0776566979269049,-0.8214207914684132,0.11962725108924113,1.238932241737055,2.465097834640061,0.4444926622918548,0.9951224101040858,-0.46776520233869245,-0.09504315078947573,-1.8531056713845067,-1.1638487754885956,0.40907535328046485,0.5121488878469417,2.326294325369441,1.3380118149629867,0.3791841571502813,-1.6655993763429011,-0.9032458558753941,-0.6204872267257305,1.9528819457480668,1.2776496732458997,-1.2321286898009949,1.0057883962475627,0.39224011474763953,-0.041674508082026294,0.762345204548618,1.9782099361996306,1.2100542000128442,0.6527480844282857,0.1331624910826808,0.03432493779765751,0.6296432810467755,-2.279361795707477,1.8380133631793074,0.20270846946102503,0.9021036244832676,-1.7829077189852052,0.366239179959013,-1.8037975025459863,0.8303843140663665,1.5412390871394435,1.636165034262477,0.8359917619632893,-0.3183369891151141,0.777041210422367,-0.5802617106482231,2.3336787213002714,0.42357631901870574,1.2002466927815494,1.5136833283536941,0.2711451216171428,-0.5009587033674264,0.5430681663158461,1.1241761995789992,-1.1370748144080702,-0.6655847007343372,-0.9755021871163615,0.5815769048837445,1.8317750346930424,-0.7786510482057039,-1.2203175761963336,-0.5751800517091542,-0.6536528730693811,0.6052722066767354,0.8071036936670243,0.045742983961849164,-1.8928169688608314,0.8389309418136844,-0.23059343618169137,1.0634836871322682,1.415053802690983,-0.557128598383112,-0.7962527375934715,1.8551344637951812,-0.030479837218671733,-0.2706080350677981,0.22550374961619896,-0.9112120828385187,0.023723076772135886,0.10327414388996653,0.4020450189328057,-1.2265135233825561,-0.213078338637607,-0.5580348516638799,0.7737194455190147,1.8136910992936963,0.3112935768450691,-0.7268849201367974,1.303957318436739,0.39764988813286656,0.3133885378692756,0.36712061783829414,1.0755200557540945,0.16180612449458384,1.2279607559592691,1.381978527382207,-0.2792622816738369,-0.668815842196242,0.3133500286136531,-1.3985798633950939,1.9811111602159062,-1.0469589580984808,-1.6361109610518432,-1.0144384340487786,0.22929979648342366,-1.3107651831893432,-0.7383984944584372,-0.9369766187530776,1.004297372365839,-0.14550848676914233,-0.7839509408202704,0.672059756903281,-0.5894451623761126,-1.0658283254696608,-0.6058298640354903,-0.13922748501939514,-1.0088713247706698,0.6343251976525205,1.564875430513656,-1.5469528994189805,-0.39864000662956045,-0.2226628507330065,-1.0418394835218159,-0.3533988529735251,-0.35609150774365766,-1.2687273831399317,-0.2211791262186888,-0.13663189244582924,0.802592667254257,-0.5719117984000719,-0.07007139483419618,0.7697198405898071,1.3453635837068854,-0.6956913578707736,-0.5052073391935371,-0.7271346963773689,1.01165962644745,1.5497718312749424,-0.3040818102272086,2.078847808182596,1.05333091343937,0.23538229088247783,-0.8842167485092773,0.9571841589639787,0.5925551521869018,-1.0729159772317318,0.3663312200861314,0.40348570233143927,-0.1597316560341899,-0.31490400924798684,-0.09942594850648924,0.09801870190072612,-0.48133461835542557,-0.10660676266923638,-1.4583312631273897,-2.449988764048028,-1.181172342544969,1.3858136060844146,2.3589497517475615,-1.4379023900051964,-0.48965916457900893,1.2301778136877146,0.045380141485243865,-0.22818079822102258,-0.5553868676237188,0.3950629839580018,-1.4025289996302799,-0.5497914888295466,1.1340551499876648,-0.1820577695570134,-0.5789436315276961,1.4701523057454813,-0.27048219167967896,-0.1206108755407274,-0.8360812852658721,0.40323507846958134,0.19852731614567526,2.285843304642954,-1.5406359291763463,-0.27656625501089654,0.26051086946836677,-0.2786972032085169,-1.0312260370614574,-0.08751317589642599,0.4689933268650381,0.7348758343482956,1.536209025396707,-0.6402681814338569,1.7437041330746184,0.006212538038378207,-0.8054375120785394,-0.6047073432100675,-1.0977343931332666,-0.45790628555226154,-0.705235616133354,0.3803290572195646,0.41312474428728596,0.1965069282161508,-0.46591540529343695,0.7525045933185067,-0.21485040426234775,-0.7679552107936661,1.0289167133914208,-1.6622483251761035,0.2649352152496084,-1.1304017111485718,0.2120484523699917,-1.0627547369811827,1.1898239344042272,-0.6940214935815288,0.9538821397788896,-2.0818432559210787,-0.8487456156826193,-1.760569678281712,0.5935653863794518,-0.009332733871116607,-1.4109079914023535,1.1648205647315073,0.12424475117296978,-0.7534066600261174,0.4643878748569689,0.6776168287439854,1.3977625721578728,1.1824258470538787,1.116842572293239,0.5439816886584955,-1.4404103748096604,-0.7446249296402406,-1.030103492898457,-0.37023581152354534,-1.2545746436569707,-0.8598297008284963,0.6752841741983048,-2.218316357731919,-0.9939813007487455,-1.169156567960216,1.5574071748887595,-1.2781971002411803,-1.306190051348419,-1.7805487789092633,0.2694941401443155,1.2712979540696145,1.0037944882569376,-2.7748207263356472,0.83545299426809,-0.9171047987628614,1.028942962453734,-0.3377989481590093,-0.5774567052399511,-0.6846958471758339,-0.673112604211423,-0.12496752353404952,0.21998368955822,0.1782000547308015,-0.36321822185158037,0.6973130688160118,-0.2300044557343648,0.7559347042879312,-1.0893759183943692,-0.9832001030573432,0.3275146368783937,2.7106805201375255,0.11465848493017658,1.3958217978666885,0.8022988690708662,1.9839322257171337,0.14154824289232018,1.1212341745115286,-0.616163532406403,-0.9455046032543206,0.9758282061073001,1.1465691088056336,-0.27638907176265937,-0.9223533020293678,-0.3173162464178908,1.0291115788449647,-0.19094087200258883,0.661936085729112,-0.2106255011482047,-0.07646513949660322,-1.3746605709051751,-0.04380090103281912,-1.7615014507364164,-0.2044459338009711,1.177653393119947,0.37398715915130376,-0.6678885435930045,1.4993682873075116,1.3673144868330562,-0.8198432826267575,0.3186224426393852,1.5058533860163492,1.1352791866067762,0.24756588261193285,0.15018103703924807,0.5235434561511091,1.9000446751990072,2.3745124718550263,-1.147700019202773,0.9063581076070126,-0.33509548160440594,-1.3419965439275798,-0.7783301148752181,-0.03945398174312915,-1.5702185241581677,-0.2662454968054461,1.096177079704934,-1.6053472385742231,0.028181753901902546,1.1089414269977924,-0.8268258642082471,-1.2426768121851834,-0.5528177985571971,-0.18135513905470124,0.26301791873790153,-1.0099508893086748,-0.7377420062309459,-0.7834928791781279,-1.0501726568701713,1.513490785717806,0.1727895570207593,0.39686982065827064,1.5063615529459886,-1.3173209208835994,0.6925805073276409,0.6219568549237231,-0.3320328617766615,-0.28718407497708964,-0.6570787077391023,-1.3384351024851078,1.1119045782057626,-2.4278919749463297,-0.35003215571394297,1.6686246629952608,0.7561303473526351,1.1882875197887592,0.7412858850874325,0.8238310982135167,-1.4437766298565688,-0.5716551397199581,1.0484684943303813,0.18784521657134284,0.2432533639443559,0.4578139843018931,0.36006026626728826,0.9612005829167767,-0.5583851163466704,0.032007760076152705,-0.8708869197507915,0.8440200357318837,2.6513042079157234,0.5274752459398081,1.679506942212863,1.536917367937775,1.2186228744287484,-0.8153420807987419,-0.5785739447355014,-0.13286727338631563,1.052756892950726,-0.22617012175305926,-0.31352692342564265,-1.596049300244952,0.5258233601049803,0.6549981056065776,0.3942488847824704,-0.7051408871248792,-1.8804626187908469,-1.5325673981356138,-0.6158898561420844,0.16389000518179975,0.9523696192273599,-0.6250285958113212,0.5622896331929692,-1.82844437262564,2.4481632067445442,-1.14393521504332,0.15170959026798858,-0.48354150810490826,-1.046507726311005,-0.581965549501198,-0.4488070358676352,-0.1459327949818221,1.1595443292347174,0.6430588137206615,-0.21944722840918815,-0.27015278262129383,-0.804844397257629,2.3742665381315464,-0.8113847204772549,-0.04088519896409477,-1.1234334355295714,0.6695926573843586,0.41203585040071106,0.5280420788354855,0.1938246641303645,-0.849340579256006,1.0618812933035358,1.199877918339468,1.3157278403783874,-0.5449533056355296,1.6324376078247833,0.021540304283664748,0.2520784267077736,-0.27432980029793497,-0.41721106782275474,-1.3558289498124925,-1.6580348502544708,0.9447567594259603,2.4696048430237707,0.14216851839975864,1.2955077734090965,-1.249291493655404,-0.7048091146578825,1.2640077879748242,-0.04326419956040152,0.9945157354705687,1.0714346672054735,0.5575242069428239,-1.554909891986426,-0.2861782959471216,0.014040666935655926,1.04911439443974,-1.473200196480605,-0.29932219720049497,2.107465062216851,-0.4593903190736622,0.749462169273094,2.2728418845313785,-0.2651609878185551,1.5970974802115527,-0.5158784381983912,0.5411265925344577,1.263681198135661,1.4665827256516457,-0.7926584063159496,1.538217587263964,2.0274546720501996,1.176646618473448,0.8185231795204492,0.3414012188431669,-1.7733086274154186,-0.208037420308837,-0.1955634246112301,0.5063314094972374,-0.8313208147296003,1.3919890839208724,1.6507121961461155,-0.7635534349063212,-1.833932843531136,-0.37555204242286166,-0.729405285719656,-1.977863526342286,-0.14865291821856474,-0.8687848350677104,0.34765468552959866,1.2693714410328576,-0.26245357877834724,-2.738071699158334,-1.065275081575629,0.8088323497164328,-0.02411235091174199,0.6122171629705283,0.2453213642591476,-0.5208781295262981,3.5291952249437855,-0.22814918241908447,-1.2573093843440903,0.3778626455100412,-0.24542533312172518,-0.39076065295696455,0.6024631016644887,0.25434905415000103,-0.9536541125416599,1.3128143397821386,1.2310277182791027,-0.22438625963427777,0.3022954839318475],\"z\":[0.327420857421303,0.17908721355111684,0.40964264170630044,0.41302740824671125,-1.9128201562969074,0.9203227107678472,0.029237835810863054,0.3904962461069025,-2.5923089494693548,0.4784097414306581,0.6295884058406077,-0.45952210325504383,0.9300737931036993,0.8955544608669497,0.15375481421275827,0.5528510665817111,-2.202253813854347,-0.5228327817133386,0.0817902326400557,-2.323108992156032,-0.4463199450943911,-0.016033257111198913,-1.2498370978226652,-0.8374713803901714,-0.8088400961696554,-0.4329680019297429,0.1315160618201176,0.4109942702594236,1.4573034942304897,0.979333109020294,0.9109555972064566,0.56101401732179,-1.1519121298651955,-1.3290644458381144,-1.856987164966063,-0.5692173933942891,1.1274428869772086,0.11059233527732142,0.3349792475717056,-0.5786672338831023,1.132057634095282,-0.8526946700885676,-1.0238994088671516,-0.5882500467592132,-1.04227515100972,-1.2448229851851542,-1.1176160245174087,-0.31587779721823084,0.9893262581437958,-0.9115437596525989,0.5082714100117188,0.9899336508529479,1.3319333347933304,0.5184101369667471,0.2554325120666676,2.219654443586327,-0.00941296158915621,0.4695659051583331,0.004767253218069469,-1.5178345023809212,-0.13094535837891774,1.5514686414174774,0.2953897483864607,0.6089342217308158,2.1659417156052023,0.46526477039578557,-0.45911932351460544,-1.1725529897180076,0.2955838860020697,-1.804985953400001,0.29804704378200186,-0.9767770138327032,-0.38930393771905586,-0.8920969990751346,-2.4320594141010305,-0.5796552689258198,0.36598291930093757,-0.5246540723964923,0.6886081460338384,-0.41390959264095817,-1.5588740028592905,-1.1581369249575448,-1.1730117931275028,-0.10161034654507739,-1.3057428255237418,0.8937734030545712,-1.4278469908125027,-0.9080831238009809,-0.8742561582619648,-0.5578291026807252,1.376810021505743,-0.38245143042082547,-0.8512634728121778,1.612746924144035,-0.5660358889961374,1.2412005463981362,-2.2180585187319335,-0.34367832413800814,1.1227830247896344,-0.772633545342428,0.793800381759628,-0.026749435845891137,-0.9258297391110138,-0.030174246807357197,0.37169680931763804,-0.09172537703398766,1.4619691402314576,1.2512088076132408,0.8313936269286029,1.3411457316267674,1.859247014247578,-0.22586630359787682,2.254237494955024,-1.119942288791435,0.7957320057764139,-0.7371765042820161,2.371555132875909,-0.6990937132706467,-0.016175254433766325,-0.19621987462698817,-0.5608577453669186,-0.18486147495566646,-1.006556073810822,0.4206964603117427,-1.7672839622821856,-1.5818923048094868,-0.034112950950116135,1.9407054151033372,-0.574601741856145,-0.3193027535532513,1.862772826569449,-0.09021521424584018,-0.7884873403810253,0.8563214395697429,0.09867192213157892,-1.4526846027494862,-1.4053478588614134,-0.9337523199697253,0.4737542724526917,1.1868229853174421,0.49773370025325214,-0.9521145579429485,1.001911055777326,0.2605159499661808,0.6810655350722613,1.5790469092547825,-0.6051545359700614,1.3248241386260555,-2.1342308949389217,-0.400562265542021,-0.8605026364686434,-1.026533434058365,0.823227397614918,-0.9372965642141499,-0.4825124526553892,0.30503767646959423,1.0924269066189711,1.524425917719417,0.5983013742005416,-0.23382665729477348,-0.09448716756969544,1.649178412298499,0.3910606256760014,2.2475710197113896,0.028547510796233234,0.5422601005648534,0.008627055007429803,-1.39101373421305,-0.002863937977047564,-0.9353354827521053,-0.22401133792075525,-0.7479751439355375,1.1504525315383354,-0.13244407529102012,0.9126798982642936,-0.6141036976953784,0.49344195570761884,-0.5378188813833762,0.2720557682830429,1.6329067259953642,-0.13557905208354548,-0.5105926823948218,1.5924569487925997,0.020110098811750358,-0.005947292969140202,-0.589734737837225,-0.1443355619666711,-1.1518722221590163,1.3776912428651575,-0.6204809443684477,0.2166725459465622,0.346630876248096,0.7901374366019575,0.08481734353248348,0.57701432607275,-1.4253817808766815,-0.13264245034517896,-1.4024300803193008,0.34326144131936714,-1.4167089532514583,-0.592349296316893,-0.5842286997947834,0.8866075170608415,-1.0341554065112988,-0.04079507517700456,-0.02843223986989493,0.5477338980701165,-0.0048848744499992705,0.4496458071337662,1.6392108038489512,-1.145477765361754,0.5381676177354247,0.3062352598564538,0.29080620537976204,-0.1954493876705641,0.8977717847762123,-0.3364074386022462,0.18302096007105667,0.7754180533963608,1.2878752278345003,1.3092377705926004,-1.5817795956261296,0.34203846796930226,-0.38718377925703545,0.8988092664730054,-0.11981193280527679,0.6402986231676503,1.9774233654006101,1.8630828709596794,0.6721866101412065,1.1383449520766649,1.0299534154334604,0.6156817778088305,0.8088774845365867,0.5828805159038204,1.597949786990867,0.8286546202887323,-0.21666485171156602,-1.4907464562096615,0.2822643810655499,0.9978718414096847,-0.5955698196213253,-0.9337865728195122,1.0867367542376332,-0.22713088882048513,0.03860505245166117,-0.6281487677855533,-1.2355222706285878,0.3444149796513903,-0.4466565713103172,-0.18412195495031144,-0.2122439342118285,0.5322307844750254,0.08881730280372772,-0.6759275696607907,1.0067822393363837,-0.462448206266576,0.3762807099861674,-1.027321729597116,-1.6112935384205496,1.4029743939502057,-1.5233556107890949,0.19580572816979216,-0.9183421703391281,-0.03177628302627045,0.28695491116048266,0.822345403587395,0.45634228449962955,-0.2747940961898044,0.1918498104174661,-0.40647389357672115,-0.2034252481811356,0.007926630432429091,1.3587008911952716,-1.6005498398724785,0.48623788480633323,1.2636244404458934,0.14713494879726455,-1.1438602969602711,-0.7982041059436465,-0.011305699587649837,-1.1252414761098064,1.004156238279679,-0.9912849080737531,-0.465251187976788,-0.33536803213051786,0.6263297497332345,0.22232652056377858,-1.6870472403101673,0.34223231375606433,0.4727570891103419,0.29420839585738034,3.7950797405173144,0.043221558235729894,-1.471844784939284,-0.24636065609714025,0.06836417767865195,-0.7150305640901237,-0.3629798040665449,0.6168425539007907,-0.27472630585992674,0.735531048831888,-0.7225120454501991,1.6258717680760943,0.3958050192035934,1.8075545913670918,0.014953964435309504,0.20261501722550296,-1.1197567362171132,0.36172906505925956,-0.46478906602632974,0.3720660830047657,0.9138726693702983,0.016385862091802022,1.7123353298804054,1.276349332461665,-1.2587006037219937,0.34961387685481615,0.2852165650004482,0.4279153527180657,1.135233344846723,-1.1483939303308706,0.03844461647035478,-0.269591956487716,-0.2904440951212877,-0.880459020873318,1.8180210241023025,-0.6710802645080024,-1.4668402333553512,-0.9938995311939613,-0.2750008082850806,1.5173131573759449,-0.77717680383671,0.5529273285870155,-0.9240058523104114,0.3456477323971924,0.835541401937429,0.8442122602974566,0.004587641002907505,-1.144457941981913,1.0202983030189028,0.8793734471875685,-0.3418000424988484,-1.014092424181872,-0.21209797196874922,-0.5384871338472725,-0.6055374197932024,1.4919923333596465,1.1355410732519364,0.9495049222935347,-1.136309282905105,0.5828133925407148,0.6674841321582482,0.763155944766849,1.6856335889886607,-1.4306180062099456,-1.1285088126692593,-0.5215180260955565,-0.06042036156311423,-0.5658026389826568,0.33775259610997305,-1.5649221869179961,-1.4100439428678881,0.8976197217093137,-0.8374240659374309,-0.24429155746906042,-1.9964869595269168,1.0843972208912376,-1.248607085177325,-0.5758638810262652,1.0941080807268653,1.5040352629431424,0.41596005838121497,1.3125708600071198,0.1430255219961688,0.7048500063818017,-2.351179131008345,-0.0011948306987056459,-0.14280234337847728,1.0709438705116319,-0.15086798137845034,1.657239220963586,-0.7554611566650343,-0.10337276941339134,-1.342346967133702,0.5497058379535152,-0.8129845416527193,-1.27941815992858,1.329149412835232,0.21609098842105323,-0.7453230633901028,1.1693322698197197,-0.770576425063894,-0.4169204214775617,0.027745527940317646,-1.3390354336552408,-0.6836917470742123,-0.6975561217832907,-0.9809110840108775,1.1344362027047872,-0.20814850687053613,-1.832094595256511,-0.20649300502596274,2.03089776223943,-0.5236581682412556,1.621834166930087,0.42897383605700773,0.5684556017100206,0.5473350019932508,-0.10486408344891775,-0.2504487091541939,-0.7736330266316465,0.5694613862743484,0.17387317247654935,-0.45284868061514444,-1.0123779514748716,-1.544536302073898,-0.7706531989885572,0.42932804717526146,1.3526448771057258,-0.10461319745151107,0.002736776693135338,-0.6535982958684146,0.7195549605158141,-0.6950851815513863,-0.12246126778805624,0.2141988036484582,-0.20379786695845473,-0.8001587702327917,0.020912479896528377,-0.8560252433547157,-0.9412585040997471,-2.2322758742123083,0.7117118956289966,-1.7561583472880429,-1.691320494070996,-1.4753508311614634,-0.5448451572290224,0.3320819369450985,-1.0305731103145626,-0.24459921623825062,-0.5518384002712731,0.9860798181570878,-0.9914014312545473,-1.1230794415384016,1.26416534615933,2.253087363183774,-2.1309410766632966,-0.784483144676782,-0.8301701775497354,-0.26191814802310853,0.4448785589292833,-1.2401466298840471,0.07885031850488136,-2.6889427161923924,-0.6518845086901394,-0.8825096613092039,-4.0402836026437265,0.9817739661892649,0.49675689390718547,0.8813893416947473,-0.7858870662872597,1.174960179424901,-0.715900859349221,0.04914930657929168,0.47638930517279243,-1.0674522717031671,-1.2957946519571968,1.1191964636005018,-0.4136739413334484,0.07399754095989833,0.06327091257798081,-0.5962630527787666,-0.029682129538662286,1.3180430090503787,-0.1401281142578707,-0.6357487532451045,-0.9836322951967809,0.7643134691441532,-0.9054446598754673,0.28312507321543,1.361347395472764,-0.8898376759618295,1.5577180179592334,-0.6418194220434583,-0.2699532956848772,0.4758666542144361,-0.23754696959904967,-0.5304395647876944,1.2457196383595388,0.817221048567869,-0.08946695348776564,-0.30233046697925436,-0.15197827910135356,0.513641207817449,0.7445117151851908,0.4645542689085675,-0.08919969120781832,-0.189472311578224,1.1128763469198284,-0.7818297313330422,0.23956831067062154,-0.49326387848087194,0.6823944839623917,-0.20273595224756238,0.212225044636531,0.29958730716592535,-0.10125883715633756,0.22015477244282133,0.1540877706511876,-1.1457163865166755,-0.2822347890143864,2.7254149150651963,0.7842094720193663,-0.9428530467052803,-0.4852553265894575,0.1264412630581801,-0.08668401726372896,-1.755993548632637,0.45502634729173247,-1.2949581272014417,-0.08657470418234195,-0.5996327316291716,-0.8520008963340517,-1.4217392980120256,1.8222145243979806,-1.357121440658981,1.1034673942491218,0.8655647903048195,0.7613135424200143,1.0168387465121878,-1.0565146532405822,0.4259198279356793,0.013317477985801286,-0.9454803225558345,1.212070221097086,0.789996574612592,-2.0360505594982037,0.4337740848868751,0.5547446394048389,0.009335910191150305,-0.0790589180571381,-1.6088366858844458,0.21159671306094063,0.9163062825827928,1.2753665149821793,-0.7672268564484241,-0.5281894199724757,0.6596442626126028,1.111830776091985,-0.6126739382977009,1.3436880251528103,0.8738565467558473,-0.05031804470368925,-1.2535029819017949,-1.2236026586088775,0.7230811662014455,0.25309000487201927,-0.29599010150276034,0.9914264457917036,-0.5861606541962915,0.6332706749883834,-0.10930585846512404,0.4268372178543748,0.21038300125405204,1.310299685387922,1.1257496127603244,0.9958147812446133,0.4443197409749089,0.3405652016995456,-0.08310790250244933,-0.710536884807944,0.6591964738278686,0.7586184696262341,0.821147506480829,-0.2810754751117853,-0.21503558049429228,-0.08962744061383172,2.282854441849847,-0.9679777688946367,-1.2943029384128872,-0.09124579860973504,-0.21843249855976332,-0.7890607381995713,0.5232822172303396,2.6390608277812717,0.7485204004833628,1.2279110672292586,0.4415383931277291,0.8271941309319708,-0.25018610573582306,0.40017810578043267,1.0278419145714077,-0.1311706072723026,0.47794871559088686,0.7686868656589602,0.7526330898719933,-0.14837865887637494,-1.4091554211676753,-0.013487386484330356,-0.38193720140598486,0.6356350041964985,0.28642033801178923,-0.14566211964263684,1.445479102877538,0.6996181217644812,0.08726608819524102,0.986211821058283,0.8593195843649055,0.9793288440655759,-1.2172077158253216,0.26717036899619784,0.9684808843776408,-1.5449068196490932,1.6337513964055188,-0.42914420011987653,0.5828379470685313,0.5509269255437645,0.7144009557622624,0.9564795923945831,0.24000983068626466,0.6993224912400667,1.8737951565975082,0.36882318785730445,-0.41131123392480845,-0.44832107922186926,1.4904270874599699,-1.0370847633014617,-0.3409401512338845,-0.40861037406560025,0.2464583232445225,-0.1490795078595683,0.33882250820825155,1.2397114118834889,0.3167551655344278,-1.1761854288313007,-1.8524102673877063,0.34085834992873465,-0.9430713810976366,1.2558662824260356,1.6276018308195592,0.41859562723340543,1.7190822539693247,1.0729472076675002,0.0822397839125214,-0.6531615368812547,2.06915210891647,0.4106743469285125,0.8829763218130421,-0.5259649895428048,-1.763855928456132,0.28584732461482365,1.9759368758250702,-1.3721686768624508,-0.630565796416533,-1.3824196325612275,0.8765490393762868,-1.0772073429145783,-0.5263887006072474,-1.0097065180837965,-0.12019209445720488,-0.5813558795922132,-2.625605234583308,-1.594984182148493,-1.0531716770082957,-1.2052406518242336,-1.5207523120446125,0.5026092492129365,0.448029943734823,0.13036235387239428,-1.0604080798124231,-0.7793780344966325,-0.16682601296336871,-0.3224067805826819,-0.6002749765014144,1.6752863005702952,0.30272556211239415,-2.1740671538494665,1.4036130796259216,-1.105447801247173,0.9081507383911038,-0.7838925022119411,-0.9086867791760342,0.9453326377071045,1.2678341047416986,-0.20516100245302224,0.8786074066599132,0.9963816368389996,-1.6488708811925235,0.4274809093258123,0.9308732372994474,-1.2064343578242092,-1.1893241417144749,0.6962793966890654,-0.8634958017418424,1.5024241391006776,-0.24270738798818298,-0.2963632384172345,0.16246798439268292,-1.034564172212629,0.23197358350574038,-1.1520425287095144,-0.6820075970620659,1.677199762619736,0.0085401320599614,0.21746609848109574,-0.7925520955064257,1.3640251263760215,0.13830182608152444,-1.8226102845148688,-0.09642817479148007,2.5185736049558733,1.9132106610518125,1.3169746219059255,0.12032745229871032,0.518084400015623,1.1974868472055877,0.06497063280136135,1.6995456357689294,1.2967317210640146,1.0237272187698738,-0.11765869038423434,0.7732973803345732,-0.04217169515604019,-0.4276370207269653,-0.30629027434165823,1.7823969029271665,1.0348777372666393,-1.7766036698205838,-2.361546229163214,-0.8562561846975804,0.4347661611728705,0.5212703949545454,-1.3151151513440171,0.38883521482350697,-0.4341270750733587,-1.7543811748445381,-0.009313759071492275,-0.6064434975358446,0.8050378602154903,1.7867599413432644,1.5774422794281429,-0.479868792159894,-0.34170778774285215,-1.2716612742577298,-0.1943967955227214,-0.2950139663974395,-1.2039433360664362,-0.16984994473958392,0.003791751275370093,-0.47972489476850444,0.08159643196320153,-1.1442304304048927,-1.1880453479177724,1.7907863780725317,-0.21231605334837156,-1.394196995806117,-0.5579845093631662,-1.1213076808684257,-0.836180391194211,1.1416704526186092,0.7268105707826996,0.3326889063777121,1.0075254859487823,-1.205067624347792,-0.36741904216637256,1.502868001194742,0.28827589856615987,0.8268128847079318,0.5927519931383944,0.48728932886250587,-0.040829653860319094,1.3753681143989376,1.6981031460934994,-0.12849396800064117,1.5298438125782843,0.6538464776402868,0.19067500240969668,0.5483570683052985,-1.3700188512211056,-0.2848825644140663,-0.11769432022807148,-0.3268947046297404,-0.7331434453021026,-1.438482728862569,0.10216862162535013,-0.3831995323080541,1.1174400890992997,0.12329691206069195,-1.073616412970295,-0.32419919247105,-2.006070893473885,0.3445726893950714,-0.31291870590196924,-0.313964237591446,0.8809717488532743,0.9645253490306017,0.059729545986542454,0.20196343037081257,-0.05709834751076494],\"type\":\"scatter3d\"}],                        {\"template\":{\"data\":{\"histogram2dcontour\":[{\"type\":\"histogram2dcontour\",\"colorbar\":{\"outlinewidth\":0,\"ticks\":\"\"},\"colorscale\":[[0.0,\"#0d0887\"],[0.1111111111111111,\"#46039f\"],[0.2222222222222222,\"#7201a8\"],[0.3333333333333333,\"#9c179e\"],[0.4444444444444444,\"#bd3786\"],[0.5555555555555556,\"#d8576b\"],[0.6666666666666666,\"#ed7953\"],[0.7777777777777778,\"#fb9f3a\"],[0.8888888888888888,\"#fdca26\"],[1.0,\"#f0f921\"]]}],\"choropleth\":[{\"type\":\"choropleth\",\"colorbar\":{\"outlinewidth\":0,\"ticks\":\"\"}}],\"histogram2d\":[{\"type\":\"histogram2d\",\"colorbar\":{\"outlinewidth\":0,\"ticks\":\"\"},\"colorscale\":[[0.0,\"#0d0887\"],[0.1111111111111111,\"#46039f\"],[0.2222222222222222,\"#7201a8\"],[0.3333333333333333,\"#9c179e\"],[0.4444444444444444,\"#bd3786\"],[0.5555555555555556,\"#d8576b\"],[0.6666666666666666,\"#ed7953\"],[0.7777777777777778,\"#fb9f3a\"],[0.8888888888888888,\"#fdca26\"],[1.0,\"#f0f921\"]]}],\"heatmap\":[{\"type\":\"heatmap\",\"colorbar\":{\"outlinewidth\":0,\"ticks\":\"\"},\"colorscale\":[[0.0,\"#0d0887\"],[0.1111111111111111,\"#46039f\"],[0.2222222222222222,\"#7201a8\"],[0.3333333333333333,\"#9c179e\"],[0.4444444444444444,\"#bd3786\"],[0.5555555555555556,\"#d8576b\"],[0.6666666666666666,\"#ed7953\"],[0.7777777777777778,\"#fb9f3a\"],[0.8888888888888888,\"#fdca26\"],[1.0,\"#f0f921\"]]}],\"heatmapgl\":[{\"type\":\"heatmapgl\",\"colorbar\":{\"outlinewidth\":0,\"ticks\":\"\"},\"colorscale\":[[0.0,\"#0d0887\"],[0.1111111111111111,\"#46039f\"],[0.2222222222222222,\"#7201a8\"],[0.3333333333333333,\"#9c179e\"],[0.4444444444444444,\"#bd3786\"],[0.5555555555555556,\"#d8576b\"],[0.6666666666666666,\"#ed7953\"],[0.7777777777777778,\"#fb9f3a\"],[0.8888888888888888,\"#fdca26\"],[1.0,\"#f0f921\"]]}],\"contourcarpet\":[{\"type\":\"contourcarpet\",\"colorbar\":{\"outlinewidth\":0,\"ticks\":\"\"}}],\"contour\":[{\"type\":\"contour\",\"colorbar\":{\"outlinewidth\":0,\"ticks\":\"\"},\"colorscale\":[[0.0,\"#0d0887\"],[0.1111111111111111,\"#46039f\"],[0.2222222222222222,\"#7201a8\"],[0.3333333333333333,\"#9c179e\"],[0.4444444444444444,\"#bd3786\"],[0.5555555555555556,\"#d8576b\"],[0.6666666666666666,\"#ed7953\"],[0.7777777777777778,\"#fb9f3a\"],[0.8888888888888888,\"#fdca26\"],[1.0,\"#f0f921\"]]}],\"surface\":[{\"type\":\"surface\",\"colorbar\":{\"outlinewidth\":0,\"ticks\":\"\"},\"colorscale\":[[0.0,\"#0d0887\"],[0.1111111111111111,\"#46039f\"],[0.2222222222222222,\"#7201a8\"],[0.3333333333333333,\"#9c179e\"],[0.4444444444444444,\"#bd3786\"],[0.5555555555555556,\"#d8576b\"],[0.6666666666666666,\"#ed7953\"],[0.7777777777777778,\"#fb9f3a\"],[0.8888888888888888,\"#fdca26\"],[1.0,\"#f0f921\"]]}],\"mesh3d\":[{\"type\":\"mesh3d\",\"colorbar\":{\"outlinewidth\":0,\"ticks\":\"\"}}],\"scatter\":[{\"fillpattern\":{\"fillmode\":\"overlay\",\"size\":10,\"solidity\":0.2},\"type\":\"scatter\"}],\"parcoords\":[{\"type\":\"parcoords\",\"line\":{\"colorbar\":{\"outlinewidth\":0,\"ticks\":\"\"}}}],\"scatterpolargl\":[{\"type\":\"scatterpolargl\",\"marker\":{\"colorbar\":{\"outlinewidth\":0,\"ticks\":\"\"}}}],\"bar\":[{\"error_x\":{\"color\":\"#2a3f5f\"},\"error_y\":{\"color\":\"#2a3f5f\"},\"marker\":{\"line\":{\"color\":\"#E5ECF6\",\"width\":0.5},\"pattern\":{\"fillmode\":\"overlay\",\"size\":10,\"solidity\":0.2}},\"type\":\"bar\"}],\"scattergeo\":[{\"type\":\"scattergeo\",\"marker\":{\"colorbar\":{\"outlinewidth\":0,\"ticks\":\"\"}}}],\"scatterpolar\":[{\"type\":\"scatterpolar\",\"marker\":{\"colorbar\":{\"outlinewidth\":0,\"ticks\":\"\"}}}],\"histogram\":[{\"marker\":{\"pattern\":{\"fillmode\":\"overlay\",\"size\":10,\"solidity\":0.2}},\"type\":\"histogram\"}],\"scattergl\":[{\"type\":\"scattergl\",\"marker\":{\"colorbar\":{\"outlinewidth\":0,\"ticks\":\"\"}}}],\"scatter3d\":[{\"type\":\"scatter3d\",\"line\":{\"colorbar\":{\"outlinewidth\":0,\"ticks\":\"\"}},\"marker\":{\"colorbar\":{\"outlinewidth\":0,\"ticks\":\"\"}}}],\"scattermapbox\":[{\"type\":\"scattermapbox\",\"marker\":{\"colorbar\":{\"outlinewidth\":0,\"ticks\":\"\"}}}],\"scatterternary\":[{\"type\":\"scatterternary\",\"marker\":{\"colorbar\":{\"outlinewidth\":0,\"ticks\":\"\"}}}],\"scattercarpet\":[{\"type\":\"scattercarpet\",\"marker\":{\"colorbar\":{\"outlinewidth\":0,\"ticks\":\"\"}}}],\"carpet\":[{\"aaxis\":{\"endlinecolor\":\"#2a3f5f\",\"gridcolor\":\"white\",\"linecolor\":\"white\",\"minorgridcolor\":\"white\",\"startlinecolor\":\"#2a3f5f\"},\"baxis\":{\"endlinecolor\":\"#2a3f5f\",\"gridcolor\":\"white\",\"linecolor\":\"white\",\"minorgridcolor\":\"white\",\"startlinecolor\":\"#2a3f5f\"},\"type\":\"carpet\"}],\"table\":[{\"cells\":{\"fill\":{\"color\":\"#EBF0F8\"},\"line\":{\"color\":\"white\"}},\"header\":{\"fill\":{\"color\":\"#C8D4E3\"},\"line\":{\"color\":\"white\"}},\"type\":\"table\"}],\"barpolar\":[{\"marker\":{\"line\":{\"color\":\"#E5ECF6\",\"width\":0.5},\"pattern\":{\"fillmode\":\"overlay\",\"size\":10,\"solidity\":0.2}},\"type\":\"barpolar\"}],\"pie\":[{\"automargin\":true,\"type\":\"pie\"}]},\"layout\":{\"autotypenumbers\":\"strict\",\"colorway\":[\"#636efa\",\"#EF553B\",\"#00cc96\",\"#ab63fa\",\"#FFA15A\",\"#19d3f3\",\"#FF6692\",\"#B6E880\",\"#FF97FF\",\"#FECB52\"],\"font\":{\"color\":\"#2a3f5f\"},\"hovermode\":\"closest\",\"hoverlabel\":{\"align\":\"left\"},\"paper_bgcolor\":\"white\",\"plot_bgcolor\":\"#E5ECF6\",\"polar\":{\"bgcolor\":\"#E5ECF6\",\"angularaxis\":{\"gridcolor\":\"white\",\"linecolor\":\"white\",\"ticks\":\"\"},\"radialaxis\":{\"gridcolor\":\"white\",\"linecolor\":\"white\",\"ticks\":\"\"}},\"ternary\":{\"bgcolor\":\"#E5ECF6\",\"aaxis\":{\"gridcolor\":\"white\",\"linecolor\":\"white\",\"ticks\":\"\"},\"baxis\":{\"gridcolor\":\"white\",\"linecolor\":\"white\",\"ticks\":\"\"},\"caxis\":{\"gridcolor\":\"white\",\"linecolor\":\"white\",\"ticks\":\"\"}},\"coloraxis\":{\"colorbar\":{\"outlinewidth\":0,\"ticks\":\"\"}},\"colorscale\":{\"sequential\":[[0.0,\"#0d0887\"],[0.1111111111111111,\"#46039f\"],[0.2222222222222222,\"#7201a8\"],[0.3333333333333333,\"#9c179e\"],[0.4444444444444444,\"#bd3786\"],[0.5555555555555556,\"#d8576b\"],[0.6666666666666666,\"#ed7953\"],[0.7777777777777778,\"#fb9f3a\"],[0.8888888888888888,\"#fdca26\"],[1.0,\"#f0f921\"]],\"sequentialminus\":[[0.0,\"#0d0887\"],[0.1111111111111111,\"#46039f\"],[0.2222222222222222,\"#7201a8\"],[0.3333333333333333,\"#9c179e\"],[0.4444444444444444,\"#bd3786\"],[0.5555555555555556,\"#d8576b\"],[0.6666666666666666,\"#ed7953\"],[0.7777777777777778,\"#fb9f3a\"],[0.8888888888888888,\"#fdca26\"],[1.0,\"#f0f921\"]],\"diverging\":[[0,\"#8e0152\"],[0.1,\"#c51b7d\"],[0.2,\"#de77ae\"],[0.3,\"#f1b6da\"],[0.4,\"#fde0ef\"],[0.5,\"#f7f7f7\"],[0.6,\"#e6f5d0\"],[0.7,\"#b8e186\"],[0.8,\"#7fbc41\"],[0.9,\"#4d9221\"],[1,\"#276419\"]]},\"xaxis\":{\"gridcolor\":\"white\",\"linecolor\":\"white\",\"ticks\":\"\",\"title\":{\"standoff\":15},\"zerolinecolor\":\"white\",\"automargin\":true,\"zerolinewidth\":2},\"yaxis\":{\"gridcolor\":\"white\",\"linecolor\":\"white\",\"ticks\":\"\",\"title\":{\"standoff\":15},\"zerolinecolor\":\"white\",\"automargin\":true,\"zerolinewidth\":2},\"scene\":{\"xaxis\":{\"backgroundcolor\":\"#E5ECF6\",\"gridcolor\":\"white\",\"linecolor\":\"white\",\"showbackground\":true,\"ticks\":\"\",\"zerolinecolor\":\"white\",\"gridwidth\":2},\"yaxis\":{\"backgroundcolor\":\"#E5ECF6\",\"gridcolor\":\"white\",\"linecolor\":\"white\",\"showbackground\":true,\"ticks\":\"\",\"zerolinecolor\":\"white\",\"gridwidth\":2},\"zaxis\":{\"backgroundcolor\":\"#E5ECF6\",\"gridcolor\":\"white\",\"linecolor\":\"white\",\"showbackground\":true,\"ticks\":\"\",\"zerolinecolor\":\"white\",\"gridwidth\":2}},\"shapedefaults\":{\"line\":{\"color\":\"#2a3f5f\"}},\"annotationdefaults\":{\"arrowcolor\":\"#2a3f5f\",\"arrowhead\":0,\"arrowwidth\":1},\"geo\":{\"bgcolor\":\"white\",\"landcolor\":\"#E5ECF6\",\"subunitcolor\":\"white\",\"showland\":true,\"showlakes\":true,\"lakecolor\":\"white\"},\"title\":{\"x\":0.05},\"mapbox\":{\"style\":\"light\"}}},\"scene\":{\"domain\":{\"x\":[0.0,1.0],\"y\":[0.0,1.0]},\"xaxis\":{\"title\":{\"text\":\"x\"}},\"yaxis\":{\"title\":{\"text\":\"y\"}},\"zaxis\":{\"title\":{\"text\":\"z\"}}},\"legend\":{\"tracegroupgap\":0},\"margin\":{\"t\":60},\"height\":500,\"width\":500},                        {\"responsive\": true}                    ).then(function(){\n",
       "                            \n",
       "var gd = document.getElementById('b3119853-1e96-435a-8899-664c824b2429');\n",
       "var x = new MutationObserver(function (mutations, observer) {{\n",
       "        var display = window.getComputedStyle(gd).display;\n",
       "        if (!display || display === 'none') {{\n",
       "            console.log([gd, 'removed!']);\n",
       "            Plotly.purge(gd);\n",
       "            observer.disconnect();\n",
       "        }}\n",
       "}});\n",
       "\n",
       "// Listen for the removal of the full notebook cells\n",
       "var notebookContainer = gd.closest('#notebook-container');\n",
       "if (notebookContainer) {{\n",
       "    x.observe(notebookContainer, {childList: true});\n",
       "}}\n",
       "\n",
       "// Listen for the clearing of the current output cell\n",
       "var outputEl = gd.closest('.output');\n",
       "if (outputEl) {{\n",
       "    x.observe(outputEl, {childList: true});\n",
       "}}\n",
       "\n",
       "                        })                };                });            </script>        </div>"
      ]
     },
     "metadata": {},
     "output_type": "display_data"
    }
   ],
   "source": [
    "fig = px.scatter_3d(x=pts[:, 0], y=pts[:, 1], z=pts[:, 2], width=500, height=500)\n",
    "fig.update_traces(marker=dict(size=2))"
   ]
  },
  {
   "cell_type": "code",
   "execution_count": null,
   "id": "d986da3f-2010-465d-943c-ff80f24bac2e",
   "metadata": {},
   "outputs": [],
   "source": []
  }
 ],
 "metadata": {
  "kernelspec": {
   "display_name": "env_simba",
   "language": "python",
   "name": "env_simba"
  },
  "language_info": {
   "codemirror_mode": {
    "name": "ipython",
    "version": 3
   },
   "file_extension": ".py",
   "mimetype": "text/x-python",
   "name": "python",
   "nbconvert_exporter": "python",
   "pygments_lexer": "ipython3",
   "version": "3.11.11"
  }
 },
 "nbformat": 4,
 "nbformat_minor": 5
}
