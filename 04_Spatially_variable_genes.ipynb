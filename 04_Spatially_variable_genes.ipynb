{
 "cells": [
  {
   "cell_type": "markdown",
   "id": "8ba0ec95-8d51-4085-88f0-757f4af2c7fe",
   "metadata": {},
   "source": [
    "# 04_Spatially_variable_genes"
   ]
  },
  {
   "cell_type": "code",
   "execution_count": null,
   "id": "4bbe1f1e-318a-43cf-b69f-bbc25a96612b",
   "metadata": {},
   "outputs": [],
   "source": []
  }
 ],
 "metadata": {
  "kernelspec": {
   "display_name": "env_simba",
   "language": "python",
   "name": "env_simba"
  },
  "language_info": {
   "codemirror_mode": {
    "name": "ipython",
    "version": 3
   },
   "file_extension": ".py",
   "mimetype": "text/x-python",
   "name": "python",
   "nbconvert_exporter": "python",
   "pygments_lexer": "ipython3",
   "version": "3.11.11"
  }
 },
 "nbformat": 4,
 "nbformat_minor": 5
}
